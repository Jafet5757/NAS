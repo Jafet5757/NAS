{
  "cells": [
    {
      "cell_type": "markdown",
      "metadata": {
        "id": "DrPJW9t8ZDsw"
      },
      "source": [
        "# Comparación score vs accuracy"
      ]
    },
    {
      "cell_type": "markdown",
      "metadata": {},
      "source": [
        "Importamos las librerias"
      ]
    },
    {
      "cell_type": "code",
      "execution_count": 296,
      "metadata": {
        "id": "pxBWYEiKY_Az"
      },
      "outputs": [],
      "source": [
        "import tensorflow as tf\n",
        "from tensorflow import keras\n",
        "from tensorflow.keras.datasets import mnist\n",
        "from tensorflow.keras.utils import to_categorical\n",
        "import matplotlib.pyplot as plt\n",
        "import numpy as np\n",
        "import random\n",
        "import os\n",
        "from dotenv import load_dotenv"
      ]
    },
    {
      "cell_type": "markdown",
      "metadata": {},
      "source": [
        "Definimos la semilla"
      ]
    },
    {
      "cell_type": "code",
      "execution_count": 297,
      "metadata": {},
      "outputs": [],
      "source": [
        "# Cargamos las variables de entorno\n",
        "load_dotenv(dotenv_path='./../variables.env')\n",
        "\n",
        "seed = int(os.getenv(\"SEED\"))\n",
        "\n",
        "def set_seed():\n",
        "    os.environ['TF_DETERMINISTIC_OPS'] = '1'\n",
        "    os.environ['PYTHONHASHSEED'] = str(seed)\n",
        "    random.seed(seed)\n",
        "    np.random.seed(seed)\n",
        "    tf.random.set_seed(seed)\n",
        "\n",
        "set_seed()\n"
      ]
    },
    {
      "cell_type": "markdown",
      "metadata": {
        "id": "_LzdSwyrZEe8"
      },
      "source": [
        "# Carga de datos"
      ]
    },
    {
      "cell_type": "code",
      "execution_count": 298,
      "metadata": {
        "colab": {
          "base_uri": "https://localhost:8080/"
        },
        "id": "kc47gzIwZCFh",
        "outputId": "92774ec4-2e06-43e4-a1b8-62a9098a5d22"
      },
      "outputs": [],
      "source": [
        "# Cargar el dataset MNIST\n",
        "(X_train, y_train), (X_test, y_test) = mnist.load_data()\n",
        "\n",
        "# Normalizar las imágenes a un rango de 0 a 1\n",
        "X_train = X_train.astype('float32') / 255.0\n",
        "X_test = X_test.astype('float32') / 255.0\n",
        "\n",
        "# Si las imágenes son de una sola canal (escala de grises), necesitas agregar una dimensión extra\n",
        "# para que sean compatibles con las capas de convolución de Keras\n",
        "X_train = X_train.reshape((X_train.shape[0], 28, 28, 1))\n",
        "X_test = X_test.reshape((X_test.shape[0], 28, 28, 1))"
      ]
    },
    {
      "cell_type": "code",
      "execution_count": 299,
      "metadata": {
        "colab": {
          "base_uri": "https://localhost:8080/",
          "height": 447
        },
        "id": "LacGd_wGZJAd",
        "outputId": "f884c434-23e5-4792-85e2-ec24afedb5e2"
      },
      "outputs": [
        {
          "name": "stdout",
          "output_type": "stream",
          "text": [
            "5\n",
            "(28, 28, 1)\n"
          ]
        },
        {
          "data": {
            "image/png": "[encoded data removed]",
            "text/plain": [
              "<Figure size 640x480 with 1 Axes>"
            ]
          },
          "metadata": {},
          "output_type": "display_data"
        }
      ],
      "source": [
        "plt.imshow(X_train[0], cmap='gray')\n",
        "print(y_train[0])\n",
        "print(X_train[0].shape)"
      ]
    },
    {
      "cell_type": "markdown",
      "metadata": {
        "id": "p1EvnACqZHY8"
      },
      "source": [
        "# Modelos"
      ]
    },
    {
      "cell_type": "code",
      "execution_count": 300,
      "metadata": {},
      "outputs": [],
      "source": [
        "\n",
        "# seteamos la semilla\n",
        "set_seed()\n",
        "# Creamos el modelo de red neuronal Alta precisión\n",
        "model_good = keras.Sequential([\n",
        "  keras.layers.Flatten(input_shape=(28, 28)),\n",
        "  keras.layers.Dense(10, activation='softmax')\n",
        "])\n",
        "\n",
        "# seteamos la semilla\n",
        "set_seed()\n",
        "# Creamos el modelo de red neuronal Media precisión\n",
        "model_medium = keras.Sequential([\n",
        "  keras.layers.Flatten(input_shape=(28, 28)),\n",
        "  keras.layers.Dense(99, activation='softmax', kernel_initializer='ones', bias_initializer='ones'),\n",
        "  keras.layers.Dense(28, activation='linear', kernel_initializer='ones', bias_initializer='ones'),\n",
        "  keras.layers.Dense(10, activation='softmax')\n",
        "])\n",
        "\n",
        "# seteamos la semilla\n",
        "set_seed()\n",
        "# Creamos el modelo de red neuronal Baja precisión\n",
        "model_bad = keras.Sequential([\n",
        "  keras.layers.Flatten(input_shape=(28, 28)),\n",
        "  keras.layers.Dense(33, activation='elu', kernel_initializer='ones', bias_initializer='ones'),\n",
        "  keras.layers.Dense(88, activation='sigmoid', kernel_initializer='ones', bias_initializer='ones'),\n",
        "  keras.layers.Dense(10, activation='softmax')\n",
        "])\n"
      ]
    },
    {
      "cell_type": "markdown",
      "metadata": {},
      "source": [
        "# Predecimos los modelos antes de entrenarlos"
      ]
    },
    {
      "cell_type": "markdown",
      "metadata": {},
      "source": [
        "## Técnica de estimación\n",
        "Programamos SynFlow"
      ]
    },
    {
      "cell_type": "code",
      "execution_count": 301,
      "metadata": {},
      "outputs": [],
      "source": [
        "def linearize(model):\n",
        "  \"\"\" \n",
        "    Get the absolute value of the weights of the model and return the signs of the weights \n",
        "  \"\"\"\n",
        "  signs = []\n",
        "  for layer in model.layers:\n",
        "    if len(layer.get_weights()) > 0:\n",
        "      weights = layer.get_weights()\n",
        "      layer_signs = [np.sign(w) for w in weights]\n",
        "      new_weights = [np.abs(w) for w in weights]\n",
        "      layer.set_weights(new_weights)\n",
        "      signs.append(layer_signs)\n",
        "  return signs\n",
        "\n",
        "\n",
        "def compute_synflow_per_weight(model, input_shape):\n",
        "  signs = linearize(model) # Get the signs of the weights and transform the absolute value of the weights\n",
        "\n",
        "  inputs = np.ones((1,)+input_shape)\n",
        "  with tf.GradientTape() as tape:\n",
        "    trainable_variables = [tf.Variable(v) for v in model.trainable_variables]\n",
        "    tape.watch(trainable_variables)\n",
        "    outputs = model(inputs)\n",
        "    loss = tf.reduce_sum(outputs)\n",
        "  grads = tape.gradient(loss, model.trainable_variables)\n",
        "\n",
        "  # Apply gradient clipping to avoid numerical instability\n",
        "  grads = [tf.clip_by_value(grad, -1.0, 1.0) for grad in grads]\n",
        "\n",
        "  # Diagnostic prints for gradients and weights\n",
        "  for i, g in enumerate(grads):\n",
        "    print(f\"Gradient of layer {i}: {g.numpy()}\")\n",
        "    if np.isnan(g.numpy()).any():\n",
        "      print(f\"NaN detected in gradient of layer {i}: {g.numpy()}\")\n",
        "      # Pause and wait for user input\n",
        "      print(\"Model summary:\")\n",
        "      model.summary()\n",
        "      input(\"NaN detected. Press enter to continue...\")\n",
        "      return None\n",
        "    \n",
        "  for i, w in enumerate(model.trainable_variables):\n",
        "    print(f\"Weights of layer {i}: {w.numpy()}\")\n",
        "    if np.isnan(w.numpy()).any():\n",
        "      print(f\"NaN detected in weights of layer {i}: {w.numpy()}\")\n",
        "      # Pause and wait for user input\n",
        "      print(\"Model summary:\")\n",
        "      model.summary()\n",
        "      for i, g in enumerate(grads):\n",
        "        print(f\"Gradient of layer {i}: {g.numpy()}\")\n",
        "      input(\"NaN detected. Press enter to continue...\")\n",
        "      return None\n",
        "      \n",
        "    synflow_scores = [np.abs(w.numpy() * g.numpy()) for w, g in zip(model.trainable_variables, grads)]\n",
        "\n",
        "    return synflow_scores"
      ]
    },
    {
      "cell_type": "markdown",
      "metadata": {},
      "source": [
        "### Predicción de redes"
      ]
    },
    {
      "cell_type": "code",
      "execution_count": 302,
      "metadata": {},
      "outputs": [
        {
          "name": "stdout",
          "output_type": "stream",
          "text": [
            "Gradient of layer 0: [[0. 0. 0. ... 0. 0. 0.]\n",
            " [0. 0. 0. ... 0. 0. 0.]\n",
            " [0. 0. 0. ... 0. 0. 0.]\n",
            " ...\n",
            " [0. 0. 0. ... 0. 0. 0.]\n",
            " [0. 0. 0. ... 0. 0. 0.]\n",
            " [0. 0. 0. ... 0. 0. 0.]]\n",
            "Gradient of layer 1: [0. 0. 0. 0. 0. 0. 0. 0. 0. 0.]\n",
            "Weights of layer 0: [[0.06723805 0.02281527 0.0312272  ... 0.02228066 0.07102733 0.07826676]\n",
            " [0.02616618 0.04184984 0.03839401 ... 0.04600827 0.08372114 0.02616396]\n",
            " [0.05204278 0.05119664 0.0117648  ... 0.00252932 0.00818146 0.06342221]\n",
            " ...\n",
            " [0.06795824 0.06136236 0.00089082 ... 0.03492729 0.05957948 0.04928385]\n",
            " [0.04464015 0.05181494 0.02156544 ... 0.05944546 0.05149253 0.08353683]\n",
            " [0.06843249 0.07961046 0.07755096 ... 0.07426614 0.05267587 0.01651125]]\n",
            "Gradient of layer 0: [[0. 0. 0. ... 0. 0. 0.]\n",
            " [0. 0. 0. ... 0. 0. 0.]\n",
            " [0. 0. 0. ... 0. 0. 0.]\n",
            " ...\n",
            " [0. 0. 0. ... 0. 0. 0.]\n",
            " [0. 0. 0. ... 0. 0. 0.]\n",
            " [0. 0. 0. ... 0. 0. 0.]]\n",
            "Gradient of layer 1: [0. 0. 0. 0. 0. 0. 0. 0. 0. 0. 0. 0. 0. 0. 0. 0. 0. 0. 0. 0. 0. 0. 0. 0.\n",
            " 0. 0. 0. 0. 0. 0. 0. 0. 0. 0. 0. 0. 0. 0. 0. 0. 0. 0. 0. 0. 0. 0. 0. 0.\n",
            " 0. 0. 0. 0. 0. 0. 0. 0. 0. 0. 0. 0. 0. 0. 0. 0. 0. 0. 0. 0. 0. 0. 0. 0.\n",
            " 0. 0. 0. 0. 0. 0. 0. 0. 0. 0. 0. 0. 0. 0. 0. 0. 0. 0. 0. 0. 0. 0. 0. 0.\n",
            " 0. 0. 0.]\n",
            "Gradient of layer 2: [[0. 0. 0. ... 0. 0. 0.]\n",
            " [0. 0. 0. ... 0. 0. 0.]\n",
            " [0. 0. 0. ... 0. 0. 0.]\n",
            " ...\n",
            " [0. 0. 0. ... 0. 0. 0.]\n",
            " [0. 0. 0. ... 0. 0. 0.]\n",
            " [0. 0. 0. ... 0. 0. 0.]]\n",
            "Gradient of layer 3: [0. 0. 0. 0. 0. 0. 0. 0. 0. 0. 0. 0. 0. 0. 0. 0. 0. 0. 0. 0. 0. 0. 0. 0.\n",
            " 0. 0. 0. 0.]\n",
            "Gradient of layer 4: [[0. 0. 0. 0. 0. 0. 0. 0. 0. 0.]\n",
            " [0. 0. 0. 0. 0. 0. 0. 0. 0. 0.]\n",
            " [0. 0. 0. 0. 0. 0. 0. 0. 0. 0.]\n",
            " [0. 0. 0. 0. 0. 0. 0. 0. 0. 0.]\n",
            " [0. 0. 0. 0. 0. 0. 0. 0. 0. 0.]\n",
            " [0. 0. 0. 0. 0. 0. 0. 0. 0. 0.]\n",
            " [0. 0. 0. 0. 0. 0. 0. 0. 0. 0.]\n",
            " [0. 0. 0. 0. 0. 0. 0. 0. 0. 0.]\n",
            " [0. 0. 0. 0. 0. 0. 0. 0. 0. 0.]\n",
            " [0. 0. 0. 0. 0. 0. 0. 0. 0. 0.]\n",
            " [0. 0. 0. 0. 0. 0. 0. 0. 0. 0.]\n",
            " [0. 0. 0. 0. 0. 0. 0. 0. 0. 0.]\n",
            " [0. 0. 0. 0. 0. 0. 0. 0. 0. 0.]\n",
            " [0. 0. 0. 0. 0. 0. 0. 0. 0. 0.]\n",
            " [0. 0. 0. 0. 0. 0. 0. 0. 0. 0.]\n",
            " [0. 0. 0. 0. 0. 0. 0. 0. 0. 0.]\n",
            " [0. 0. 0. 0. 0. 0. 0. 0. 0. 0.]\n",
            " [0. 0. 0. 0. 0. 0. 0. 0. 0. 0.]\n",
            " [0. 0. 0. 0. 0. 0. 0. 0. 0. 0.]\n",
            " [0. 0. 0. 0. 0. 0. 0. 0. 0. 0.]\n",
            " [0. 0. 0. 0. 0. 0. 0. 0. 0. 0.]\n",
            " [0. 0. 0. 0. 0. 0. 0. 0. 0. 0.]\n",
            " [0. 0. 0. 0. 0. 0. 0. 0. 0. 0.]\n",
            " [0. 0. 0. 0. 0. 0. 0. 0. 0. 0.]\n",
            " [0. 0. 0. 0. 0. 0. 0. 0. 0. 0.]\n",
            " [0. 0. 0. 0. 0. 0. 0. 0. 0. 0.]\n",
            " [0. 0. 0. 0. 0. 0. 0. 0. 0. 0.]\n",
            " [0. 0. 0. 0. 0. 0. 0. 0. 0. 0.]]\n",
            "Gradient of layer 5: [0. 0. 0. 0. 0. 0. 0. 0. 0. 0.]\n",
            "Weights of layer 0: [[1. 1. 1. ... 1. 1. 1.]\n",
            " [1. 1. 1. ... 1. 1. 1.]\n",
            " [1. 1. 1. ... 1. 1. 1.]\n",
            " ...\n",
            " [1. 1. 1. ... 1. 1. 1.]\n",
            " [1. 1. 1. ... 1. 1. 1.]\n",
            " [1. 1. 1. ... 1. 1. 1.]]\n",
            "Gradient of layer 0: [[0. 0. 0. ... 0. 0. 0.]\n",
            " [0. 0. 0. ... 0. 0. 0.]\n",
            " [0. 0. 0. ... 0. 0. 0.]\n",
            " ...\n",
            " [0. 0. 0. ... 0. 0. 0.]\n",
            " [0. 0. 0. ... 0. 0. 0.]\n",
            " [0. 0. 0. ... 0. 0. 0.]]\n",
            "Gradient of layer 1: [0. 0. 0. 0. 0. 0. 0. 0. 0. 0. 0. 0. 0. 0. 0. 0. 0. 0. 0. 0. 0. 0. 0. 0.\n",
            " 0. 0. 0. 0. 0. 0. 0. 0. 0.]\n",
            "Gradient of layer 2: [[0. 0. 0. ... 0. 0. 0.]\n",
            " [0. 0. 0. ... 0. 0. 0.]\n",
            " [0. 0. 0. ... 0. 0. 0.]\n",
            " ...\n",
            " [0. 0. 0. ... 0. 0. 0.]\n",
            " [0. 0. 0. ... 0. 0. 0.]\n",
            " [0. 0. 0. ... 0. 0. 0.]]\n",
            "Gradient of layer 3: [0. 0. 0. 0. 0. 0. 0. 0. 0. 0. 0. 0. 0. 0. 0. 0. 0. 0. 0. 0. 0. 0. 0. 0.\n",
            " 0. 0. 0. 0. 0. 0. 0. 0. 0. 0. 0. 0. 0. 0. 0. 0. 0. 0. 0. 0. 0. 0. 0. 0.\n",
            " 0. 0. 0. 0. 0. 0. 0. 0. 0. 0. 0. 0. 0. 0. 0. 0. 0. 0. 0. 0. 0. 0. 0. 0.\n",
            " 0. 0. 0. 0. 0. 0. 0. 0. 0. 0. 0. 0. 0. 0. 0. 0.]\n",
            "Gradient of layer 4: [[5.7417564e-09 3.2622387e-09 2.0074125e-09 7.6203497e-09 9.0013446e-09\n",
            "  3.7349741e-09 6.9024657e-09 4.8776241e-09 7.5487927e-09 8.9076826e-09]\n",
            " [5.7417564e-09 3.2622387e-09 2.0074125e-09 7.6203497e-09 9.0013446e-09\n",
            "  3.7349741e-09 6.9024657e-09 4.8776241e-09 7.5487927e-09 8.9076826e-09]\n",
            " [5.7417564e-09 3.2622387e-09 2.0074125e-09 7.6203497e-09 9.0013446e-09\n",
            "  3.7349741e-09 6.9024657e-09 4.8776241e-09 7.5487927e-09 8.9076826e-09]\n",
            " [5.7417564e-09 3.2622387e-09 2.0074125e-09 7.6203497e-09 9.0013446e-09\n",
            "  3.7349741e-09 6.9024657e-09 4.8776241e-09 7.5487927e-09 8.9076826e-09]\n",
            " [5.7417564e-09 3.2622387e-09 2.0074125e-09 7.6203497e-09 9.0013446e-09\n",
            "  3.7349741e-09 6.9024657e-09 4.8776241e-09 7.5487927e-09 8.9076826e-09]\n",
            " [5.7417564e-09 3.2622387e-09 2.0074125e-09 7.6203497e-09 9.0013446e-09\n",
            "  3.7349741e-09 6.9024657e-09 4.8776241e-09 7.5487927e-09 8.9076826e-09]\n",
            " [5.7417564e-09 3.2622387e-09 2.0074125e-09 7.6203497e-09 9.0013446e-09\n",
            "  3.7349741e-09 6.9024657e-09 4.8776241e-09 7.5487927e-09 8.9076826e-09]\n",
            " [5.7417564e-09 3.2622387e-09 2.0074125e-09 7.6203497e-09 9.0013446e-09\n",
            "  3.7349741e-09 6.9024657e-09 4.8776241e-09 7.5487927e-09 8.9076826e-09]\n",
            " [5.7417564e-09 3.2622387e-09 2.0074125e-09 7.6203497e-09 9.0013446e-09\n",
            "  3.7349741e-09 6.9024657e-09 4.8776241e-09 7.5487927e-09 8.9076826e-09]\n",
            " [5.7417564e-09 3.2622387e-09 2.0074125e-09 7.6203497e-09 9.0013446e-09\n",
            "  3.7349741e-09 6.9024657e-09 4.8776241e-09 7.5487927e-09 8.9076826e-09]\n",
            " [5.7417564e-09 3.2622387e-09 2.0074125e-09 7.6203497e-09 9.0013446e-09\n",
            "  3.7349741e-09 6.9024657e-09 4.8776241e-09 7.5487927e-09 8.9076826e-09]\n",
            " [5.7417564e-09 3.2622387e-09 2.0074125e-09 7.6203497e-09 9.0013446e-09\n",
            "  3.7349741e-09 6.9024657e-09 4.8776241e-09 7.5487927e-09 8.9076826e-09]\n",
            " [5.7417564e-09 3.2622387e-09 2.0074125e-09 7.6203497e-09 9.0013446e-09\n",
            "  3.7349741e-09 6.9024657e-09 4.8776241e-09 7.5487927e-09 8.9076826e-09]\n",
            " [5.7417564e-09 3.2622387e-09 2.0074125e-09 7.6203497e-09 9.0013446e-09\n",
            "  3.7349741e-09 6.9024657e-09 4.8776241e-09 7.5487927e-09 8.9076826e-09]\n",
            " [5.7417564e-09 3.2622387e-09 2.0074125e-09 7.6203497e-09 9.0013446e-09\n",
            "  3.7349741e-09 6.9024657e-09 4.8776241e-09 7.5487927e-09 8.9076826e-09]\n",
            " [5.7417564e-09 3.2622387e-09 2.0074125e-09 7.6203497e-09 9.0013446e-09\n",
            "  3.7349741e-09 6.9024657e-09 4.8776241e-09 7.5487927e-09 8.9076826e-09]\n",
            " [5.7417564e-09 3.2622387e-09 2.0074125e-09 7.6203497e-09 9.0013446e-09\n",
            "  3.7349741e-09 6.9024657e-09 4.8776241e-09 7.5487927e-09 8.9076826e-09]\n",
            " [5.7417564e-09 3.2622387e-09 2.0074125e-09 7.6203497e-09 9.0013446e-09\n",
            "  3.7349741e-09 6.9024657e-09 4.8776241e-09 7.5487927e-09 8.9076826e-09]\n",
            " [5.7417564e-09 3.2622387e-09 2.0074125e-09 7.6203497e-09 9.0013446e-09\n",
            "  3.7349741e-09 6.9024657e-09 4.8776241e-09 7.5487927e-09 8.9076826e-09]\n",
            " [5.7417564e-09 3.2622387e-09 2.0074125e-09 7.6203497e-09 9.0013446e-09\n",
            "  3.7349741e-09 6.9024657e-09 4.8776241e-09 7.5487927e-09 8.9076826e-09]\n",
            " [5.7417564e-09 3.2622387e-09 2.0074125e-09 7.6203497e-09 9.0013446e-09\n",
            "  3.7349741e-09 6.9024657e-09 4.8776241e-09 7.5487927e-09 8.9076826e-09]\n",
            " [5.7417564e-09 3.2622387e-09 2.0074125e-09 7.6203497e-09 9.0013446e-09\n",
            "  3.7349741e-09 6.9024657e-09 4.8776241e-09 7.5487927e-09 8.9076826e-09]\n",
            " [5.7417564e-09 3.2622387e-09 2.0074125e-09 7.6203497e-09 9.0013446e-09\n",
            "  3.7349741e-09 6.9024657e-09 4.8776241e-09 7.5487927e-09 8.9076826e-09]\n",
            " [5.7417564e-09 3.2622387e-09 2.0074125e-09 7.6203497e-09 9.0013446e-09\n",
            "  3.7349741e-09 6.9024657e-09 4.8776241e-09 7.5487927e-09 8.9076826e-09]\n",
            " [5.7417564e-09 3.2622387e-09 2.0074125e-09 7.6203497e-09 9.0013446e-09\n",
            "  3.7349741e-09 6.9024657e-09 4.8776241e-09 7.5487927e-09 8.9076826e-09]\n",
            " [5.7417564e-09 3.2622387e-09 2.0074125e-09 7.6203497e-09 9.0013446e-09\n",
            "  3.7349741e-09 6.9024657e-09 4.8776241e-09 7.5487927e-09 8.9076826e-09]\n",
            " [5.7417564e-09 3.2622387e-09 2.0074125e-09 7.6203497e-09 9.0013446e-09\n",
            "  3.7349741e-09 6.9024657e-09 4.8776241e-09 7.5487927e-09 8.9076826e-09]\n",
            " [5.7417564e-09 3.2622387e-09 2.0074125e-09 7.6203497e-09 9.0013446e-09\n",
            "  3.7349741e-09 6.9024657e-09 4.8776241e-09 7.5487927e-09 8.9076826e-09]\n",
            " [5.7417564e-09 3.2622387e-09 2.0074125e-09 7.6203497e-09 9.0013446e-09\n",
            "  3.7349741e-09 6.9024657e-09 4.8776241e-09 7.5487927e-09 8.9076826e-09]\n",
            " [5.7417564e-09 3.2622387e-09 2.0074125e-09 7.6203497e-09 9.0013446e-09\n",
            "  3.7349741e-09 6.9024657e-09 4.8776241e-09 7.5487927e-09 8.9076826e-09]\n",
            " [5.7417564e-09 3.2622387e-09 2.0074125e-09 7.6203497e-09 9.0013446e-09\n",
            "  3.7349741e-09 6.9024657e-09 4.8776241e-09 7.5487927e-09 8.9076826e-09]\n",
            " [5.7417564e-09 3.2622387e-09 2.0074125e-09 7.6203497e-09 9.0013446e-09\n",
            "  3.7349741e-09 6.9024657e-09 4.8776241e-09 7.5487927e-09 8.9076826e-09]\n",
            " [5.7417564e-09 3.2622387e-09 2.0074125e-09 7.6203497e-09 9.0013446e-09\n",
            "  3.7349741e-09 6.9024657e-09 4.8776241e-09 7.5487927e-09 8.9076826e-09]\n",
            " [5.7417564e-09 3.2622387e-09 2.0074125e-09 7.6203497e-09 9.0013446e-09\n",
            "  3.7349741e-09 6.9024657e-09 4.8776241e-09 7.5487927e-09 8.9076826e-09]\n",
            " [5.7417564e-09 3.2622387e-09 2.0074125e-09 7.6203497e-09 9.0013446e-09\n",
            "  3.7349741e-09 6.9024657e-09 4.8776241e-09 7.5487927e-09 8.9076826e-09]\n",
            " [5.7417564e-09 3.2622387e-09 2.0074125e-09 7.6203497e-09 9.0013446e-09\n",
            "  3.7349741e-09 6.9024657e-09 4.8776241e-09 7.5487927e-09 8.9076826e-09]\n",
            " [5.7417564e-09 3.2622387e-09 2.0074125e-09 7.6203497e-09 9.0013446e-09\n",
            "  3.7349741e-09 6.9024657e-09 4.8776241e-09 7.5487927e-09 8.9076826e-09]\n",
            " [5.7417564e-09 3.2622387e-09 2.0074125e-09 7.6203497e-09 9.0013446e-09\n",
            "  3.7349741e-09 6.9024657e-09 4.8776241e-09 7.5487927e-09 8.9076826e-09]\n",
            " [5.7417564e-09 3.2622387e-09 2.0074125e-09 7.6203497e-09 9.0013446e-09\n",
            "  3.7349741e-09 6.9024657e-09 4.8776241e-09 7.5487927e-09 8.9076826e-09]\n",
            " [5.7417564e-09 3.2622387e-09 2.0074125e-09 7.6203497e-09 9.0013446e-09\n",
            "  3.7349741e-09 6.9024657e-09 4.8776241e-09 7.5487927e-09 8.9076826e-09]\n",
            " [5.7417564e-09 3.2622387e-09 2.0074125e-09 7.6203497e-09 9.0013446e-09\n",
            "  3.7349741e-09 6.9024657e-09 4.8776241e-09 7.5487927e-09 8.9076826e-09]\n",
            " [5.7417564e-09 3.2622387e-09 2.0074125e-09 7.6203497e-09 9.0013446e-09\n",
            "  3.7349741e-09 6.9024657e-09 4.8776241e-09 7.5487927e-09 8.9076826e-09]\n",
            " [5.7417564e-09 3.2622387e-09 2.0074125e-09 7.6203497e-09 9.0013446e-09\n",
            "  3.7349741e-09 6.9024657e-09 4.8776241e-09 7.5487927e-09 8.9076826e-09]\n",
            " [5.7417564e-09 3.2622387e-09 2.0074125e-09 7.6203497e-09 9.0013446e-09\n",
            "  3.7349741e-09 6.9024657e-09 4.8776241e-09 7.5487927e-09 8.9076826e-09]\n",
            " [5.7417564e-09 3.2622387e-09 2.0074125e-09 7.6203497e-09 9.0013446e-09\n",
            "  3.7349741e-09 6.9024657e-09 4.8776241e-09 7.5487927e-09 8.9076826e-09]\n",
            " [5.7417564e-09 3.2622387e-09 2.0074125e-09 7.6203497e-09 9.0013446e-09\n",
            "  3.7349741e-09 6.9024657e-09 4.8776241e-09 7.5487927e-09 8.9076826e-09]\n",
            " [5.7417564e-09 3.2622387e-09 2.0074125e-09 7.6203497e-09 9.0013446e-09\n",
            "  3.7349741e-09 6.9024657e-09 4.8776241e-09 7.5487927e-09 8.9076826e-09]\n",
            " [5.7417564e-09 3.2622387e-09 2.0074125e-09 7.6203497e-09 9.0013446e-09\n",
            "  3.7349741e-09 6.9024657e-09 4.8776241e-09 7.5487927e-09 8.9076826e-09]\n",
            " [5.7417564e-09 3.2622387e-09 2.0074125e-09 7.6203497e-09 9.0013446e-09\n",
            "  3.7349741e-09 6.9024657e-09 4.8776241e-09 7.5487927e-09 8.9076826e-09]\n",
            " [5.7417564e-09 3.2622387e-09 2.0074125e-09 7.6203497e-09 9.0013446e-09\n",
            "  3.7349741e-09 6.9024657e-09 4.8776241e-09 7.5487927e-09 8.9076826e-09]\n",
            " [5.7417564e-09 3.2622387e-09 2.0074125e-09 7.6203497e-09 9.0013446e-09\n",
            "  3.7349741e-09 6.9024657e-09 4.8776241e-09 7.5487927e-09 8.9076826e-09]\n",
            " [5.7417564e-09 3.2622387e-09 2.0074125e-09 7.6203497e-09 9.0013446e-09\n",
            "  3.7349741e-09 6.9024657e-09 4.8776241e-09 7.5487927e-09 8.9076826e-09]\n",
            " [5.7417564e-09 3.2622387e-09 2.0074125e-09 7.6203497e-09 9.0013446e-09\n",
            "  3.7349741e-09 6.9024657e-09 4.8776241e-09 7.5487927e-09 8.9076826e-09]\n",
            " [5.7417564e-09 3.2622387e-09 2.0074125e-09 7.6203497e-09 9.0013446e-09\n",
            "  3.7349741e-09 6.9024657e-09 4.8776241e-09 7.5487927e-09 8.9076826e-09]\n",
            " [5.7417564e-09 3.2622387e-09 2.0074125e-09 7.6203497e-09 9.0013446e-09\n",
            "  3.7349741e-09 6.9024657e-09 4.8776241e-09 7.5487927e-09 8.9076826e-09]\n",
            " [5.7417564e-09 3.2622387e-09 2.0074125e-09 7.6203497e-09 9.0013446e-09\n",
            "  3.7349741e-09 6.9024657e-09 4.8776241e-09 7.5487927e-09 8.9076826e-09]\n",
            " [5.7417564e-09 3.2622387e-09 2.0074125e-09 7.6203497e-09 9.0013446e-09\n",
            "  3.7349741e-09 6.9024657e-09 4.8776241e-09 7.5487927e-09 8.9076826e-09]\n",
            " [5.7417564e-09 3.2622387e-09 2.0074125e-09 7.6203497e-09 9.0013446e-09\n",
            "  3.7349741e-09 6.9024657e-09 4.8776241e-09 7.5487927e-09 8.9076826e-09]\n",
            " [5.7417564e-09 3.2622387e-09 2.0074125e-09 7.6203497e-09 9.0013446e-09\n",
            "  3.7349741e-09 6.9024657e-09 4.8776241e-09 7.5487927e-09 8.9076826e-09]\n",
            " [5.7417564e-09 3.2622387e-09 2.0074125e-09 7.6203497e-09 9.0013446e-09\n",
            "  3.7349741e-09 6.9024657e-09 4.8776241e-09 7.5487927e-09 8.9076826e-09]\n",
            " [5.7417564e-09 3.2622387e-09 2.0074125e-09 7.6203497e-09 9.0013446e-09\n",
            "  3.7349741e-09 6.9024657e-09 4.8776241e-09 7.5487927e-09 8.9076826e-09]\n",
            " [5.7417564e-09 3.2622387e-09 2.0074125e-09 7.6203497e-09 9.0013446e-09\n",
            "  3.7349741e-09 6.9024657e-09 4.8776241e-09 7.5487927e-09 8.9076826e-09]\n",
            " [5.7417564e-09 3.2622387e-09 2.0074125e-09 7.6203497e-09 9.0013446e-09\n",
            "  3.7349741e-09 6.9024657e-09 4.8776241e-09 7.5487927e-09 8.9076826e-09]\n",
            " [5.7417564e-09 3.2622387e-09 2.0074125e-09 7.6203497e-09 9.0013446e-09\n",
            "  3.7349741e-09 6.9024657e-09 4.8776241e-09 7.5487927e-09 8.9076826e-09]\n",
            " [5.7417564e-09 3.2622387e-09 2.0074125e-09 7.6203497e-09 9.0013446e-09\n",
            "  3.7349741e-09 6.9024657e-09 4.8776241e-09 7.5487927e-09 8.9076826e-09]\n",
            " [5.7417564e-09 3.2622387e-09 2.0074125e-09 7.6203497e-09 9.0013446e-09\n",
            "  3.7349741e-09 6.9024657e-09 4.8776241e-09 7.5487927e-09 8.9076826e-09]\n",
            " [5.7417564e-09 3.2622387e-09 2.0074125e-09 7.6203497e-09 9.0013446e-09\n",
            "  3.7349741e-09 6.9024657e-09 4.8776241e-09 7.5487927e-09 8.9076826e-09]\n",
            " [5.7417564e-09 3.2622387e-09 2.0074125e-09 7.6203497e-09 9.0013446e-09\n",
            "  3.7349741e-09 6.9024657e-09 4.8776241e-09 7.5487927e-09 8.9076826e-09]\n",
            " [5.7417564e-09 3.2622387e-09 2.0074125e-09 7.6203497e-09 9.0013446e-09\n",
            "  3.7349741e-09 6.9024657e-09 4.8776241e-09 7.5487927e-09 8.9076826e-09]\n",
            " [5.7417564e-09 3.2622387e-09 2.0074125e-09 7.6203497e-09 9.0013446e-09\n",
            "  3.7349741e-09 6.9024657e-09 4.8776241e-09 7.5487927e-09 8.9076826e-09]\n",
            " [5.7417564e-09 3.2622387e-09 2.0074125e-09 7.6203497e-09 9.0013446e-09\n",
            "  3.7349741e-09 6.9024657e-09 4.8776241e-09 7.5487927e-09 8.9076826e-09]\n",
            " [5.7417564e-09 3.2622387e-09 2.0074125e-09 7.6203497e-09 9.0013446e-09\n",
            "  3.7349741e-09 6.9024657e-09 4.8776241e-09 7.5487927e-09 8.9076826e-09]\n",
            " [5.7417564e-09 3.2622387e-09 2.0074125e-09 7.6203497e-09 9.0013446e-09\n",
            "  3.7349741e-09 6.9024657e-09 4.8776241e-09 7.5487927e-09 8.9076826e-09]\n",
            " [5.7417564e-09 3.2622387e-09 2.0074125e-09 7.6203497e-09 9.0013446e-09\n",
            "  3.7349741e-09 6.9024657e-09 4.8776241e-09 7.5487927e-09 8.9076826e-09]\n",
            " [5.7417564e-09 3.2622387e-09 2.0074125e-09 7.6203497e-09 9.0013446e-09\n",
            "  3.7349741e-09 6.9024657e-09 4.8776241e-09 7.5487927e-09 8.9076826e-09]\n",
            " [5.7417564e-09 3.2622387e-09 2.0074125e-09 7.6203497e-09 9.0013446e-09\n",
            "  3.7349741e-09 6.9024657e-09 4.8776241e-09 7.5487927e-09 8.9076826e-09]\n",
            " [5.7417564e-09 3.2622387e-09 2.0074125e-09 7.6203497e-09 9.0013446e-09\n",
            "  3.7349741e-09 6.9024657e-09 4.8776241e-09 7.5487927e-09 8.9076826e-09]\n",
            " [5.7417564e-09 3.2622387e-09 2.0074125e-09 7.6203497e-09 9.0013446e-09\n",
            "  3.7349741e-09 6.9024657e-09 4.8776241e-09 7.5487927e-09 8.9076826e-09]\n",
            " [5.7417564e-09 3.2622387e-09 2.0074125e-09 7.6203497e-09 9.0013446e-09\n",
            "  3.7349741e-09 6.9024657e-09 4.8776241e-09 7.5487927e-09 8.9076826e-09]\n",
            " [5.7417564e-09 3.2622387e-09 2.0074125e-09 7.6203497e-09 9.0013446e-09\n",
            "  3.7349741e-09 6.9024657e-09 4.8776241e-09 7.5487927e-09 8.9076826e-09]\n",
            " [5.7417564e-09 3.2622387e-09 2.0074125e-09 7.6203497e-09 9.0013446e-09\n",
            "  3.7349741e-09 6.9024657e-09 4.8776241e-09 7.5487927e-09 8.9076826e-09]\n",
            " [5.7417564e-09 3.2622387e-09 2.0074125e-09 7.6203497e-09 9.0013446e-09\n",
            "  3.7349741e-09 6.9024657e-09 4.8776241e-09 7.5487927e-09 8.9076826e-09]\n",
            " [5.7417564e-09 3.2622387e-09 2.0074125e-09 7.6203497e-09 9.0013446e-09\n",
            "  3.7349741e-09 6.9024657e-09 4.8776241e-09 7.5487927e-09 8.9076826e-09]\n",
            " [5.7417564e-09 3.2622387e-09 2.0074125e-09 7.6203497e-09 9.0013446e-09\n",
            "  3.7349741e-09 6.9024657e-09 4.8776241e-09 7.5487927e-09 8.9076826e-09]\n",
            " [5.7417564e-09 3.2622387e-09 2.0074125e-09 7.6203497e-09 9.0013446e-09\n",
            "  3.7349741e-09 6.9024657e-09 4.8776241e-09 7.5487927e-09 8.9076826e-09]\n",
            " [5.7417564e-09 3.2622387e-09 2.0074125e-09 7.6203497e-09 9.0013446e-09\n",
            "  3.7349741e-09 6.9024657e-09 4.8776241e-09 7.5487927e-09 8.9076826e-09]\n",
            " [5.7417564e-09 3.2622387e-09 2.0074125e-09 7.6203497e-09 9.0013446e-09\n",
            "  3.7349741e-09 6.9024657e-09 4.8776241e-09 7.5487927e-09 8.9076826e-09]\n",
            " [5.7417564e-09 3.2622387e-09 2.0074125e-09 7.6203497e-09 9.0013446e-09\n",
            "  3.7349741e-09 6.9024657e-09 4.8776241e-09 7.5487927e-09 8.9076826e-09]]\n",
            "Gradient of layer 5: [5.7417564e-09 3.2622387e-09 2.0074125e-09 7.6203497e-09 9.0013446e-09\n",
            " 3.7349741e-09 6.9024657e-09 4.8776241e-09 7.5487927e-09 8.9076826e-09]\n",
            "Weights of layer 0: [[1. 1. 1. ... 1. 1. 1.]\n",
            " [1. 1. 1. ... 1. 1. 1.]\n",
            " [1. 1. 1. ... 1. 1. 1.]\n",
            " ...\n",
            " [1. 1. 1. ... 1. 1. 1.]\n",
            " [1. 1. 1. ... 1. 1. 1.]\n",
            " [1. 1. 1. ... 1. 1. 1.]]\n",
            "+---------+------------+\n",
            "|  Layer  | Good model |\n",
            "+---------+------------+\n",
            "| Layer 0 |    0.0     |\n",
            "| Layer 1 |    0.0     |\n",
            "+---------+------------+\n",
            "+---------+--------------+\n",
            "|  Layer  | Medium model |\n",
            "+---------+--------------+\n",
            "| Layer 0 |     0.0      |\n",
            "| Layer 1 |     0.0      |\n",
            "| Layer 2 |     0.0      |\n",
            "| Layer 3 |     0.0      |\n",
            "| Layer 4 |     0.0      |\n",
            "| Layer 5 |     0.0      |\n",
            "+---------+--------------+\n",
            "+---------+--------------+\n",
            "|  Layer  |  Bad model   |\n",
            "+---------+--------------+\n",
            "| Layer 0 |     0.0      |\n",
            "| Layer 1 |     0.0      |\n",
            "| Layer 2 |     0.0      |\n",
            "| Layer 3 |     0.0      |\n",
            "| Layer 4 | 6.565783e-07 |\n",
            "| Layer 5 |     0.0      |\n",
            "+---------+--------------+\n",
            "+--------------+---------------+\n",
            "|    Model     | Synflow score |\n",
            "+--------------+---------------+\n",
            "|  Good model  |      0.0      |\n",
            "| Medium model |      0.0      |\n",
            "|  Bad model   |  6.565783e-07 |\n",
            "+--------------+---------------+\n"
          ]
        }
      ],
      "source": [
        "import prettytable as pt\n",
        "\n",
        "input_shape = (28, 28, 1)\n",
        "\n",
        "score_model_good = compute_synflow_per_weight(model_good, input_shape)\n",
        "score_model_medium = compute_synflow_per_weight(model_medium, input_shape)\n",
        "score_model_bad = compute_synflow_per_weight(model_bad, input_shape)\n",
        "\n",
        "# Score por capa\n",
        "table = pt.PrettyTable()\n",
        "table.field_names = [\"Layer\", \"Good model\"]\n",
        "for i, score in enumerate(score_model_good):\n",
        "  table.add_row([f\"Layer {i}\", np.sum(score)])\n",
        "print(table)\n",
        "\n",
        "table = pt.PrettyTable()\n",
        "table.field_names = [\"Layer\", \"Medium model\"]\n",
        "for i, score in enumerate(score_model_medium):\n",
        "  table.add_row([f\"Layer {i}\", np.sum(score)])\n",
        "print(table)\n",
        "\n",
        "table = pt.PrettyTable()\n",
        "table.field_names = [\"Layer\", \"Bad model\"]\n",
        "for i, score in enumerate(score_model_bad):\n",
        "  table.add_row([f\"Layer {i}\", np.sum(score)])\n",
        "print(table)\n",
        "\n",
        "# Score total\n",
        "score_model_good = [np.sum(score) for score in score_model_good]\n",
        "score_model_medium = [np.sum(score) for score in score_model_medium]\n",
        "score_model_bad = [np.sum(score) for score in score_model_bad]\n",
        "\n",
        "# Score total\n",
        "table = pt.PrettyTable()\n",
        "table.field_names = [\"Model\", \"Synflow score\"]\n",
        "table.add_row([\"Good model\", np.sum(score_model_good)])\n",
        "table.add_row([\"Medium model\", np.sum(score_model_medium)])\n",
        "table.add_row([\"Bad model\", np.sum(score_model_bad)])\n",
        "print(table)"
      ]
    },
    {
      "cell_type": "markdown",
      "metadata": {},
      "source": [
        "# Entrenamos y obtenemos su accuracy"
      ]
    },
    {
      "cell_type": "markdown",
      "metadata": {
        "id": "uW0JimxTaL38"
      },
      "source": [
        "## Modelo de alta precisión"
      ]
    },
    {
      "cell_type": "code",
      "execution_count": 303,
      "metadata": {
        "colab": {
          "base_uri": "https://localhost:8080/"
        },
        "id": "tOWu-VfMZA5J",
        "outputId": "e884405b-a803-41f3-8c45-e9280bfea85d"
      },
      "outputs": [
        {
          "name": "stdout",
          "output_type": "stream",
          "text": [
            "Epoch 1/5\n",
            "\u001b[1m1875/1875\u001b[0m \u001b[32m━━━━━━━━━━━━━━━━━━━━\u001b[0m\u001b[37m\u001b[0m \u001b[1m1s\u001b[0m 513us/step - accuracy: 0.8334 - loss: 0.7020 - val_accuracy: 0.9156 - val_loss: 0.3070\n",
            "Epoch 2/5\n",
            "\u001b[1m1875/1875\u001b[0m \u001b[32m━━━━━━━━━━━━━━━━━━━━\u001b[0m\u001b[37m\u001b[0m \u001b[1m1s\u001b[0m 466us/step - accuracy: 0.9134 - loss: 0.3129 - val_accuracy: 0.9199 - val_loss: 0.2823\n",
            "Epoch 3/5\n",
            "\u001b[1m1875/1875\u001b[0m \u001b[32m━━━━━━━━━━━━━━━━━━━━\u001b[0m\u001b[37m\u001b[0m \u001b[1m1s\u001b[0m 486us/step - accuracy: 0.9190 - loss: 0.2884 - val_accuracy: 0.9241 - val_loss: 0.2742\n",
            "Epoch 4/5\n",
            "\u001b[1m1875/1875\u001b[0m \u001b[32m━━━━━━━━━━━━━━━━━━━━\u001b[0m\u001b[37m\u001b[0m \u001b[1m1s\u001b[0m 465us/step - accuracy: 0.9227 - loss: 0.2772 - val_accuracy: 0.9243 - val_loss: 0.2704\n",
            "Epoch 5/5\n",
            "\u001b[1m1875/1875\u001b[0m \u001b[32m━━━━━━━━━━━━━━━━━━━━\u001b[0m\u001b[37m\u001b[0m \u001b[1m1s\u001b[0m 450us/step - accuracy: 0.9256 - loss: 0.2704 - val_accuracy: 0.9257 - val_loss: 0.2683\n",
            "\u001b[1m313/313\u001b[0m \u001b[32m━━━━━━━━━━━━━━━━━━━━\u001b[0m\u001b[37m\u001b[0m \u001b[1m0s\u001b[0m 440us/step - accuracy: 0.9154 - loss: 0.3035\n",
            "Loss: 0.2682996988296509, Accuracy: 0.9257000088691711\n"
          ]
        }
      ],
      "source": [
        "# seteamos la semilla\n",
        "set_seed()\n",
        "\n",
        "model_good.compile(\n",
        "  optimizer='adam',\n",
        "  loss='sparse_categorical_crossentropy',\n",
        "  metrics=['accuracy']\n",
        ")\n",
        "\n",
        "params = {\n",
        "  'batch_size': 32,\n",
        "  'validation_data': (X_test, y_test),\n",
        "  'epochs': 5\n",
        "}\n",
        "\n",
        "# Entrenamos el modelo\n",
        "model_good.fit(X_train, y_train, **params)\n",
        "loss, accuracy = model_good.evaluate(X_test, y_test)\n",
        "print(f'Loss: {loss}, Accuracy: {accuracy}')"
      ]
    },
    {
      "cell_type": "markdown",
      "metadata": {
        "id": "RvfcauUWaOxK"
      },
      "source": [
        "## Modelo de media precisión"
      ]
    },
    {
      "cell_type": "code",
      "execution_count": 304,
      "metadata": {
        "colab": {
          "base_uri": "https://localhost:8080/"
        },
        "id": "zHkRqLokaTy6",
        "outputId": "aaea6274-6c0f-4dc0-b4c9-1e9228a7e7d6"
      },
      "outputs": [
        {
          "name": "stdout",
          "output_type": "stream",
          "text": [
            "Epoch 1/5\n",
            "\u001b[1m1875/1875\u001b[0m \u001b[32m━━━━━━━━━━━━━━━━━━━━\u001b[0m\u001b[37m\u001b[0m \u001b[1m2s\u001b[0m 788us/step - accuracy: 0.1731 - loss: 2.0830 - val_accuracy: 0.2668 - val_loss: 1.7775\n",
            "Epoch 2/5\n",
            "\u001b[1m1875/1875\u001b[0m \u001b[32m━━━━━━━━━━━━━━━━━━━━\u001b[0m\u001b[37m\u001b[0m \u001b[1m1s\u001b[0m 730us/step - accuracy: 0.2613 - loss: 1.7546 - val_accuracy: 0.2919 - val_loss: 1.7227\n",
            "Epoch 3/5\n",
            "\u001b[1m1875/1875\u001b[0m \u001b[32m━━━━━━━━━━━━━━━━━━━━\u001b[0m\u001b[37m\u001b[0m \u001b[1m1s\u001b[0m 758us/step - accuracy: 0.3014 - loss: 1.6974 - val_accuracy: 0.2969 - val_loss: 1.6699\n",
            "Epoch 4/5\n",
            "\u001b[1m1875/1875\u001b[0m \u001b[32m━━━━━━━━━━━━━━━━━━━━\u001b[0m\u001b[37m\u001b[0m \u001b[1m1s\u001b[0m 713us/step - accuracy: 0.3122 - loss: 1.6474 - val_accuracy: 0.3353 - val_loss: 1.6373\n",
            "Epoch 5/5\n",
            "\u001b[1m1875/1875\u001b[0m \u001b[32m━━━━━━━━━━━━━━━━━━━━\u001b[0m\u001b[37m\u001b[0m \u001b[1m1s\u001b[0m 733us/step - accuracy: 0.3415 - loss: 1.6170 - val_accuracy: 0.3472 - val_loss: 1.6153\n",
            "\u001b[1m313/313\u001b[0m \u001b[32m━━━━━━━━━━━━━━━━━━━━\u001b[0m\u001b[37m\u001b[0m \u001b[1m0s\u001b[0m 508us/step - accuracy: 0.3469 - loss: 1.6425\n",
            "Loss: 1.6152844429016113, Accuracy: 0.3472000062465668\n"
          ]
        }
      ],
      "source": [
        "# seteamos la semilla\n",
        "set_seed()\n",
        "\n",
        "model_medium.compile(\n",
        "  optimizer='adam',\n",
        "  loss='sparse_categorical_crossentropy',\n",
        "  metrics=['accuracy']\n",
        ")\n",
        "\n",
        "params = {\n",
        "  'batch_size': 32,\n",
        "  'validation_data': (X_test, y_test),\n",
        "  'epochs': 5\n",
        "}\n",
        "\n",
        "# Entrenamos el modelo\n",
        "model_medium.fit(X_train, y_train, **params)\n",
        "loss, accuracy = model_medium.evaluate(X_test, y_test)\n",
        "print(f'Loss: {loss}, Accuracy: {accuracy}')"
      ]
    },
    {
      "cell_type": "markdown",
      "metadata": {
        "id": "AKwqZGM2bIFA"
      },
      "source": [
        "## Modelo de baja precisión"
      ]
    },
    {
      "cell_type": "code",
      "execution_count": 305,
      "metadata": {
        "colab": {
          "base_uri": "https://localhost:8080/"
        },
        "id": "hvEqiSpGbKBQ",
        "outputId": "250210ef-6dab-4c18-b143-9faa92983533"
      },
      "outputs": [
        {
          "name": "stdout",
          "output_type": "stream",
          "text": [
            "Epoch 1/5\n",
            "\u001b[1m1875/1875\u001b[0m \u001b[32m━━━━━━━━━━━━━━━━━━━━\u001b[0m\u001b[37m\u001b[0m \u001b[1m2s\u001b[0m 584us/step - accuracy: 0.1029 - loss: 2.3145 - val_accuracy: 0.1010 - val_loss: 2.3176\n",
            "Epoch 2/5\n",
            "\u001b[1m1875/1875\u001b[0m \u001b[32m━━━━━━━━━━━━━━━━━━━━\u001b[0m\u001b[37m\u001b[0m \u001b[1m1s\u001b[0m 553us/step - accuracy: 0.1039 - loss: 2.3122 - val_accuracy: 0.1010 - val_loss: 2.3176\n",
            "Epoch 3/5\n",
            "\u001b[1m1875/1875\u001b[0m \u001b[32m━━━━━━━━━━━━━━━━━━━━\u001b[0m\u001b[37m\u001b[0m \u001b[1m1s\u001b[0m 546us/step - accuracy: 0.1040 - loss: 2.3122 - val_accuracy: 0.1010 - val_loss: 2.3176\n",
            "Epoch 4/5\n",
            "\u001b[1m1875/1875\u001b[0m \u001b[32m━━━━━━━━━━━━━━━━━━━━\u001b[0m\u001b[37m\u001b[0m \u001b[1m1s\u001b[0m 546us/step - accuracy: 0.1039 - loss: 2.3122 - val_accuracy: 0.1010 - val_loss: 2.3176\n",
            "Epoch 5/5\n",
            "\u001b[1m1875/1875\u001b[0m \u001b[32m━━━━━━━━━━━━━━━━━━━━\u001b[0m\u001b[37m\u001b[0m \u001b[1m1s\u001b[0m 540us/step - accuracy: 0.1039 - loss: 2.3122 - val_accuracy: 0.1010 - val_loss: 2.3176\n",
            "\u001b[1m313/313\u001b[0m \u001b[32m━━━━━━━━━━━━━━━━━━━━\u001b[0m\u001b[37m\u001b[0m \u001b[1m0s\u001b[0m 467us/step - accuracy: 0.1009 - loss: 2.3203\n",
            "Loss: 2.3176381587982178, Accuracy: 0.10100000351667404\n"
          ]
        }
      ],
      "source": [
        "# seteamos la semilla\n",
        "set_seed()\n",
        "\n",
        "model_bad.compile(\n",
        "  optimizer='adam',\n",
        "  loss='sparse_categorical_crossentropy',\n",
        "  metrics=['accuracy']\n",
        ")\n",
        "\n",
        "params = {\n",
        "  'batch_size': 32,\n",
        "  'validation_data': (X_test, y_test),\n",
        "  'epochs': 5\n",
        "}\n",
        "\n",
        "# Entrenamos el modelo\n",
        "model_bad.fit(X_train, y_train, **params)\n",
        "loss, accuracy = model_bad.evaluate(X_test, y_test)\n",
        "print(f'Loss: {loss}, Accuracy: {accuracy}')"
      ]
    }
  ],
  "metadata": {
    "accelerator": "GPU",
    "colab": {
      "gpuType": "T4",
      "provenance": []
    },
    "kernelspec": {
      "display_name": "Python 3",
      "name": "python3"
    },
    "language_info": {
      "codemirror_mode": {
        "name": "ipython",
        "version": 3
      },
      "file_extension": ".py",
      "mimetype": "text/x-python",
      "name": "python",
      "nbconvert_exporter": "python",
      "pygments_lexer": "ipython3",
      "version": "3.11.4"
    }
  },
  "nbformat": 4,
  "nbformat_minor": 0
}
