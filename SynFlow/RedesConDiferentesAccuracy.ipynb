{
  "cells": [
    {
      "cell_type": "markdown",
      "metadata": {
        "id": "DrPJW9t8ZDsw"
      },
      "source": [
        "# Comparación score vs accuracy"
      ]
    },
    {
      "cell_type": "markdown",
      "metadata": {},
      "source": [
        "Importamos las librerias"
      ]
    },
    {
      "cell_type": "code",
      "execution_count": 218,
      "metadata": {
        "id": "pxBWYEiKY_Az"
      },
      "outputs": [],
      "source": [
        "import tensorflow as tf\n",
        "from tensorflow import keras\n",
        "from tensorflow.keras.datasets import mnist\n",
        "from tensorflow.keras.utils import to_categorical\n",
        "import matplotlib.pyplot as plt\n",
        "import numpy as np\n",
        "import random\n",
        "import os\n",
        "from dotenv import load_dotenv"
      ]
    },
    {
      "cell_type": "markdown",
      "metadata": {},
      "source": [
        "Definimos la semilla"
      ]
    },
    {
      "cell_type": "code",
      "execution_count": 219,
      "metadata": {},
      "outputs": [],
      "source": [
        "# Cargamos las variables de entorno\n",
        "load_dotenv(dotenv_path='./../variables.env')\n",
        "\n",
        "seed = int(os.getenv(\"SEED\"))\n",
        "\n",
        "def set_seed():\n",
        "    os.environ['TF_DETERMINISTIC_OPS'] = '1'\n",
        "    os.environ['PYTHONHASHSEED'] = str(seed)\n",
        "    random.seed(seed)\n",
        "    np.random.seed(seed)\n",
        "    tf.random.set_seed(seed)\n",
        "\n",
        "set_seed()\n"
      ]
    },
    {
      "cell_type": "markdown",
      "metadata": {
        "id": "_LzdSwyrZEe8"
      },
      "source": [
        "# Carga de datos"
      ]
    },
    {
      "cell_type": "code",
      "execution_count": 220,
      "metadata": {
        "colab": {
          "base_uri": "https://localhost:8080/"
        },
        "id": "kc47gzIwZCFh",
        "outputId": "92774ec4-2e06-43e4-a1b8-62a9098a5d22"
      },
      "outputs": [],
      "source": [
        "# Cargar el dataset MNIST\n",
        "(X_train, y_train), (X_test, y_test) = mnist.load_data()\n",
        "\n",
        "# Normalizar las imágenes a un rango de 0 a 1\n",
        "X_train = X_train.astype('float32') / 255.0\n",
        "X_test = X_test.astype('float32') / 255.0\n",
        "\n",
        "# Si las imágenes son de una sola canal (escala de grises), necesitas agregar una dimensión extra\n",
        "# para que sean compatibles con las capas de convolución de Keras\n",
        "X_train = X_train.reshape((X_train.shape[0], 28, 28, 1))\n",
        "X_test = X_test.reshape((X_test.shape[0], 28, 28, 1))"
      ]
    },
    {
      "cell_type": "code",
      "execution_count": 221,
      "metadata": {
        "colab": {
          "base_uri": "https://localhost:8080/",
          "height": 447
        },
        "id": "LacGd_wGZJAd",
        "outputId": "f884c434-23e5-4792-85e2-ec24afedb5e2"
      },
      "outputs": [
        {
          "name": "stdout",
          "output_type": "stream",
          "text": [
            "5\n",
            "(28, 28, 1)\n"
          ]
        },
        {
          "data": {
            "image/png": "[encoded data removed]",
            "text/plain": [
              "<Figure size 640x480 with 1 Axes>"
            ]
          },
          "metadata": {},
          "output_type": "display_data"
        }
      ],
      "source": [
        "plt.imshow(X_train[0], cmap='gray')\n",
        "print(y_train[0])\n",
        "print(X_train[0].shape)"
      ]
    },
    {
      "cell_type": "markdown",
      "metadata": {
        "id": "p1EvnACqZHY8"
      },
      "source": [
        "# Modelos"
      ]
    },
    {
      "cell_type": "code",
      "execution_count": 222,
      "metadata": {},
      "outputs": [],
      "source": [
        "\n",
        "# Creamos el modelo de red neuronal Alta precisión\n",
        "model_good = keras.Sequential([\n",
        "  keras.layers.Flatten(input_shape=(28, 28)),\n",
        "  keras.layers.Dense(10, activation='softmax')\n",
        "])\n",
        "\n",
        "\n",
        "# Creamos el modelo de red neuronal Media precisión\n",
        "model_medium = keras.Sequential([\n",
        "  keras.layers.Flatten(input_shape=(28, 28)),\n",
        "  keras.layers.Dense(99, activation='softmax', kernel_initializer='ones', bias_initializer='ones'),\n",
        "  keras.layers.Dense(28, activation='linear', kernel_initializer='ones', bias_initializer='ones'),\n",
        "  keras.layers.Dense(10, activation='softmax')\n",
        "])\n",
        "\n",
        "\n",
        "# Creamos el modelo de red neuronal Baja precisión\n",
        "model_bad = keras.Sequential([\n",
        "  keras.layers.Flatten(input_shape=(28, 28)),\n",
        "  keras.layers.Dense(33, activation='elu', kernel_initializer='ones', bias_initializer='ones'),\n",
        "  keras.layers.Dense(88, activation='sigmoid', kernel_initializer='ones', bias_initializer='ones'),\n",
        "  keras.layers.Dense(10, activation='softmax')\n",
        "])\n"
      ]
    },
    {
      "cell_type": "markdown",
      "metadata": {},
      "source": [
        "# Predecimos los modelos antes de entrenarlos"
      ]
    },
    {
      "cell_type": "markdown",
      "metadata": {},
      "source": [
        "## Técnica de estimación\n",
        "Programamos SynFlow"
      ]
    },
    {
      "cell_type": "code",
      "execution_count": 223,
      "metadata": {},
      "outputs": [],
      "source": [
        "def linearize(model):\n",
        "    \"\"\" \n",
        "    Get the absolute value of the weights of the model and return the signs of the weights \n",
        "    \"\"\"\n",
        "    signs = []\n",
        "    for layer in model.layers:\n",
        "        if len(layer.get_weights()) > 0:\n",
        "            weights = layer.get_weights()\n",
        "            layer_signs = [np.sign(w) for w in weights]\n",
        "            new_weights = [np.abs(w) for w in weights]\n",
        "            layer.set_weights(new_weights)\n",
        "            signs.append(layer_signs)\n",
        "    return signs\n",
        "\n",
        "def compute_synflow_per_weight(model, input_shape):\n",
        "    signs = linearize(model)  # Get the signs of the weights and transform the absolute value of the weights\n",
        "\n",
        "    inputs = np.ones((1,) + input_shape)\n",
        "    inputs = tf.convert_to_tensor(inputs, dtype=tf.float32)\n",
        "\n",
        "    with tf.GradientTape() as tape:\n",
        "        outputs = model(inputs)\n",
        "        loss = tf.reduce_sum(outputs)\n",
        "    grads = tape.gradient(loss, model.trainable_variables)\n",
        "\n",
        "    # Calculate SynFlow scores\n",
        "    synflow_scores = []\n",
        "    for w, g in zip(model.trainable_variables, grads):\n",
        "        if tf.reduce_any(tf.math.is_nan(g)) or tf.reduce_any(tf.math.is_nan(w)):\n",
        "            print(\"NaN detected in gradients or weights.\")\n",
        "            continue  # Skip to the next weight if NaN is detected\n",
        "        synflow_scores.append(tf.abs(w * g).numpy())\n",
        "\n",
        "    return synflow_scores"
      ]
    },
    {
      "cell_type": "markdown",
      "metadata": {},
      "source": [
        "### Predicción de redes"
      ]
    },
    {
      "cell_type": "code",
      "execution_count": 224,
      "metadata": {},
      "outputs": [
        {
          "name": "stdout",
          "output_type": "stream",
          "text": [
            "+---------+--------------+\n",
            "|  Layer  |  Good model  |\n",
            "+---------+--------------+\n",
            "| Layer 0 | 4.113576e-06 |\n",
            "| Layer 1 |     0.0      |\n",
            "+---------+--------------+\n",
            "+---------+---------------+\n",
            "|  Layer  |  Medium model |\n",
            "+---------+---------------+\n",
            "| Layer 0 |      0.0      |\n",
            "| Layer 1 |      0.0      |\n",
            "| Layer 2 |  6.860439e-07 |\n",
            "| Layer 3 |  6.860439e-07 |\n",
            "| Layer 4 | 1.3720883e-06 |\n",
            "| Layer 5 |      0.0      |\n",
            "+---------+---------------+\n",
            "+---------+-----------+\n",
            "|  Layer  | Bad model |\n",
            "+---------+-----------+\n",
            "| Layer 0 |    0.0    |\n",
            "| Layer 1 |    0.0    |\n",
            "| Layer 2 |    0.0    |\n",
            "| Layer 3 |    0.0    |\n",
            "| Layer 4 |    0.0    |\n",
            "| Layer 5 |    0.0    |\n",
            "+---------+-----------+\n",
            "+--------------+---------------+\n",
            "|    Model     | Synflow score |\n",
            "+--------------+---------------+\n",
            "|  Good model  |  4.113576e-06 |\n",
            "| Medium model |  2.744176e-06 |\n",
            "|  Bad model   |      0.0      |\n",
            "+--------------+---------------+\n"
          ]
        }
      ],
      "source": [
        "import prettytable as pt\n",
        "\n",
        "input_shape = (28, 28, 1)\n",
        "\n",
        "# Compilamos los modelos\n",
        "model_good.compile(optimizer='adam', loss='sparse_categorical_crossentropy', metrics=['accuracy'])\n",
        "model_medium.compile(optimizer='adam', loss='sparse_categorical_crossentropy', metrics=['accuracy'])\n",
        "model_bad.compile(optimizer='adam', loss='sparse_categorical_crossentropy', metrics=['accuracy'])\n",
        "\n",
        "# Construimos los modelos\n",
        "model_good.build()\n",
        "model_medium.build()\n",
        "model_bad.build()\n",
        "\n",
        "score_model_good = compute_synflow_per_weight(model_good, input_shape)\n",
        "score_model_medium = compute_synflow_per_weight(model_medium, input_shape)\n",
        "score_model_bad = compute_synflow_per_weight(model_bad, input_shape)\n",
        "\n",
        "# Score por capa\n",
        "table = pt.PrettyTable()\n",
        "table.field_names = [\"Layer\", \"Good model\"]\n",
        "for i, score in enumerate(score_model_good):\n",
        "  table.add_row([f\"Layer {i}\", np.sum(score)])\n",
        "print(table)\n",
        "\n",
        "table = pt.PrettyTable()\n",
        "table.field_names = [\"Layer\", \"Medium model\"]\n",
        "for i, score in enumerate(score_model_medium):\n",
        "  table.add_row([f\"Layer {i}\", np.sum(score)])\n",
        "print(table)\n",
        "\n",
        "table = pt.PrettyTable()\n",
        "table.field_names = [\"Layer\", \"Bad model\"]\n",
        "for i, score in enumerate(score_model_bad):\n",
        "  table.add_row([f\"Layer {i}\", np.sum(score)])\n",
        "print(table)\n",
        "\n",
        "# Score total\n",
        "score_model_good = [np.sum(score) for score in score_model_good]\n",
        "score_model_medium = [np.sum(score) for score in score_model_medium]\n",
        "score_model_bad = [np.sum(score) for score in score_model_bad]\n",
        "\n",
        "# Score total\n",
        "table = pt.PrettyTable()\n",
        "table.field_names = [\"Model\", \"Synflow score\"]\n",
        "table.add_row([\"Good model\", np.sum(score_model_good)])\n",
        "table.add_row([\"Medium model\", np.sum(score_model_medium)])\n",
        "table.add_row([\"Bad model\", np.sum(score_model_bad)])\n",
        "print(table)"
      ]
    },
    {
      "cell_type": "markdown",
      "metadata": {},
      "source": [
        "# Entrenamos y obtenemos su accuracy"
      ]
    },
    {
      "cell_type": "markdown",
      "metadata": {
        "id": "uW0JimxTaL38"
      },
      "source": [
        "## Modelo de alta precisión"
      ]
    },
    {
      "cell_type": "code",
      "execution_count": 225,
      "metadata": {
        "colab": {
          "base_uri": "https://localhost:8080/"
        },
        "id": "tOWu-VfMZA5J",
        "outputId": "e884405b-a803-41f3-8c45-e9280bfea85d"
      },
      "outputs": [
        {
          "name": "stdout",
          "output_type": "stream",
          "text": [
            "Epoch 1/5\n",
            "\u001b[1m1875/1875\u001b[0m \u001b[32m━━━━━━━━━━━━━━━━━━━━\u001b[0m\u001b[37m\u001b[0m \u001b[1m1s\u001b[0m 515us/step - accuracy: 0.8306 - loss: 0.7034 - val_accuracy: 0.9155 - val_loss: 0.3073\n",
            "Epoch 2/5\n",
            "\u001b[1m1875/1875\u001b[0m \u001b[32m━━━━━━━━━━━━━━━━━━━━\u001b[0m\u001b[37m\u001b[0m \u001b[1m1s\u001b[0m 459us/step - accuracy: 0.9141 - loss: 0.3071 - val_accuracy: 0.9213 - val_loss: 0.2815\n",
            "Epoch 3/5\n",
            "\u001b[1m1875/1875\u001b[0m \u001b[32m━━━━━━━━━━━━━━━━━━━━\u001b[0m\u001b[37m\u001b[0m \u001b[1m1s\u001b[0m 448us/step - accuracy: 0.9209 - loss: 0.2820 - val_accuracy: 0.9242 - val_loss: 0.2728\n",
            "Epoch 4/5\n",
            "\u001b[1m1875/1875\u001b[0m \u001b[32m━━━━━━━━━━━━━━━━━━━━\u001b[0m\u001b[37m\u001b[0m \u001b[1m1s\u001b[0m 456us/step - accuracy: 0.9241 - loss: 0.2705 - val_accuracy: 0.9242 - val_loss: 0.2687\n",
            "Epoch 5/5\n",
            "\u001b[1m1875/1875\u001b[0m \u001b[32m━━━━━━━━━━━━━━━━━━━━\u001b[0m\u001b[37m\u001b[0m \u001b[1m1s\u001b[0m 421us/step - accuracy: 0.9261 - loss: 0.2635 - val_accuracy: 0.9242 - val_loss: 0.2664\n",
            "\u001b[1m313/313\u001b[0m \u001b[32m━━━━━━━━━━━━━━━━━━━━\u001b[0m\u001b[37m\u001b[0m \u001b[1m0s\u001b[0m 375us/step - accuracy: 0.9112 - loss: 0.3035\n",
            "Loss: 0.2663857042789459, Accuracy: 0.9241999983787537\n"
          ]
        }
      ],
      "source": [
        "# seteamos la semilla\n",
        "set_seed()\n",
        "\n",
        "model_good.compile(\n",
        "  optimizer='adam',\n",
        "  loss='sparse_categorical_crossentropy',\n",
        "  metrics=['accuracy']\n",
        ")\n",
        "\n",
        "params = {\n",
        "  'batch_size': 32,\n",
        "  'validation_data': (X_test, y_test),\n",
        "  'epochs': 5\n",
        "}\n",
        "\n",
        "# Entrenamos el modelo\n",
        "model_good.fit(X_train, y_train, **params)\n",
        "loss, accuracy = model_good.evaluate(X_test, y_test)\n",
        "print(f'Loss: {loss}, Accuracy: {accuracy}')"
      ]
    },
    {
      "cell_type": "markdown",
      "metadata": {
        "id": "RvfcauUWaOxK"
      },
      "source": [
        "## Modelo de media precisión"
      ]
    },
    {
      "cell_type": "code",
      "execution_count": 226,
      "metadata": {
        "colab": {
          "base_uri": "https://localhost:8080/"
        },
        "id": "zHkRqLokaTy6",
        "outputId": "aaea6274-6c0f-4dc0-b4c9-1e9228a7e7d6"
      },
      "outputs": [
        {
          "name": "stdout",
          "output_type": "stream",
          "text": [
            "Epoch 1/5\n",
            "\u001b[1m1875/1875\u001b[0m \u001b[32m━━━━━━━━━━━━━━━━━━━━\u001b[0m\u001b[37m\u001b[0m \u001b[1m2s\u001b[0m 750us/step - accuracy: 0.1856 - loss: 2.1230 - val_accuracy: 0.2622 - val_loss: 1.7794\n",
            "Epoch 2/5\n",
            "\u001b[1m1875/1875\u001b[0m \u001b[32m━━━━━━━━━━━━━━━━━━━━\u001b[0m\u001b[37m\u001b[0m \u001b[1m1s\u001b[0m 774us/step - accuracy: 0.2627 - loss: 1.7441 - val_accuracy: 0.3181 - val_loss: 1.6408\n",
            "Epoch 3/5\n",
            "\u001b[1m1875/1875\u001b[0m \u001b[32m━━━━━━━━━━━━━━━━━━━━\u001b[0m\u001b[37m\u001b[0m \u001b[1m1s\u001b[0m 726us/step - accuracy: 0.3222 - loss: 1.6246 - val_accuracy: 0.3410 - val_loss: 1.5950\n",
            "Epoch 4/5\n",
            "\u001b[1m1875/1875\u001b[0m \u001b[32m━━━━━━━━━━━━━━━━━━━━\u001b[0m\u001b[37m\u001b[0m \u001b[1m1s\u001b[0m 745us/step - accuracy: 0.3748 - loss: 1.5863 - val_accuracy: 0.4073 - val_loss: 1.5735\n",
            "Epoch 5/5\n",
            "\u001b[1m1875/1875\u001b[0m \u001b[32m━━━━━━━━━━━━━━━━━━━━\u001b[0m\u001b[37m\u001b[0m \u001b[1m1s\u001b[0m 718us/step - accuracy: 0.4013 - loss: 1.5614 - val_accuracy: 0.4078 - val_loss: 1.5657\n",
            "\u001b[1m313/313\u001b[0m \u001b[32m━━━━━━━━━━━━━━━━━━━━\u001b[0m\u001b[37m\u001b[0m \u001b[1m0s\u001b[0m 592us/step - accuracy: 0.4035 - loss: 1.6131\n",
            "Loss: 1.5656843185424805, Accuracy: 0.40779998898506165\n"
          ]
        }
      ],
      "source": [
        "# seteamos la semilla\n",
        "set_seed()\n",
        "\n",
        "model_medium.compile(\n",
        "  optimizer='adam',\n",
        "  loss='sparse_categorical_crossentropy',\n",
        "  metrics=['accuracy']\n",
        ")\n",
        "\n",
        "params = {\n",
        "  'batch_size': 32,\n",
        "  'validation_data': (X_test, y_test),\n",
        "  'epochs': 5\n",
        "}\n",
        "\n",
        "# Entrenamos el modelo\n",
        "model_medium.fit(X_train, y_train, **params)\n",
        "loss, accuracy = model_medium.evaluate(X_test, y_test)\n",
        "print(f'Loss: {loss}, Accuracy: {accuracy}')"
      ]
    },
    {
      "cell_type": "markdown",
      "metadata": {
        "id": "AKwqZGM2bIFA"
      },
      "source": [
        "## Modelo de baja precisión"
      ]
    },
    {
      "cell_type": "code",
      "execution_count": 227,
      "metadata": {
        "colab": {
          "base_uri": "https://localhost:8080/"
        },
        "id": "hvEqiSpGbKBQ",
        "outputId": "250210ef-6dab-4c18-b143-9faa92983533"
      },
      "outputs": [
        {
          "name": "stdout",
          "output_type": "stream",
          "text": [
            "Epoch 1/5\n",
            "\u001b[1m1875/1875\u001b[0m \u001b[32m━━━━━━━━━━━━━━━━━━━━\u001b[0m\u001b[37m\u001b[0m \u001b[1m1s\u001b[0m 566us/step - accuracy: 0.1024 - loss: 2.3227 - val_accuracy: 0.1135 - val_loss: 2.3107\n",
            "Epoch 2/5\n",
            "\u001b[1m1875/1875\u001b[0m \u001b[32m━━━━━━━━━━━━━━━━━━━━\u001b[0m\u001b[37m\u001b[0m \u001b[1m1s\u001b[0m 521us/step - accuracy: 0.1026 - loss: 2.3132 - val_accuracy: 0.1135 - val_loss: 2.3107\n",
            "Epoch 3/5\n",
            "\u001b[1m1875/1875\u001b[0m \u001b[32m━━━━━━━━━━━━━━━━━━━━\u001b[0m\u001b[37m\u001b[0m \u001b[1m1s\u001b[0m 521us/step - accuracy: 0.1026 - loss: 2.3132 - val_accuracy: 0.1135 - val_loss: 2.3107\n",
            "Epoch 4/5\n",
            "\u001b[1m1875/1875\u001b[0m \u001b[32m━━━━━━━━━━━━━━━━━━━━\u001b[0m\u001b[37m\u001b[0m \u001b[1m1s\u001b[0m 522us/step - accuracy: 0.1026 - loss: 2.3132 - val_accuracy: 0.1135 - val_loss: 2.3107\n",
            "Epoch 5/5\n",
            "\u001b[1m1875/1875\u001b[0m \u001b[32m━━━━━━━━━━━━━━━━━━━━\u001b[0m\u001b[37m\u001b[0m \u001b[1m1s\u001b[0m 514us/step - accuracy: 0.1026 - loss: 2.3132 - val_accuracy: 0.1135 - val_loss: 2.3107\n",
            "\u001b[1m313/313\u001b[0m \u001b[32m━━━━━━━━━━━━━━━━━━━━\u001b[0m\u001b[37m\u001b[0m \u001b[1m0s\u001b[0m 410us/step - accuracy: 0.1160 - loss: 2.3075\n",
            "Loss: 2.310694456100464, Accuracy: 0.11349999904632568\n"
          ]
        }
      ],
      "source": [
        "# seteamos la semilla\n",
        "set_seed()\n",
        "\n",
        "model_bad.compile(\n",
        "  optimizer='adam',\n",
        "  loss='sparse_categorical_crossentropy',\n",
        "  metrics=['accuracy']\n",
        ")\n",
        "\n",
        "params = {\n",
        "  'batch_size': 32,\n",
        "  'validation_data': (X_test, y_test),\n",
        "  'epochs': 5\n",
        "}\n",
        "\n",
        "# Entrenamos el modelo\n",
        "model_bad.fit(X_train, y_train, **params)\n",
        "loss, accuracy = model_bad.evaluate(X_test, y_test)\n",
        "print(f'Loss: {loss}, Accuracy: {accuracy}')"
      ]
    },
    {
      "cell_type": "markdown",
      "metadata": {},
      "source": [
        "## Prueba con red convolucional"
      ]
    },
    {
      "cell_type": "code",
      "execution_count": 230,
      "metadata": {},
      "outputs": [
        {
          "data": {
            "text/html": [
              "<pre style=\"white-space:pre;overflow-x:auto;line-height:normal;font-family:Menlo,'DejaVu Sans Mono',consolas,'Courier New',monospace\"><span style=\"font-weight: bold\">Model: \"sequential_98\"</span>\n",
              "</pre>\n"
            ],
            "text/plain": [
              "\u001b[1mModel: \"sequential_98\"\u001b[0m\n"
            ]
          },
          "metadata": {},
          "output_type": "display_data"
        },
        {
          "data": {
            "text/html": [
              "<pre style=\"white-space:pre;overflow-x:auto;line-height:normal;font-family:Menlo,'DejaVu Sans Mono',consolas,'Courier New',monospace\">┏━━━━━━━━━━━━━━━━━━━━━━━━━━━━━━━━━┳━━━━━━━━━━━━━━━━━━━━━━━━┳━━━━━━━━━━━━━━━┓\n",
              "┃<span style=\"font-weight: bold\"> Layer (type)                    </span>┃<span style=\"font-weight: bold\"> Output Shape           </span>┃<span style=\"font-weight: bold\">       Param # </span>┃\n",
              "┡━━━━━━━━━━━━━━━━━━━━━━━━━━━━━━━━━╇━━━━━━━━━━━━━━━━━━━━━━━━╇━━━━━━━━━━━━━━━┩\n",
              "│ conv2d_498 (<span style=\"color: #0087ff; text-decoration-color: #0087ff\">Conv2D</span>)             │ (<span style=\"color: #00d7ff; text-decoration-color: #00d7ff\">None</span>, <span style=\"color: #00af00; text-decoration-color: #00af00\">28</span>, <span style=\"color: #00af00; text-decoration-color: #00af00\">28</span>, <span style=\"color: #00af00; text-decoration-color: #00af00\">32</span>)     │           <span style=\"color: #00af00; text-decoration-color: #00af00\">320</span> │\n",
              "├─────────────────────────────────┼────────────────────────┼───────────────┤\n",
              "│ conv2d_499 (<span style=\"color: #0087ff; text-decoration-color: #0087ff\">Conv2D</span>)             │ (<span style=\"color: #00d7ff; text-decoration-color: #00d7ff\">None</span>, <span style=\"color: #00af00; text-decoration-color: #00af00\">28</span>, <span style=\"color: #00af00; text-decoration-color: #00af00\">28</span>, <span style=\"color: #00af00; text-decoration-color: #00af00\">32</span>)     │         <span style=\"color: #00af00; text-decoration-color: #00af00\">9,248</span> │\n",
              "├─────────────────────────────────┼────────────────────────┼───────────────┤\n",
              "│ max_pooling2d_90 (<span style=\"color: #0087ff; text-decoration-color: #0087ff\">MaxPooling2D</span>) │ (<span style=\"color: #00d7ff; text-decoration-color: #00d7ff\">None</span>, <span style=\"color: #00af00; text-decoration-color: #00af00\">14</span>, <span style=\"color: #00af00; text-decoration-color: #00af00\">14</span>, <span style=\"color: #00af00; text-decoration-color: #00af00\">32</span>)     │             <span style=\"color: #00af00; text-decoration-color: #00af00\">0</span> │\n",
              "├─────────────────────────────────┼────────────────────────┼───────────────┤\n",
              "│ conv2d_500 (<span style=\"color: #0087ff; text-decoration-color: #0087ff\">Conv2D</span>)             │ (<span style=\"color: #00d7ff; text-decoration-color: #00d7ff\">None</span>, <span style=\"color: #00af00; text-decoration-color: #00af00\">14</span>, <span style=\"color: #00af00; text-decoration-color: #00af00\">14</span>, <span style=\"color: #00af00; text-decoration-color: #00af00\">64</span>)     │        <span style=\"color: #00af00; text-decoration-color: #00af00\">18,496</span> │\n",
              "├─────────────────────────────────┼────────────────────────┼───────────────┤\n",
              "│ conv2d_501 (<span style=\"color: #0087ff; text-decoration-color: #0087ff\">Conv2D</span>)             │ (<span style=\"color: #00d7ff; text-decoration-color: #00d7ff\">None</span>, <span style=\"color: #00af00; text-decoration-color: #00af00\">14</span>, <span style=\"color: #00af00; text-decoration-color: #00af00\">14</span>, <span style=\"color: #00af00; text-decoration-color: #00af00\">64</span>)     │        <span style=\"color: #00af00; text-decoration-color: #00af00\">36,928</span> │\n",
              "├─────────────────────────────────┼────────────────────────┼───────────────┤\n",
              "│ max_pooling2d_91 (<span style=\"color: #0087ff; text-decoration-color: #0087ff\">MaxPooling2D</span>) │ (<span style=\"color: #00d7ff; text-decoration-color: #00d7ff\">None</span>, <span style=\"color: #00af00; text-decoration-color: #00af00\">7</span>, <span style=\"color: #00af00; text-decoration-color: #00af00\">7</span>, <span style=\"color: #00af00; text-decoration-color: #00af00\">64</span>)       │             <span style=\"color: #00af00; text-decoration-color: #00af00\">0</span> │\n",
              "├─────────────────────────────────┼────────────────────────┼───────────────┤\n",
              "│ conv2d_502 (<span style=\"color: #0087ff; text-decoration-color: #0087ff\">Conv2D</span>)             │ (<span style=\"color: #00d7ff; text-decoration-color: #00d7ff\">None</span>, <span style=\"color: #00af00; text-decoration-color: #00af00\">7</span>, <span style=\"color: #00af00; text-decoration-color: #00af00\">7</span>, <span style=\"color: #00af00; text-decoration-color: #00af00\">128</span>)      │        <span style=\"color: #00af00; text-decoration-color: #00af00\">73,856</span> │\n",
              "├─────────────────────────────────┼────────────────────────┼───────────────┤\n",
              "│ conv2d_503 (<span style=\"color: #0087ff; text-decoration-color: #0087ff\">Conv2D</span>)             │ (<span style=\"color: #00d7ff; text-decoration-color: #00d7ff\">None</span>, <span style=\"color: #00af00; text-decoration-color: #00af00\">7</span>, <span style=\"color: #00af00; text-decoration-color: #00af00\">7</span>, <span style=\"color: #00af00; text-decoration-color: #00af00\">128</span>)      │       <span style=\"color: #00af00; text-decoration-color: #00af00\">147,584</span> │\n",
              "├─────────────────────────────────┼────────────────────────┼───────────────┤\n",
              "│ conv2d_transpose_87             │ (<span style=\"color: #00d7ff; text-decoration-color: #00d7ff\">None</span>, <span style=\"color: #00af00; text-decoration-color: #00af00\">14</span>, <span style=\"color: #00af00; text-decoration-color: #00af00\">14</span>, <span style=\"color: #00af00; text-decoration-color: #00af00\">64</span>)     │        <span style=\"color: #00af00; text-decoration-color: #00af00\">73,792</span> │\n",
              "│ (<span style=\"color: #0087ff; text-decoration-color: #0087ff\">Conv2DTranspose</span>)               │                        │               │\n",
              "├─────────────────────────────────┼────────────────────────┼───────────────┤\n",
              "│ conv2d_504 (<span style=\"color: #0087ff; text-decoration-color: #0087ff\">Conv2D</span>)             │ (<span style=\"color: #00d7ff; text-decoration-color: #00d7ff\">None</span>, <span style=\"color: #00af00; text-decoration-color: #00af00\">14</span>, <span style=\"color: #00af00; text-decoration-color: #00af00\">14</span>, <span style=\"color: #00af00; text-decoration-color: #00af00\">64</span>)     │        <span style=\"color: #00af00; text-decoration-color: #00af00\">36,928</span> │\n",
              "├─────────────────────────────────┼────────────────────────┼───────────────┤\n",
              "│ conv2d_505 (<span style=\"color: #0087ff; text-decoration-color: #0087ff\">Conv2D</span>)             │ (<span style=\"color: #00d7ff; text-decoration-color: #00d7ff\">None</span>, <span style=\"color: #00af00; text-decoration-color: #00af00\">14</span>, <span style=\"color: #00af00; text-decoration-color: #00af00\">14</span>, <span style=\"color: #00af00; text-decoration-color: #00af00\">64</span>)     │        <span style=\"color: #00af00; text-decoration-color: #00af00\">36,928</span> │\n",
              "├─────────────────────────────────┼────────────────────────┼───────────────┤\n",
              "│ conv2d_transpose_88             │ (<span style=\"color: #00d7ff; text-decoration-color: #00d7ff\">None</span>, <span style=\"color: #00af00; text-decoration-color: #00af00\">28</span>, <span style=\"color: #00af00; text-decoration-color: #00af00\">28</span>, <span style=\"color: #00af00; text-decoration-color: #00af00\">32</span>)     │        <span style=\"color: #00af00; text-decoration-color: #00af00\">18,464</span> │\n",
              "│ (<span style=\"color: #0087ff; text-decoration-color: #0087ff\">Conv2DTranspose</span>)               │                        │               │\n",
              "├─────────────────────────────────┼────────────────────────┼───────────────┤\n",
              "│ conv2d_506 (<span style=\"color: #0087ff; text-decoration-color: #0087ff\">Conv2D</span>)             │ (<span style=\"color: #00d7ff; text-decoration-color: #00d7ff\">None</span>, <span style=\"color: #00af00; text-decoration-color: #00af00\">28</span>, <span style=\"color: #00af00; text-decoration-color: #00af00\">28</span>, <span style=\"color: #00af00; text-decoration-color: #00af00\">32</span>)     │         <span style=\"color: #00af00; text-decoration-color: #00af00\">9,248</span> │\n",
              "├─────────────────────────────────┼────────────────────────┼───────────────┤\n",
              "│ conv2d_507 (<span style=\"color: #0087ff; text-decoration-color: #0087ff\">Conv2D</span>)             │ (<span style=\"color: #00d7ff; text-decoration-color: #00d7ff\">None</span>, <span style=\"color: #00af00; text-decoration-color: #00af00\">28</span>, <span style=\"color: #00af00; text-decoration-color: #00af00\">28</span>, <span style=\"color: #00af00; text-decoration-color: #00af00\">32</span>)     │         <span style=\"color: #00af00; text-decoration-color: #00af00\">9,248</span> │\n",
              "├─────────────────────────────────┼────────────────────────┼───────────────┤\n",
              "│ conv2d_508 (<span style=\"color: #0087ff; text-decoration-color: #0087ff\">Conv2D</span>)             │ (<span style=\"color: #00d7ff; text-decoration-color: #00d7ff\">None</span>, <span style=\"color: #00af00; text-decoration-color: #00af00\">28</span>, <span style=\"color: #00af00; text-decoration-color: #00af00\">28</span>, <span style=\"color: #00af00; text-decoration-color: #00af00\">1</span>)      │            <span style=\"color: #00af00; text-decoration-color: #00af00\">33</span> │\n",
              "└─────────────────────────────────┴────────────────────────┴───────────────┘\n",
              "</pre>\n"
            ],
            "text/plain": [
              "┏━━━━━━━━━━━━━━━━━━━━━━━━━━━━━━━━━┳━━━━━━━━━━━━━━━━━━━━━━━━┳━━━━━━━━━━━━━━━┓\n",
              "┃\u001b[1m \u001b[0m\u001b[1mLayer (type)                   \u001b[0m\u001b[1m \u001b[0m┃\u001b[1m \u001b[0m\u001b[1mOutput Shape          \u001b[0m\u001b[1m \u001b[0m┃\u001b[1m \u001b[0m\u001b[1m      Param #\u001b[0m\u001b[1m \u001b[0m┃\n",
              "┡━━━━━━━━━━━━━━━━━━━━━━━━━━━━━━━━━╇━━━━━━━━━━━━━━━━━━━━━━━━╇━━━━━━━━━━━━━━━┩\n",
              "│ conv2d_498 (\u001b[38;5;33mConv2D\u001b[0m)             │ (\u001b[38;5;45mNone\u001b[0m, \u001b[38;5;34m28\u001b[0m, \u001b[38;5;34m28\u001b[0m, \u001b[38;5;34m32\u001b[0m)     │           \u001b[38;5;34m320\u001b[0m │\n",
              "├─────────────────────────────────┼────────────────────────┼───────────────┤\n",
              "│ conv2d_499 (\u001b[38;5;33mConv2D\u001b[0m)             │ (\u001b[38;5;45mNone\u001b[0m, \u001b[38;5;34m28\u001b[0m, \u001b[38;5;34m28\u001b[0m, \u001b[38;5;34m32\u001b[0m)     │         \u001b[38;5;34m9,248\u001b[0m │\n",
              "├─────────────────────────────────┼────────────────────────┼───────────────┤\n",
              "│ max_pooling2d_90 (\u001b[38;5;33mMaxPooling2D\u001b[0m) │ (\u001b[38;5;45mNone\u001b[0m, \u001b[38;5;34m14\u001b[0m, \u001b[38;5;34m14\u001b[0m, \u001b[38;5;34m32\u001b[0m)     │             \u001b[38;5;34m0\u001b[0m │\n",
              "├─────────────────────────────────┼────────────────────────┼───────────────┤\n",
              "│ conv2d_500 (\u001b[38;5;33mConv2D\u001b[0m)             │ (\u001b[38;5;45mNone\u001b[0m, \u001b[38;5;34m14\u001b[0m, \u001b[38;5;34m14\u001b[0m, \u001b[38;5;34m64\u001b[0m)     │        \u001b[38;5;34m18,496\u001b[0m │\n",
              "├─────────────────────────────────┼────────────────────────┼───────────────┤\n",
              "│ conv2d_501 (\u001b[38;5;33mConv2D\u001b[0m)             │ (\u001b[38;5;45mNone\u001b[0m, \u001b[38;5;34m14\u001b[0m, \u001b[38;5;34m14\u001b[0m, \u001b[38;5;34m64\u001b[0m)     │        \u001b[38;5;34m36,928\u001b[0m │\n",
              "├─────────────────────────────────┼────────────────────────┼───────────────┤\n",
              "│ max_pooling2d_91 (\u001b[38;5;33mMaxPooling2D\u001b[0m) │ (\u001b[38;5;45mNone\u001b[0m, \u001b[38;5;34m7\u001b[0m, \u001b[38;5;34m7\u001b[0m, \u001b[38;5;34m64\u001b[0m)       │             \u001b[38;5;34m0\u001b[0m │\n",
              "├─────────────────────────────────┼────────────────────────┼───────────────┤\n",
              "│ conv2d_502 (\u001b[38;5;33mConv2D\u001b[0m)             │ (\u001b[38;5;45mNone\u001b[0m, \u001b[38;5;34m7\u001b[0m, \u001b[38;5;34m7\u001b[0m, \u001b[38;5;34m128\u001b[0m)      │        \u001b[38;5;34m73,856\u001b[0m │\n",
              "├─────────────────────────────────┼────────────────────────┼───────────────┤\n",
              "│ conv2d_503 (\u001b[38;5;33mConv2D\u001b[0m)             │ (\u001b[38;5;45mNone\u001b[0m, \u001b[38;5;34m7\u001b[0m, \u001b[38;5;34m7\u001b[0m, \u001b[38;5;34m128\u001b[0m)      │       \u001b[38;5;34m147,584\u001b[0m │\n",
              "├─────────────────────────────────┼────────────────────────┼───────────────┤\n",
              "│ conv2d_transpose_87             │ (\u001b[38;5;45mNone\u001b[0m, \u001b[38;5;34m14\u001b[0m, \u001b[38;5;34m14\u001b[0m, \u001b[38;5;34m64\u001b[0m)     │        \u001b[38;5;34m73,792\u001b[0m │\n",
              "│ (\u001b[38;5;33mConv2DTranspose\u001b[0m)               │                        │               │\n",
              "├─────────────────────────────────┼────────────────────────┼───────────────┤\n",
              "│ conv2d_504 (\u001b[38;5;33mConv2D\u001b[0m)             │ (\u001b[38;5;45mNone\u001b[0m, \u001b[38;5;34m14\u001b[0m, \u001b[38;5;34m14\u001b[0m, \u001b[38;5;34m64\u001b[0m)     │        \u001b[38;5;34m36,928\u001b[0m │\n",
              "├─────────────────────────────────┼────────────────────────┼───────────────┤\n",
              "│ conv2d_505 (\u001b[38;5;33mConv2D\u001b[0m)             │ (\u001b[38;5;45mNone\u001b[0m, \u001b[38;5;34m14\u001b[0m, \u001b[38;5;34m14\u001b[0m, \u001b[38;5;34m64\u001b[0m)     │        \u001b[38;5;34m36,928\u001b[0m │\n",
              "├─────────────────────────────────┼────────────────────────┼───────────────┤\n",
              "│ conv2d_transpose_88             │ (\u001b[38;5;45mNone\u001b[0m, \u001b[38;5;34m28\u001b[0m, \u001b[38;5;34m28\u001b[0m, \u001b[38;5;34m32\u001b[0m)     │        \u001b[38;5;34m18,464\u001b[0m │\n",
              "│ (\u001b[38;5;33mConv2DTranspose\u001b[0m)               │                        │               │\n",
              "├─────────────────────────────────┼────────────────────────┼───────────────┤\n",
              "│ conv2d_506 (\u001b[38;5;33mConv2D\u001b[0m)             │ (\u001b[38;5;45mNone\u001b[0m, \u001b[38;5;34m28\u001b[0m, \u001b[38;5;34m28\u001b[0m, \u001b[38;5;34m32\u001b[0m)     │         \u001b[38;5;34m9,248\u001b[0m │\n",
              "├─────────────────────────────────┼────────────────────────┼───────────────┤\n",
              "│ conv2d_507 (\u001b[38;5;33mConv2D\u001b[0m)             │ (\u001b[38;5;45mNone\u001b[0m, \u001b[38;5;34m28\u001b[0m, \u001b[38;5;34m28\u001b[0m, \u001b[38;5;34m32\u001b[0m)     │         \u001b[38;5;34m9,248\u001b[0m │\n",
              "├─────────────────────────────────┼────────────────────────┼───────────────┤\n",
              "│ conv2d_508 (\u001b[38;5;33mConv2D\u001b[0m)             │ (\u001b[38;5;45mNone\u001b[0m, \u001b[38;5;34m28\u001b[0m, \u001b[38;5;34m28\u001b[0m, \u001b[38;5;34m1\u001b[0m)      │            \u001b[38;5;34m33\u001b[0m │\n",
              "└─────────────────────────────────┴────────────────────────┴───────────────┘\n"
            ]
          },
          "metadata": {},
          "output_type": "display_data"
        },
        {
          "data": {
            "text/html": [
              "<pre style=\"white-space:pre;overflow-x:auto;line-height:normal;font-family:Menlo,'DejaVu Sans Mono',consolas,'Courier New',monospace\"><span style=\"font-weight: bold\"> Total params: </span><span style=\"color: #00af00; text-decoration-color: #00af00\">471,073</span> (1.80 MB)\n",
              "</pre>\n"
            ],
            "text/plain": [
              "\u001b[1m Total params: \u001b[0m\u001b[38;5;34m471,073\u001b[0m (1.80 MB)\n"
            ]
          },
          "metadata": {},
          "output_type": "display_data"
        },
        {
          "data": {
            "text/html": [
              "<pre style=\"white-space:pre;overflow-x:auto;line-height:normal;font-family:Menlo,'DejaVu Sans Mono',consolas,'Courier New',monospace\"><span style=\"font-weight: bold\"> Trainable params: </span><span style=\"color: #00af00; text-decoration-color: #00af00\">471,073</span> (1.80 MB)\n",
              "</pre>\n"
            ],
            "text/plain": [
              "\u001b[1m Trainable params: \u001b[0m\u001b[38;5;34m471,073\u001b[0m (1.80 MB)\n"
            ]
          },
          "metadata": {},
          "output_type": "display_data"
        },
        {
          "data": {
            "text/html": [
              "<pre style=\"white-space:pre;overflow-x:auto;line-height:normal;font-family:Menlo,'DejaVu Sans Mono',consolas,'Courier New',monospace\"><span style=\"font-weight: bold\"> Non-trainable params: </span><span style=\"color: #00af00; text-decoration-color: #00af00\">0</span> (0.00 B)\n",
              "</pre>\n"
            ],
            "text/plain": [
              "\u001b[1m Non-trainable params: \u001b[0m\u001b[38;5;34m0\u001b[0m (0.00 B)\n"
            ]
          },
          "metadata": {},
          "output_type": "display_data"
        },
        {
          "name": "stdout",
          "output_type": "stream",
          "text": [
            "None\n",
            "+----------+---------------------+\n",
            "|  Layer   | Convolutional model |\n",
            "+----------+---------------------+\n",
            "| Layer 0  |         0.0         |\n",
            "| Layer 1  |         0.0         |\n",
            "| Layer 2  |         0.0         |\n",
            "| Layer 3  |         0.0         |\n",
            "| Layer 4  |         0.0         |\n",
            "| Layer 5  |         0.0         |\n",
            "| Layer 6  |         0.0         |\n",
            "| Layer 7  |         0.0         |\n",
            "| Layer 8  |         0.0         |\n",
            "| Layer 9  |         0.0         |\n",
            "| Layer 10 |         0.0         |\n",
            "| Layer 11 |         0.0         |\n",
            "| Layer 12 |         0.0         |\n",
            "| Layer 13 |         0.0         |\n",
            "| Layer 14 |         0.0         |\n",
            "| Layer 15 |         0.0         |\n",
            "| Layer 16 |         0.0         |\n",
            "| Layer 17 |         0.0         |\n",
            "| Layer 18 |         0.0         |\n",
            "| Layer 19 |         0.0         |\n",
            "| Layer 20 |         0.0         |\n",
            "| Layer 21 |         0.0         |\n",
            "| Layer 22 |         0.0         |\n",
            "| Layer 23 |         0.0         |\n",
            "| Layer 24 |         0.0         |\n",
            "| Layer 25 |         0.0         |\n",
            "+----------+---------------------+\n",
            "+---------------------+---------------+\n",
            "|        Model        | Synflow score |\n",
            "+---------------------+---------------+\n",
            "| Convolutional model |      0.0      |\n",
            "+---------------------+---------------+\n"
          ]
        }
      ],
      "source": [
        "convolutional_model = keras.Sequential([\n",
        "  keras.layers.Input(shape=input_shape),\n",
        "  keras.layers.Conv2D(32, (3, 3), activation='relu', padding='same', kernel_initializer='he_normal'),\n",
        "  keras.layers.Conv2D(32, (3, 3), activation='relu', padding='same', kernel_initializer='he_normal'),\n",
        "  keras.layers.MaxPooling2D((2, 2)),\n",
        "  \n",
        "  keras.layers.Conv2D(64, (3, 3), activation='tanh', padding='same', kernel_initializer='he_normal'),\n",
        "  keras.layers.Conv2D(64, (3, 3), activation='tanh', padding='same', kernel_initializer='he_normal'),\n",
        "  keras.layers.MaxPooling2D((2, 2)),\n",
        "\n",
        "  keras.layers.Conv2D(128, (3, 3), activation='sigmoid', padding='same', kernel_initializer='he_normal'),\n",
        "  keras.layers.Conv2D(128, (3, 3), activation='sigmoid', padding='same', kernel_initializer='he_normal'),\n",
        "\n",
        "  keras.layers.Conv2DTranspose(64, (3, 3), activation='relu', strides=(2, 2), padding='same', kernel_initializer='he_normal'),\n",
        "  keras.layers.Conv2D(64, (3, 3), activation='tanh', padding='same', kernel_initializer='he_normal'),\n",
        "  keras.layers.Conv2D(64, (3, 3), activation='tanh', padding='same', kernel_initializer='he_normal'),\n",
        "  \n",
        "  keras.layers.Conv2DTranspose(32, (3, 3), activation='relu', strides=(2, 2), padding='same', kernel_initializer='he_normal'),\n",
        "  keras.layers.Conv2D(32, (3, 3), activation='sigmoid', padding='same', kernel_initializer='he_normal'),\n",
        "  keras.layers.Conv2D(32, (3, 3), activation='sigmoid', padding='same', kernel_initializer='he_normal'),\n",
        "\n",
        "  keras.layers.Conv2D(1, (1, 1), activation='sigmoid')\n",
        "])\n",
        "\n",
        "# Mostramos el resumen del modelo\n",
        "print(convolutional_model.summary())\n",
        "\n",
        "# Compilamos el modelo\n",
        "convolutional_model.compile(\n",
        "  optimizer='adam',\n",
        "  loss='sparse_categorical_crossentropy',\n",
        "  metrics=['accuracy']\n",
        ")\n",
        "\n",
        "# construimos el modelo\n",
        "convolutional_model.build()\n",
        "\n",
        "# Predecimos con synflow\n",
        "score_convolutional_model = compute_synflow_per_weight(convolutional_model, input_shape)\n",
        "\n",
        "# Score por capa\n",
        "table = pt.PrettyTable()\n",
        "table.field_names = [\"Layer\", \"Convolutional model\"]\n",
        "for i, score in enumerate(score_convolutional_model):\n",
        "  table.add_row([f\"Layer {i}\", np.sum(score)])\n",
        "print(table)\n",
        "\n",
        "# Score total\n",
        "score_convolutional_model = [np.sum(score) for score in score_convolutional_model]\n",
        "\n",
        "# Score total\n",
        "table = pt.PrettyTable()\n",
        "table.field_names = [\"Model\", \"Synflow score\"]\n",
        "table.add_row([\"Convolutional model\", np.sum(score_convolutional_model)])\n",
        "print(table)"
      ]
    }
  ],
  "metadata": {
    "accelerator": "GPU",
    "colab": {
      "gpuType": "T4",
      "provenance": []
    },
    "kernelspec": {
      "display_name": "Python 3",
      "name": "python3"
    },
    "language_info": {
      "codemirror_mode": {
        "name": "ipython",
        "version": 3
      },
      "file_extension": ".py",
      "mimetype": "text/x-python",
      "name": "python",
      "nbconvert_exporter": "python",
      "pygments_lexer": "ipython3",
      "version": "3.11.4"
    }
  },
  "nbformat": 4,
  "nbformat_minor": 0
}
