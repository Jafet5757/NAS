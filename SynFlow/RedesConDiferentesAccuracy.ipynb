{
  "cells": [
    {
      "cell_type": "markdown",
      "metadata": {
        "id": "DrPJW9t8ZDsw"
      },
      "source": []
    },
    {
      "cell_type": "code",
      "execution_count": 236,
      "metadata": {
        "id": "pxBWYEiKY_Az"
      },
      "outputs": [],
      "source": [
        "import tensorflow as tf\n",
        "from tensorflow import keras\n",
        "from tensorflow.keras.datasets import mnist\n",
        "from tensorflow.keras.utils import to_categorical\n",
        "import matplotlib.pyplot as plt\n",
        "import numpy as np\n",
        "import random\n",
        "import os\n",
        "from dotenv import load_dotenv"
      ]
    },
    {
      "cell_type": "markdown",
      "metadata": {},
      "source": [
        "Definimos la semilla"
      ]
    },
    {
      "cell_type": "code",
      "execution_count": 237,
      "metadata": {},
      "outputs": [],
      "source": [
        "# Cargamos las variables de entorno\n",
        "load_dotenv(dotenv_path='./../variables.env')\n",
        "\n",
        "seed = int(os.getenv(\"SEED\"))\n",
        "\n",
        "def set_seed():\n",
        "    os.environ['TF_DETERMINISTIC_OPS'] = '1'\n",
        "    os.environ['PYTHONHASHSEED'] = str(seed)\n",
        "    random.seed(seed)\n",
        "    np.random.seed(seed)\n",
        "    tf.random.set_seed(seed)\n",
        "\n",
        "set_seed()\n"
      ]
    },
    {
      "cell_type": "markdown",
      "metadata": {
        "id": "_LzdSwyrZEe8"
      },
      "source": [
        "# Load Data"
      ]
    },
    {
      "cell_type": "code",
      "execution_count": 238,
      "metadata": {
        "colab": {
          "base_uri": "https://localhost:8080/"
        },
        "id": "kc47gzIwZCFh",
        "outputId": "92774ec4-2e06-43e4-a1b8-62a9098a5d22"
      },
      "outputs": [],
      "source": [
        "# Cargar el dataset MNIST\n",
        "(X_train, y_train), (X_test, y_test) = mnist.load_data()\n",
        "\n",
        "# Normalizar las imágenes a un rango de 0 a 1\n",
        "X_train = X_train.astype('float32') / 255.0\n",
        "X_test = X_test.astype('float32') / 255.0\n",
        "\n",
        "# Si las imágenes son de una sola canal (escala de grises), necesitas agregar una dimensión extra\n",
        "# para que sean compatibles con las capas de convolución de Keras\n",
        "X_train = X_train.reshape((X_train.shape[0], 28, 28, 1))\n",
        "X_test = X_test.reshape((X_test.shape[0], 28, 28, 1))"
      ]
    },
    {
      "cell_type": "code",
      "execution_count": 239,
      "metadata": {
        "colab": {
          "base_uri": "https://localhost:8080/",
          "height": 447
        },
        "id": "LacGd_wGZJAd",
        "outputId": "f884c434-23e5-4792-85e2-ec24afedb5e2"
      },
      "outputs": [
        {
          "name": "stdout",
          "output_type": "stream",
          "text": [
            "5\n",
            "(28, 28, 1)\n"
          ]
        },
        {
          "data": {
            "image/png": "[encoded data removed]",
            "text/plain": [
              "<Figure size 640x480 with 1 Axes>"
            ]
          },
          "metadata": {},
          "output_type": "display_data"
        }
      ],
      "source": [
        "plt.imshow(X_train[0], cmap='gray')\n",
        "print(y_train[0])\n",
        "print(X_train[0].shape)"
      ]
    },
    {
      "cell_type": "markdown",
      "metadata": {
        "id": "p1EvnACqZHY8"
      },
      "source": [
        "# Modelos"
      ]
    },
    {
      "cell_type": "code",
      "execution_count": 240,
      "metadata": {},
      "outputs": [],
      "source": [
        "# Definimos los modelos\n",
        "\n",
        "# seteamos la semilla\n",
        "set_seed()\n",
        "# Creamos el modelo de red neuronal Alta precisión\n",
        "model_good = keras.Sequential([\n",
        "  keras.layers.Flatten(input_shape=(28, 28)),\n",
        "  keras.layers.Dense(128, activation='sigmoid'),\n",
        "  keras.layers.Dense(10, activation='softmax')\n",
        "])\n",
        "\n",
        "# seteamos la semilla\n",
        "set_seed()\n",
        "# Creamos el modelo de red neuronal Media precisión\n",
        "model_medium = keras.Sequential([\n",
        "  keras.layers.Flatten(input_shape=(28, 28)),\n",
        "  keras.layers.Dense(99, activation='softmax', kernel_initializer='ones', bias_initializer='ones'),\n",
        "  keras.layers.Dense(28, activation='linear', kernel_initializer='ones', bias_initializer='ones'),\n",
        "  keras.layers.Dense(10, activation='softmax')\n",
        "])\n",
        "\n",
        "# seteamos la semilla\n",
        "set_seed()\n",
        "# Creamos el modelo de red neuronal Baja precisión\n",
        "model_bad = keras.Sequential([\n",
        "  keras.layers.Flatten(input_shape=(28, 28)),\n",
        "  keras.layers.Dense(33, activation='elu', kernel_initializer='ones', bias_initializer='ones'),\n",
        "  keras.layers.Dense(88, activation='sigmoid', kernel_initializer='ones', bias_initializer='ones'),\n",
        "  keras.layers.Dense(10, activation='softmax')\n",
        "])\n"
      ]
    },
    {
      "cell_type": "markdown",
      "metadata": {},
      "source": [
        "# Predecimos los modelos antes de entrenarlos"
      ]
    },
    {
      "cell_type": "markdown",
      "metadata": {},
      "source": [
        "## Técnica de estimación\n",
        "Programamos SynFlow"
      ]
    },
    {
      "cell_type": "code",
      "execution_count": 241,
      "metadata": {},
      "outputs": [],
      "source": [
        "def linearize(model):\n",
        "  \"\"\" \n",
        "    Get the absolute value of the weights of the model and return the signs of the weights \n",
        "  \"\"\"\n",
        "  signs = []\n",
        "  for layer in model.layers:\n",
        "    if len(layer.get_weights()) > 0:\n",
        "      weights = layer.get_weights()\n",
        "      layer_signs = [np.sign(w) for w in weights]\n",
        "      new_weights = [np.abs(w) for w in weights]\n",
        "      layer.set_weights(new_weights)\n",
        "      signs.append(layer_signs)\n",
        "  return signs\n",
        "\n",
        "\n",
        "def compute_synflow_per_weight(model, input_shape):\n",
        "  signs = linearize(model) # Get the signs of the weights and transform the absolute value of the weights\n",
        "\n",
        "  inputs = np.ones((1,)+input_shape)\n",
        "  with tf.GradientTape() as tape:\n",
        "    trainable_variables = [tf.Variable(v) for v in model.trainable_variables]\n",
        "    tape.watch(trainable_variables)\n",
        "    outputs = model(inputs)\n",
        "    loss = tf.reduce_sum(outputs)\n",
        "  grads = tape.gradient(loss, model.trainable_variables)\n",
        "\n",
        "  # Apply gradient clipping to avoid numerical instability\n",
        "  grads = [tf.clip_by_value(grad, -1.0, 1.0) for grad in grads]\n",
        "\n",
        "  # Diagnostic prints for gradients and weights\n",
        "  for i, g in enumerate(grads):\n",
        "    print(f\"Gradient of layer {i}: {g.numpy()}\")\n",
        "    if np.isnan(g.numpy()).any():\n",
        "      print(f\"NaN detected in gradient of layer {i}: {g.numpy()}\")\n",
        "      # Pause and wait for user input\n",
        "      print(\"Model summary:\")\n",
        "      model.summary()\n",
        "      input(\"NaN detected. Press enter to continue...\")\n",
        "      return None\n",
        "    \n",
        "  for i, w in enumerate(model.trainable_variables):\n",
        "    print(f\"Weights of layer {i}: {w.numpy()}\")\n",
        "    if np.isnan(w.numpy()).any():\n",
        "      print(f\"NaN detected in weights of layer {i}: {w.numpy()}\")\n",
        "      # Pause and wait for user input\n",
        "      print(\"Model summary:\")\n",
        "      model.summary()\n",
        "      for i, g in enumerate(grads):\n",
        "        print(f\"Gradient of layer {i}: {g.numpy()}\")\n",
        "      input(\"NaN detected. Press enter to continue...\")\n",
        "      return None\n",
        "      \n",
        "    synflow_scores = [np.abs(w.numpy() * g.numpy()) for w, g in zip(model.trainable_variables, grads)]\n",
        "\n",
        "    return synflow_scores"
      ]
    },
    {
      "cell_type": "markdown",
      "metadata": {},
      "source": [
        "### Predicción de redes"
      ]
    },
    {
      "cell_type": "code",
      "execution_count": 242,
      "metadata": {},
      "outputs": [
        {
          "name": "stdout",
          "output_type": "stream",
          "text": [
            "Gradient of layer 0: [[0. 0. 0. ... 0. 0. 0.]\n",
            " [0. 0. 0. ... 0. 0. 0.]\n",
            " [0. 0. 0. ... 0. 0. 0.]\n",
            " ...\n",
            " [0. 0. 0. ... 0. 0. 0.]\n",
            " [0. 0. 0. ... 0. 0. 0.]\n",
            " [0. 0. 0. ... 0. 0. 0.]]\n",
            "Gradient of layer 1: [0. 0. 0. 0. 0. 0. 0. 0. 0. 0. 0. 0. 0. 0. 0. 0. 0. 0. 0. 0. 0. 0. 0. 0.\n",
            " 0. 0. 0. 0. 0. 0. 0. 0. 0. 0. 0. 0. 0. 0. 0. 0. 0. 0. 0. 0. 0. 0. 0. 0.\n",
            " 0. 0. 0. 0. 0. 0. 0. 0. 0. 0. 0. 0. 0. 0. 0. 0. 0. 0. 0. 0. 0. 0. 0. 0.\n",
            " 0. 0. 0. 0. 0. 0. 0. 0. 0. 0. 0. 0. 0. 0. 0. 0. 0. 0. 0. 0. 0. 0. 0. 0.\n",
            " 0. 0. 0. 0. 0. 0. 0. 0. 0. 0. 0. 0. 0. 0. 0. 0. 0. 0. 0. 0. 0. 0. 0. 0.\n",
            " 0. 0. 0. 0. 0. 0. 0. 0.]\n",
            "Gradient of layer 2: [[0. 0. 0. ... 0. 0. 0.]\n",
            " [0. 0. 0. ... 0. 0. 0.]\n",
            " [0. 0. 0. ... 0. 0. 0.]\n",
            " ...\n",
            " [0. 0. 0. ... 0. 0. 0.]\n",
            " [0. 0. 0. ... 0. 0. 0.]\n",
            " [0. 0. 0. ... 0. 0. 0.]]\n",
            "Gradient of layer 3: [0. 0. 0. 0. 0. 0. 0. 0. 0. 0.]\n",
            "Weights of layer 0: [[0.0627376  0.02128818 0.02913707 ... 0.06795544 0.07496486 0.07485852]\n",
            " [0.08061031 0.04484165 0.04038415 ... 0.04493705 0.07403212 0.03695085]\n",
            " [0.07491503 0.07740021 0.04259048 ... 0.04357981 0.01282936 0.02961048]\n",
            " ...\n",
            " [0.04139845 0.07115247 0.01134286 ... 0.00609456 0.04163172 0.06251519]\n",
            " [0.00801864 0.03152479 0.02017302 ... 0.06559338 0.02175125 0.0456071 ]\n",
            " [0.06318883 0.00786641 0.01227054 ... 0.05498662 0.02273598 0.02505857]]\n",
            "Gradient of layer 0: [[0. 0. 0. ... 0. 0. 0.]\n",
            " [0. 0. 0. ... 0. 0. 0.]\n",
            " [0. 0. 0. ... 0. 0. 0.]\n",
            " ...\n",
            " [0. 0. 0. ... 0. 0. 0.]\n",
            " [0. 0. 0. ... 0. 0. 0.]\n",
            " [0. 0. 0. ... 0. 0. 0.]]\n",
            "Gradient of layer 1: [0. 0. 0. 0. 0. 0. 0. 0. 0. 0. 0. 0. 0. 0. 0. 0. 0. 0. 0. 0. 0. 0. 0. 0.\n",
            " 0. 0. 0. 0. 0. 0. 0. 0. 0. 0. 0. 0. 0. 0. 0. 0. 0. 0. 0. 0. 0. 0. 0. 0.\n",
            " 0. 0. 0. 0. 0. 0. 0. 0. 0. 0. 0. 0. 0. 0. 0. 0. 0. 0. 0. 0. 0. 0. 0. 0.\n",
            " 0. 0. 0. 0. 0. 0. 0. 0. 0. 0. 0. 0. 0. 0. 0. 0. 0. 0. 0. 0. 0. 0. 0. 0.\n",
            " 0. 0. 0.]\n",
            "Gradient of layer 2: [[1.05249504e-10 1.15721710e-10 8.50651286e-11 ... 1.42801340e-10\n",
            "  1.36275796e-10 1.41072848e-10]\n",
            " [1.05249504e-10 1.15721710e-10 8.50651286e-11 ... 1.42801340e-10\n",
            "  1.36275796e-10 1.41072848e-10]\n",
            " [1.05249504e-10 1.15721710e-10 8.50651286e-11 ... 1.42801340e-10\n",
            "  1.36275796e-10 1.41072848e-10]\n",
            " ...\n",
            " [1.05249504e-10 1.15721710e-10 8.50651286e-11 ... 1.42801340e-10\n",
            "  1.36275796e-10 1.41072848e-10]\n",
            " [1.05249504e-10 1.15721710e-10 8.50651286e-11 ... 1.42801340e-10\n",
            "  1.36275796e-10 1.41072848e-10]\n",
            " [1.05249504e-10 1.15721710e-10 8.50651286e-11 ... 1.42801340e-10\n",
            "  1.36275796e-10 1.41072848e-10]]\n",
            "Gradient of layer 3: [1.04197007e-08 1.14564491e-08 8.42144754e-09 7.12753634e-09\n",
            " 1.34031080e-08 1.44532049e-08 1.32559199e-08 1.19793526e-08\n",
            " 1.48349670e-08 1.79506348e-08 1.16210801e-08 1.32001317e-08\n",
            " 1.39411895e-08 1.04785443e-08 1.16123875e-08 1.62320646e-08\n",
            " 1.30365345e-08 1.49306949e-08 1.85965359e-08 1.36996858e-08\n",
            " 1.30681546e-08 1.04168860e-08 1.19202408e-08 7.30048066e-09\n",
            " 1.59172835e-08 1.41373331e-08 1.34913041e-08 1.39662113e-08]\n",
            "Gradient of layer 4: [[1.5037577e-08 4.9657469e-09 5.3337419e-09 4.6687134e-08 3.9948281e-10\n",
            "  2.4495759e-09 4.4871120e-09 2.4332001e-08 9.5495265e-09 5.9674328e-09]\n",
            " [1.5037577e-08 4.9657469e-09 5.3337419e-09 4.6687134e-08 3.9948281e-10\n",
            "  2.4495759e-09 4.4871120e-09 2.4332001e-08 9.5495265e-09 5.9674328e-09]\n",
            " [1.5037577e-08 4.9657469e-09 5.3337419e-09 4.6687134e-08 3.9948281e-10\n",
            "  2.4495759e-09 4.4871120e-09 2.4332001e-08 9.5495265e-09 5.9674328e-09]\n",
            " [1.5037577e-08 4.9657469e-09 5.3337419e-09 4.6687134e-08 3.9948281e-10\n",
            "  2.4495759e-09 4.4871120e-09 2.4332001e-08 9.5495265e-09 5.9674328e-09]\n",
            " [1.5037577e-08 4.9657469e-09 5.3337419e-09 4.6687134e-08 3.9948281e-10\n",
            "  2.4495759e-09 4.4871120e-09 2.4332001e-08 9.5495265e-09 5.9674328e-09]\n",
            " [1.5037577e-08 4.9657469e-09 5.3337419e-09 4.6687134e-08 3.9948281e-10\n",
            "  2.4495759e-09 4.4871120e-09 2.4332001e-08 9.5495265e-09 5.9674328e-09]\n",
            " [1.5037577e-08 4.9657469e-09 5.3337419e-09 4.6687134e-08 3.9948281e-10\n",
            "  2.4495759e-09 4.4871120e-09 2.4332001e-08 9.5495265e-09 5.9674328e-09]\n",
            " [1.5037577e-08 4.9657469e-09 5.3337419e-09 4.6687134e-08 3.9948281e-10\n",
            "  2.4495759e-09 4.4871120e-09 2.4332001e-08 9.5495265e-09 5.9674328e-09]\n",
            " [1.5037577e-08 4.9657469e-09 5.3337419e-09 4.6687134e-08 3.9948281e-10\n",
            "  2.4495759e-09 4.4871120e-09 2.4332001e-08 9.5495265e-09 5.9674328e-09]\n",
            " [1.5037577e-08 4.9657469e-09 5.3337419e-09 4.6687134e-08 3.9948281e-10\n",
            "  2.4495759e-09 4.4871120e-09 2.4332001e-08 9.5495265e-09 5.9674328e-09]\n",
            " [1.5037577e-08 4.9657469e-09 5.3337419e-09 4.6687134e-08 3.9948281e-10\n",
            "  2.4495759e-09 4.4871120e-09 2.4332001e-08 9.5495265e-09 5.9674328e-09]\n",
            " [1.5037577e-08 4.9657469e-09 5.3337419e-09 4.6687134e-08 3.9948281e-10\n",
            "  2.4495759e-09 4.4871120e-09 2.4332001e-08 9.5495265e-09 5.9674328e-09]\n",
            " [1.5037577e-08 4.9657469e-09 5.3337419e-09 4.6687134e-08 3.9948281e-10\n",
            "  2.4495759e-09 4.4871120e-09 2.4332001e-08 9.5495265e-09 5.9674328e-09]\n",
            " [1.5037577e-08 4.9657469e-09 5.3337419e-09 4.6687134e-08 3.9948281e-10\n",
            "  2.4495759e-09 4.4871120e-09 2.4332001e-08 9.5495265e-09 5.9674328e-09]\n",
            " [1.5037577e-08 4.9657469e-09 5.3337419e-09 4.6687134e-08 3.9948281e-10\n",
            "  2.4495759e-09 4.4871120e-09 2.4332001e-08 9.5495265e-09 5.9674328e-09]\n",
            " [1.5037577e-08 4.9657469e-09 5.3337419e-09 4.6687134e-08 3.9948281e-10\n",
            "  2.4495759e-09 4.4871120e-09 2.4332001e-08 9.5495265e-09 5.9674328e-09]\n",
            " [1.5037577e-08 4.9657469e-09 5.3337419e-09 4.6687134e-08 3.9948281e-10\n",
            "  2.4495759e-09 4.4871120e-09 2.4332001e-08 9.5495265e-09 5.9674328e-09]\n",
            " [1.5037577e-08 4.9657469e-09 5.3337419e-09 4.6687134e-08 3.9948281e-10\n",
            "  2.4495759e-09 4.4871120e-09 2.4332001e-08 9.5495265e-09 5.9674328e-09]\n",
            " [1.5037577e-08 4.9657469e-09 5.3337419e-09 4.6687134e-08 3.9948281e-10\n",
            "  2.4495759e-09 4.4871120e-09 2.4332001e-08 9.5495265e-09 5.9674328e-09]\n",
            " [1.5037577e-08 4.9657469e-09 5.3337419e-09 4.6687134e-08 3.9948281e-10\n",
            "  2.4495759e-09 4.4871120e-09 2.4332001e-08 9.5495265e-09 5.9674328e-09]\n",
            " [1.5037577e-08 4.9657469e-09 5.3337419e-09 4.6687134e-08 3.9948281e-10\n",
            "  2.4495759e-09 4.4871120e-09 2.4332001e-08 9.5495265e-09 5.9674328e-09]\n",
            " [1.5037577e-08 4.9657469e-09 5.3337419e-09 4.6687134e-08 3.9948281e-10\n",
            "  2.4495759e-09 4.4871120e-09 2.4332001e-08 9.5495265e-09 5.9674328e-09]\n",
            " [1.5037577e-08 4.9657469e-09 5.3337419e-09 4.6687134e-08 3.9948281e-10\n",
            "  2.4495759e-09 4.4871120e-09 2.4332001e-08 9.5495265e-09 5.9674328e-09]\n",
            " [1.5037577e-08 4.9657469e-09 5.3337419e-09 4.6687134e-08 3.9948281e-10\n",
            "  2.4495759e-09 4.4871120e-09 2.4332001e-08 9.5495265e-09 5.9674328e-09]\n",
            " [1.5037577e-08 4.9657469e-09 5.3337419e-09 4.6687134e-08 3.9948281e-10\n",
            "  2.4495759e-09 4.4871120e-09 2.4332001e-08 9.5495265e-09 5.9674328e-09]\n",
            " [1.5037577e-08 4.9657469e-09 5.3337419e-09 4.6687134e-08 3.9948281e-10\n",
            "  2.4495759e-09 4.4871120e-09 2.4332001e-08 9.5495265e-09 5.9674328e-09]\n",
            " [1.5037577e-08 4.9657469e-09 5.3337419e-09 4.6687134e-08 3.9948281e-10\n",
            "  2.4495759e-09 4.4871120e-09 2.4332001e-08 9.5495265e-09 5.9674328e-09]\n",
            " [1.5037577e-08 4.9657469e-09 5.3337419e-09 4.6687134e-08 3.9948281e-10\n",
            "  2.4495759e-09 4.4871120e-09 2.4332001e-08 9.5495265e-09 5.9674328e-09]]\n",
            "Gradient of layer 5: [7.5187856e-09 2.4828726e-09 2.6668701e-09 2.3343558e-08 1.9974133e-10\n",
            " 1.2247875e-09 2.2435551e-09 1.2165996e-08 4.7747615e-09 2.9837153e-09]\n",
            "Weights of layer 0: [[1. 1. 1. ... 1. 1. 1.]\n",
            " [1. 1. 1. ... 1. 1. 1.]\n",
            " [1. 1. 1. ... 1. 1. 1.]\n",
            " ...\n",
            " [1. 1. 1. ... 1. 1. 1.]\n",
            " [1. 1. 1. ... 1. 1. 1.]\n",
            " [1. 1. 1. ... 1. 1. 1.]]\n",
            "Gradient of layer 0: [[0. 0. 0. ... 0. 0. 0.]\n",
            " [0. 0. 0. ... 0. 0. 0.]\n",
            " [0. 0. 0. ... 0. 0. 0.]\n",
            " ...\n",
            " [0. 0. 0. ... 0. 0. 0.]\n",
            " [0. 0. 0. ... 0. 0. 0.]\n",
            " [0. 0. 0. ... 0. 0. 0.]]\n",
            "Gradient of layer 1: [0. 0. 0. 0. 0. 0. 0. 0. 0. 0. 0. 0. 0. 0. 0. 0. 0. 0. 0. 0. 0. 0. 0. 0.\n",
            " 0. 0. 0. 0. 0. 0. 0. 0. 0.]\n",
            "Gradient of layer 2: [[0. 0. 0. ... 0. 0. 0.]\n",
            " [0. 0. 0. ... 0. 0. 0.]\n",
            " [0. 0. 0. ... 0. 0. 0.]\n",
            " ...\n",
            " [0. 0. 0. ... 0. 0. 0.]\n",
            " [0. 0. 0. ... 0. 0. 0.]\n",
            " [0. 0. 0. ... 0. 0. 0.]]\n",
            "Gradient of layer 3: [0. 0. 0. 0. 0. 0. 0. 0. 0. 0. 0. 0. 0. 0. 0. 0. 0. 0. 0. 0. 0. 0. 0. 0.\n",
            " 0. 0. 0. 0. 0. 0. 0. 0. 0. 0. 0. 0. 0. 0. 0. 0. 0. 0. 0. 0. 0. 0. 0. 0.\n",
            " 0. 0. 0. 0. 0. 0. 0. 0. 0. 0. 0. 0. 0. 0. 0. 0. 0. 0. 0. 0. 0. 0. 0. 0.\n",
            " 0. 0. 0. 0. 0. 0. 0. 0. 0. 0. 0. 0. 0. 0. 0. 0.]\n",
            "Gradient of layer 4: [[0. 0. 0. 0. 0. 0. 0. 0. 0. 0.]\n",
            " [0. 0. 0. 0. 0. 0. 0. 0. 0. 0.]\n",
            " [0. 0. 0. 0. 0. 0. 0. 0. 0. 0.]\n",
            " [0. 0. 0. 0. 0. 0. 0. 0. 0. 0.]\n",
            " [0. 0. 0. 0. 0. 0. 0. 0. 0. 0.]\n",
            " [0. 0. 0. 0. 0. 0. 0. 0. 0. 0.]\n",
            " [0. 0. 0. 0. 0. 0. 0. 0. 0. 0.]\n",
            " [0. 0. 0. 0. 0. 0. 0. 0. 0. 0.]\n",
            " [0. 0. 0. 0. 0. 0. 0. 0. 0. 0.]\n",
            " [0. 0. 0. 0. 0. 0. 0. 0. 0. 0.]\n",
            " [0. 0. 0. 0. 0. 0. 0. 0. 0. 0.]\n",
            " [0. 0. 0. 0. 0. 0. 0. 0. 0. 0.]\n",
            " [0. 0. 0. 0. 0. 0. 0. 0. 0. 0.]\n",
            " [0. 0. 0. 0. 0. 0. 0. 0. 0. 0.]\n",
            " [0. 0. 0. 0. 0. 0. 0. 0. 0. 0.]\n",
            " [0. 0. 0. 0. 0. 0. 0. 0. 0. 0.]\n",
            " [0. 0. 0. 0. 0. 0. 0. 0. 0. 0.]\n",
            " [0. 0. 0. 0. 0. 0. 0. 0. 0. 0.]\n",
            " [0. 0. 0. 0. 0. 0. 0. 0. 0. 0.]\n",
            " [0. 0. 0. 0. 0. 0. 0. 0. 0. 0.]\n",
            " [0. 0. 0. 0. 0. 0. 0. 0. 0. 0.]\n",
            " [0. 0. 0. 0. 0. 0. 0. 0. 0. 0.]\n",
            " [0. 0. 0. 0. 0. 0. 0. 0. 0. 0.]\n",
            " [0. 0. 0. 0. 0. 0. 0. 0. 0. 0.]\n",
            " [0. 0. 0. 0. 0. 0. 0. 0. 0. 0.]\n",
            " [0. 0. 0. 0. 0. 0. 0. 0. 0. 0.]\n",
            " [0. 0. 0. 0. 0. 0. 0. 0. 0. 0.]\n",
            " [0. 0. 0. 0. 0. 0. 0. 0. 0. 0.]\n",
            " [0. 0. 0. 0. 0. 0. 0. 0. 0. 0.]\n",
            " [0. 0. 0. 0. 0. 0. 0. 0. 0. 0.]\n",
            " [0. 0. 0. 0. 0. 0. 0. 0. 0. 0.]\n",
            " [0. 0. 0. 0. 0. 0. 0. 0. 0. 0.]\n",
            " [0. 0. 0. 0. 0. 0. 0. 0. 0. 0.]\n",
            " [0. 0. 0. 0. 0. 0. 0. 0. 0. 0.]\n",
            " [0. 0. 0. 0. 0. 0. 0. 0. 0. 0.]\n",
            " [0. 0. 0. 0. 0. 0. 0. 0. 0. 0.]\n",
            " [0. 0. 0. 0. 0. 0. 0. 0. 0. 0.]\n",
            " [0. 0. 0. 0. 0. 0. 0. 0. 0. 0.]\n",
            " [0. 0. 0. 0. 0. 0. 0. 0. 0. 0.]\n",
            " [0. 0. 0. 0. 0. 0. 0. 0. 0. 0.]\n",
            " [0. 0. 0. 0. 0. 0. 0. 0. 0. 0.]\n",
            " [0. 0. 0. 0. 0. 0. 0. 0. 0. 0.]\n",
            " [0. 0. 0. 0. 0. 0. 0. 0. 0. 0.]\n",
            " [0. 0. 0. 0. 0. 0. 0. 0. 0. 0.]\n",
            " [0. 0. 0. 0. 0. 0. 0. 0. 0. 0.]\n",
            " [0. 0. 0. 0. 0. 0. 0. 0. 0. 0.]\n",
            " [0. 0. 0. 0. 0. 0. 0. 0. 0. 0.]\n",
            " [0. 0. 0. 0. 0. 0. 0. 0. 0. 0.]\n",
            " [0. 0. 0. 0. 0. 0. 0. 0. 0. 0.]\n",
            " [0. 0. 0. 0. 0. 0. 0. 0. 0. 0.]\n",
            " [0. 0. 0. 0. 0. 0. 0. 0. 0. 0.]\n",
            " [0. 0. 0. 0. 0. 0. 0. 0. 0. 0.]\n",
            " [0. 0. 0. 0. 0. 0. 0. 0. 0. 0.]\n",
            " [0. 0. 0. 0. 0. 0. 0. 0. 0. 0.]\n",
            " [0. 0. 0. 0. 0. 0. 0. 0. 0. 0.]\n",
            " [0. 0. 0. 0. 0. 0. 0. 0. 0. 0.]\n",
            " [0. 0. 0. 0. 0. 0. 0. 0. 0. 0.]\n",
            " [0. 0. 0. 0. 0. 0. 0. 0. 0. 0.]\n",
            " [0. 0. 0. 0. 0. 0. 0. 0. 0. 0.]\n",
            " [0. 0. 0. 0. 0. 0. 0. 0. 0. 0.]\n",
            " [0. 0. 0. 0. 0. 0. 0. 0. 0. 0.]\n",
            " [0. 0. 0. 0. 0. 0. 0. 0. 0. 0.]\n",
            " [0. 0. 0. 0. 0. 0. 0. 0. 0. 0.]\n",
            " [0. 0. 0. 0. 0. 0. 0. 0. 0. 0.]\n",
            " [0. 0. 0. 0. 0. 0. 0. 0. 0. 0.]\n",
            " [0. 0. 0. 0. 0. 0. 0. 0. 0. 0.]\n",
            " [0. 0. 0. 0. 0. 0. 0. 0. 0. 0.]\n",
            " [0. 0. 0. 0. 0. 0. 0. 0. 0. 0.]\n",
            " [0. 0. 0. 0. 0. 0. 0. 0. 0. 0.]\n",
            " [0. 0. 0. 0. 0. 0. 0. 0. 0. 0.]\n",
            " [0. 0. 0. 0. 0. 0. 0. 0. 0. 0.]\n",
            " [0. 0. 0. 0. 0. 0. 0. 0. 0. 0.]\n",
            " [0. 0. 0. 0. 0. 0. 0. 0. 0. 0.]\n",
            " [0. 0. 0. 0. 0. 0. 0. 0. 0. 0.]\n",
            " [0. 0. 0. 0. 0. 0. 0. 0. 0. 0.]\n",
            " [0. 0. 0. 0. 0. 0. 0. 0. 0. 0.]\n",
            " [0. 0. 0. 0. 0. 0. 0. 0. 0. 0.]\n",
            " [0. 0. 0. 0. 0. 0. 0. 0. 0. 0.]\n",
            " [0. 0. 0. 0. 0. 0. 0. 0. 0. 0.]\n",
            " [0. 0. 0. 0. 0. 0. 0. 0. 0. 0.]\n",
            " [0. 0. 0. 0. 0. 0. 0. 0. 0. 0.]\n",
            " [0. 0. 0. 0. 0. 0. 0. 0. 0. 0.]\n",
            " [0. 0. 0. 0. 0. 0. 0. 0. 0. 0.]\n",
            " [0. 0. 0. 0. 0. 0. 0. 0. 0. 0.]\n",
            " [0. 0. 0. 0. 0. 0. 0. 0. 0. 0.]\n",
            " [0. 0. 0. 0. 0. 0. 0. 0. 0. 0.]\n",
            " [0. 0. 0. 0. 0. 0. 0. 0. 0. 0.]\n",
            " [0. 0. 0. 0. 0. 0. 0. 0. 0. 0.]]\n",
            "Gradient of layer 5: [0. 0. 0. 0. 0. 0. 0. 0. 0. 0.]\n",
            "Weights of layer 0: [[1. 1. 1. ... 1. 1. 1.]\n",
            " [1. 1. 1. ... 1. 1. 1.]\n",
            " [1. 1. 1. ... 1. 1. 1.]\n",
            " ...\n",
            " [1. 1. 1. ... 1. 1. 1.]\n",
            " [1. 1. 1. ... 1. 1. 1.]\n",
            " [1. 1. 1. ... 1. 1. 1.]]\n",
            "+---------+------------+\n",
            "|  Layer  | Good model |\n",
            "+---------+------------+\n",
            "| Layer 0 |    0.0     |\n",
            "| Layer 1 |    0.0     |\n",
            "| Layer 2 |    0.0     |\n",
            "| Layer 3 |    0.0     |\n",
            "+---------+------------+\n",
            "+---------+---------------+\n",
            "|  Layer  |  Medium model |\n",
            "+---------+---------------+\n",
            "| Layer 0 |      0.0      |\n",
            "| Layer 1 |      0.0      |\n",
            "| Layer 2 | 3.6086905e-07 |\n",
            "| Layer 3 | 3.6086905e-07 |\n",
            "| Layer 4 |  7.217384e-07 |\n",
            "| Layer 5 |      0.0      |\n",
            "+---------+---------------+\n",
            "+---------+-----------+\n",
            "|  Layer  | Bad model |\n",
            "+---------+-----------+\n",
            "| Layer 0 |    0.0    |\n",
            "| Layer 1 |    0.0    |\n",
            "| Layer 2 |    0.0    |\n",
            "| Layer 3 |    0.0    |\n",
            "| Layer 4 |    0.0    |\n",
            "| Layer 5 |    0.0    |\n",
            "+---------+-----------+\n",
            "+--------------+---------------+\n",
            "|    Model     | Synflow score |\n",
            "+--------------+---------------+\n",
            "|  Good model  |      0.0      |\n",
            "| Medium model | 1.4434765e-06 |\n",
            "|  Bad model   |      0.0      |\n",
            "+--------------+---------------+\n"
          ]
        }
      ],
      "source": [
        "import prettytable as pt\n",
        "\n",
        "input_shape = (28, 28, 1)\n",
        "\n",
        "score_model_good = compute_synflow_per_weight(model_good, input_shape)\n",
        "score_model_medium = compute_synflow_per_weight(model_medium, input_shape)\n",
        "score_model_bad = compute_synflow_per_weight(model_bad, input_shape)\n",
        "\n",
        "# Score por capa\n",
        "table = pt.PrettyTable()\n",
        "table.field_names = [\"Layer\", \"Good model\"]\n",
        "for i, score in enumerate(score_model_good):\n",
        "  table.add_row([f\"Layer {i}\", np.sum(score)])\n",
        "print(table)\n",
        "\n",
        "table = pt.PrettyTable()\n",
        "table.field_names = [\"Layer\", \"Medium model\"]\n",
        "for i, score in enumerate(score_model_medium):\n",
        "  table.add_row([f\"Layer {i}\", np.sum(score)])\n",
        "print(table)\n",
        "\n",
        "table = pt.PrettyTable()\n",
        "table.field_names = [\"Layer\", \"Bad model\"]\n",
        "for i, score in enumerate(score_model_bad):\n",
        "  table.add_row([f\"Layer {i}\", np.sum(score)])\n",
        "print(table)\n",
        "\n",
        "# Score total\n",
        "score_model_good = [np.sum(score) for score in score_model_good]\n",
        "score_model_medium = [np.sum(score) for score in score_model_medium]\n",
        "score_model_bad = [np.sum(score) for score in score_model_bad]\n",
        "\n",
        "# Score total\n",
        "table = pt.PrettyTable()\n",
        "table.field_names = [\"Model\", \"Synflow score\"]\n",
        "table.add_row([\"Good model\", np.sum(score_model_good)])\n",
        "table.add_row([\"Medium model\", np.sum(score_model_medium)])\n",
        "table.add_row([\"Bad model\", np.sum(score_model_bad)])\n",
        "print(table)"
      ]
    },
    {
      "cell_type": "markdown",
      "metadata": {
        "id": "uW0JimxTaL38"
      },
      "source": [
        "## Modelo de alta precisión"
      ]
    },
    {
      "cell_type": "code",
      "execution_count": 243,
      "metadata": {
        "colab": {
          "base_uri": "https://localhost:8080/"
        },
        "id": "tOWu-VfMZA5J",
        "outputId": "e884405b-a803-41f3-8c45-e9280bfea85d"
      },
      "outputs": [
        {
          "name": "stdout",
          "output_type": "stream",
          "text": [
            "Epoch 1/5\n",
            "\u001b[1m1875/1875\u001b[0m \u001b[32m━━━━━━━━━━━━━━━━━━━━\u001b[0m\u001b[37m\u001b[0m \u001b[1m2s\u001b[0m 756us/step - accuracy: 0.7706 - loss: 0.8538 - val_accuracy: 0.9326 - val_loss: 0.2320\n",
            "Epoch 2/5\n",
            "\u001b[1m1875/1875\u001b[0m \u001b[32m━━━━━━━━━━━━━━━━━━━━\u001b[0m\u001b[37m\u001b[0m \u001b[1m1s\u001b[0m 705us/step - accuracy: 0.9376 - loss: 0.2181 - val_accuracy: 0.9503 - val_loss: 0.1700\n",
            "Epoch 3/5\n",
            "\u001b[1m1875/1875\u001b[0m \u001b[32m━━━━━━━━━━━━━━━━━━━━\u001b[0m\u001b[37m\u001b[0m \u001b[1m1s\u001b[0m 713us/step - accuracy: 0.9541 - loss: 0.1584 - val_accuracy: 0.9598 - val_loss: 0.1370\n",
            "Epoch 4/5\n",
            "\u001b[1m1875/1875\u001b[0m \u001b[32m━━━━━━━━━━━━━━━━━━━━\u001b[0m\u001b[37m\u001b[0m \u001b[1m1s\u001b[0m 704us/step - accuracy: 0.9646 - loss: 0.1229 - val_accuracy: 0.9638 - val_loss: 0.1167\n",
            "Epoch 5/5\n",
            "\u001b[1m1875/1875\u001b[0m \u001b[32m━━━━━━━━━━━━━━━━━━━━\u001b[0m\u001b[37m\u001b[0m \u001b[1m1s\u001b[0m 711us/step - accuracy: 0.9725 - loss: 0.0988 - val_accuracy: 0.9679 - val_loss: 0.1034\n",
            "\u001b[1m313/313\u001b[0m \u001b[32m━━━━━━━━━━━━━━━━━━━━\u001b[0m\u001b[37m\u001b[0m \u001b[1m0s\u001b[0m 479us/step - accuracy: 0.9644 - loss: 0.1140\n",
            "Loss: 0.10342215746641159, Accuracy: 0.9678999781608582\n"
          ]
        }
      ],
      "source": [
        "\n",
        "model_good.compile(\n",
        "  optimizer='adam',\n",
        "  loss='sparse_categorical_crossentropy',\n",
        "  metrics=['accuracy']\n",
        ")\n",
        "\n",
        "params = {\n",
        "  'batch_size': 32,\n",
        "  'validation_data': (X_test, y_test),\n",
        "  'epochs': 5\n",
        "}\n",
        "\n",
        "# Entrenamos el modelo\n",
        "model_good.fit(X_train, y_train, **params)\n",
        "loss, accuracy = model_good.evaluate(X_test, y_test)\n",
        "print(f'Loss: {loss}, Accuracy: {accuracy}')"
      ]
    },
    {
      "cell_type": "markdown",
      "metadata": {
        "id": "RvfcauUWaOxK"
      },
      "source": [
        "## Modelo de media precisión"
      ]
    },
    {
      "cell_type": "code",
      "execution_count": 244,
      "metadata": {
        "colab": {
          "base_uri": "https://localhost:8080/"
        },
        "id": "zHkRqLokaTy6",
        "outputId": "aaea6274-6c0f-4dc0-b4c9-1e9228a7e7d6"
      },
      "outputs": [
        {
          "name": "stdout",
          "output_type": "stream",
          "text": [
            "Epoch 1/5\n",
            "\u001b[1m1875/1875\u001b[0m \u001b[32m━━━━━━━━━━━━━━━━━━━━\u001b[0m\u001b[37m\u001b[0m \u001b[1m2s\u001b[0m 820us/step - accuracy: 0.1789 - loss: 2.0980 - val_accuracy: 0.2151 - val_loss: 1.7503\n",
            "Epoch 2/5\n",
            "\u001b[1m1875/1875\u001b[0m \u001b[32m━━━━━━━━━━━━━━━━━━━━\u001b[0m\u001b[37m\u001b[0m \u001b[1m1s\u001b[0m 723us/step - accuracy: 0.2806 - loss: 1.7198 - val_accuracy: 0.3215 - val_loss: 1.6314\n",
            "Epoch 3/5\n",
            "\u001b[1m1875/1875\u001b[0m \u001b[32m━━━━━━━━━━━━━━━━━━━━\u001b[0m\u001b[37m\u001b[0m \u001b[1m1s\u001b[0m 755us/step - accuracy: 0.3271 - loss: 1.6142 - val_accuracy: 0.3762 - val_loss: 1.5521\n",
            "Epoch 4/5\n",
            "\u001b[1m1875/1875\u001b[0m \u001b[32m━━━━━━━━━━━━━━━━━━━━\u001b[0m\u001b[37m\u001b[0m \u001b[1m1s\u001b[0m 790us/step - accuracy: 0.3846 - loss: 1.5444 - val_accuracy: 0.4188 - val_loss: 1.5171\n",
            "Epoch 5/5\n",
            "\u001b[1m1875/1875\u001b[0m \u001b[32m━━━━━━━━━━━━━━━━━━━━\u001b[0m\u001b[37m\u001b[0m \u001b[1m1s\u001b[0m 791us/step - accuracy: 0.4186 - loss: 1.5122 - val_accuracy: 0.4363 - val_loss: 1.5077\n",
            "\u001b[1m313/313\u001b[0m \u001b[32m━━━━━━━━━━━━━━━━━━━━\u001b[0m\u001b[37m\u001b[0m \u001b[1m0s\u001b[0m 558us/step - accuracy: 0.4286 - loss: 1.5523\n",
            "Loss: 1.507683277130127, Accuracy: 0.43630000948905945\n"
          ]
        }
      ],
      "source": [
        "# seteamos la semilla\n",
        "set_seed()\n",
        "\n",
        "model_medium.compile(\n",
        "  optimizer='adam',\n",
        "  loss='sparse_categorical_crossentropy',\n",
        "  metrics=['accuracy']\n",
        ")\n",
        "\n",
        "params = {\n",
        "  'batch_size': 32,\n",
        "  'validation_data': (X_test, y_test),\n",
        "  'epochs': 5\n",
        "}\n",
        "\n",
        "# Entrenamos el modelo\n",
        "model_medium.fit(X_train, y_train, **params)\n",
        "loss, accuracy = model_medium.evaluate(X_test, y_test)\n",
        "print(f'Loss: {loss}, Accuracy: {accuracy}')"
      ]
    },
    {
      "cell_type": "markdown",
      "metadata": {
        "id": "AKwqZGM2bIFA"
      },
      "source": [
        "## Modelo de baja precisión"
      ]
    },
    {
      "cell_type": "code",
      "execution_count": 245,
      "metadata": {
        "colab": {
          "base_uri": "https://localhost:8080/"
        },
        "id": "hvEqiSpGbKBQ",
        "outputId": "250210ef-6dab-4c18-b143-9faa92983533"
      },
      "outputs": [
        {
          "name": "stdout",
          "output_type": "stream",
          "text": [
            "Epoch 1/5\n",
            "\u001b[1m1875/1875\u001b[0m \u001b[32m━━━━━━━━━━━━━━━━━━━━\u001b[0m\u001b[37m\u001b[0m \u001b[1m2s\u001b[0m 620us/step - accuracy: 0.1021 - loss: 2.3128 - val_accuracy: 0.1010 - val_loss: 2.3176\n",
            "Epoch 2/5\n",
            "\u001b[1m1875/1875\u001b[0m \u001b[32m━━━━━━━━━━━━━━━━━━━━\u001b[0m\u001b[37m\u001b[0m \u001b[1m1s\u001b[0m 570us/step - accuracy: 0.1039 - loss: 2.3122 - val_accuracy: 0.1010 - val_loss: 2.3176\n",
            "Epoch 3/5\n",
            "\u001b[1m1875/1875\u001b[0m \u001b[32m━━━━━━━━━━━━━━━━━━━━\u001b[0m\u001b[37m\u001b[0m \u001b[1m1s\u001b[0m 574us/step - accuracy: 0.1040 - loss: 2.3122 - val_accuracy: 0.1010 - val_loss: 2.3176\n",
            "Epoch 4/5\n",
            "\u001b[1m1875/1875\u001b[0m \u001b[32m━━━━━━━━━━━━━━━━━━━━\u001b[0m\u001b[37m\u001b[0m \u001b[1m1s\u001b[0m 567us/step - accuracy: 0.1039 - loss: 2.3122 - val_accuracy: 0.1010 - val_loss: 2.3176\n",
            "Epoch 5/5\n",
            "\u001b[1m1875/1875\u001b[0m \u001b[32m━━━━━━━━━━━━━━━━━━━━\u001b[0m\u001b[37m\u001b[0m \u001b[1m1s\u001b[0m 558us/step - accuracy: 0.1039 - loss: 2.3122 - val_accuracy: 0.1010 - val_loss: 2.3176\n",
            "\u001b[1m313/313\u001b[0m \u001b[32m━━━━━━━━━━━━━━━━━━━━\u001b[0m\u001b[37m\u001b[0m \u001b[1m0s\u001b[0m 478us/step - accuracy: 0.1009 - loss: 2.3203\n",
            "Loss: 2.3176376819610596, Accuracy: 0.10100000351667404\n"
          ]
        }
      ],
      "source": [
        "# seteamos la semilla\n",
        "set_seed()\n",
        "\n",
        "model_bad.compile(\n",
        "  optimizer='adam',\n",
        "  loss='sparse_categorical_crossentropy',\n",
        "  metrics=['accuracy']\n",
        ")\n",
        "\n",
        "params = {\n",
        "  'batch_size': 32,\n",
        "  'validation_data': (X_test, y_test),\n",
        "  'epochs': 5\n",
        "}\n",
        "\n",
        "# Entrenamos el modelo\n",
        "model_bad.fit(X_train, y_train, **params)\n",
        "loss, accuracy = model_bad.evaluate(X_test, y_test)\n",
        "print(f'Loss: {loss}, Accuracy: {accuracy}')"
      ]
    }
  ],
  "metadata": {
    "accelerator": "GPU",
    "colab": {
      "gpuType": "T4",
      "provenance": []
    },
    "kernelspec": {
      "display_name": "Python 3",
      "name": "python3"
    },
    "language_info": {
      "codemirror_mode": {
        "name": "ipython",
        "version": 3
      },
      "file_extension": ".py",
      "mimetype": "text/x-python",
      "name": "python",
      "nbconvert_exporter": "python",
      "pygments_lexer": "ipython3",
      "version": "3.11.4"
    }
  },
  "nbformat": 4,
  "nbformat_minor": 0
}
