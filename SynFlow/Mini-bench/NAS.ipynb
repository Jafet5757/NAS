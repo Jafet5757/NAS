{
  "cells": [
    {
      "cell_type": "markdown",
      "metadata": {
        "id": "W-6mJbhAdvPy"
      },
      "source": [
        "# Notebook de NAS\n",
        "\n",
        "Este notebook tiene el objetivo de recopilar todos los procesos necesarios para hacer NAS sobre una UNET, incluyendo la codificación, algoritmo de búsqueda y evaluación eficiente de la red."
      ]
    },
    {
      "cell_type": "code",
      "execution_count": 7,
      "metadata": {
        "id": "tviHyfnTROkQ"
      },
      "outputs": [],
      "source": [
        "from tensorflow.keras.layers import Conv2D, Conv2DTranspose, MaxPooling2D, UpSampling2D, Concatenate, Input, Activation, BatchNormalization\n",
        "from tensorflow.keras.models import Model\n",
        "import tensorflow as tf\n",
        "\n",
        "from skimage.io import imshow, imread\n",
        "from skimage import io, color, filters\n",
        "from skimage.transform import resize\n",
        "import cv2\n",
        "\n",
        "import numpy as np\n",
        "import matplotlib.pyplot as plt\n",
        "import random\n",
        "import os\n",
        "import sys"
      ]
    },
    {
      "cell_type": "markdown",
      "metadata": {
        "id": "5Mxxu2vnRdd-"
      },
      "source": [
        "#Unet"
      ]
    },
    {
      "cell_type": "markdown",
      "metadata": {
        "id": "tq1vaKNoeIvi"
      },
      "source": [
        "## Construcción de la red"
      ]
    },
    {
      "cell_type": "code",
      "execution_count": 8,
      "metadata": {
        "id": "MruQFtQzRG0w"
      },
      "outputs": [],
      "source": [
        "def convolution_block(inputs, n_filters, kernel_size, activation):\n",
        "    x = Conv2D(n_filters, (kernel_size, kernel_size), padding='same')(inputs)\n",
        "    x = BatchNormalization()(x)\n",
        "    x = Activation(activation)(x)\n",
        "\n",
        "    x = Conv2D(n_filters, (kernel_size, kernel_size), padding='same')(x)\n",
        "    x = BatchNormalization()(x)\n",
        "    x = Activation(activation)(x)\n",
        "\n",
        "    return x\n",
        "\n",
        "def encoder_block(inputs, n_filters, kernel_size, activation):\n",
        "    x = convolution_block(inputs, n_filters, kernel_size, activation)\n",
        "    p = MaxPooling2D((2, 2))(x)\n",
        "\n",
        "    return x, p\n",
        "\n",
        "def decoder_block(inputs, skip, n_filters, kernel_size, activation):\n",
        "    x = Conv2DTranspose(n_filters, (2,2), strides=2, padding='same')(inputs)\n",
        "    x = Concatenate()([x, skip])\n",
        "    x = convolution_block(x, n_filters, kernel_size, activation)\n",
        "    return x\n",
        "\n",
        "def get_unet(encode_filters, encode_kernel_sizes, encode_activations, decode_filters, decode_kernel_sizes, decode_activations, bridge_filters, bridge_kernel_size, bridge_activation, input_shape):\n",
        "    inputs = Input(input_shape)\n",
        "\n",
        "    # Builiding encoder layers\n",
        "    encoders = []\n",
        "    skips = []\n",
        "\n",
        "    s,p = encoder_block(inputs, encode_filters.pop(0), encode_kernel_sizes.pop(0), encode_activations.pop(0))\n",
        "    encoders.append(p)\n",
        "    skips.append(s)\n",
        "\n",
        "    for i, (filter, kernel_size, activation) in enumerate(zip(encode_filters, encode_kernel_sizes, encode_activations)):\n",
        "        s, p = encoder_block(encoders[i], filter, kernel_size, activation)\n",
        "        encoders.append(p)\n",
        "        skips.append(s)\n",
        "\n",
        "    # Bridge\n",
        "    b = convolution_block(encoders[-1], bridge_filters, bridge_kernel_size, bridge_activation)\n",
        "\n",
        "    # Building decoder layers\n",
        "    decoders = []\n",
        "    skips = skips[::-1]\n",
        "\n",
        "    d = decoder_block(b, skips.pop(0), decode_filters.pop(0), decode_kernel_sizes.pop(0), decode_activations.pop(0))\n",
        "    decoders.append(d)\n",
        "\n",
        "    for i, (filter, kernel_size, activation) in enumerate(zip(decode_filters, decode_kernel_sizes, decode_activations)):\n",
        "        d = decoder_block(decoders[i], skips[i], filter, kernel_size, activation)\n",
        "        decoders.append(d)\n",
        "\n",
        "    outputs = Conv2D(1, 1, padding='same', activation='sigmoid')(decoders[-1])\n",
        "    model = Model(inputs, outputs)\n",
        "\n",
        "    return model"
      ]
    },
    {
      "cell_type": "markdown",
      "metadata": {
        "id": "0XKrXammeQg6"
      },
      "source": [
        "## Random Unet"
      ]
    },
    {
      "cell_type": "code",
      "execution_count": 9,
      "metadata": {
        "id": "7XULFdEdePO0"
      },
      "outputs": [],
      "source": [
        "def random_unet(layers: int, max_depth: int, input_shape: int):\n",
        "  encode_filters = []\n",
        "  decode_filters = []\n",
        "  encode_kernel_sizes = []\n",
        "  decode_kernel_sizes = []\n",
        "  encode_activations = []\n",
        "  decode_activations = []\n",
        "\n",
        "  for i in range(layers):\n",
        "    # Filters\n",
        "    encode_filters.append(np.random.randint(1, max_depth))\n",
        "    decode_filters.append(np.random.randint(1, max_depth))\n",
        "\n",
        "    # Kernel sizes\n",
        "    encode_kernel_sizes.append(np.random.choice([3, 5]))\n",
        "    decode_kernel_sizes.append(np.random.choice([3, 5]))\n",
        "\n",
        "    # Activations\n",
        "    encode_activations.append(np.random.choice(['relu', 'sigmoid']))\n",
        "    decode_activations.append(np.random.choice(['relu', 'sigmoid']))\n",
        "\n",
        "  # Bridge\n",
        "  bridge_filters = np.random.randint(1, max_depth)\n",
        "  bridge_kernel_size = np.random.choice([3, 5])\n",
        "  bridge_activation = np.random.choice(['relu', 'sigmoid'])\n",
        "\n",
        "  # Model\n",
        "  model = get_unet(encode_filters, encode_kernel_sizes, encode_activations, decode_filters, decode_kernel_sizes, decode_activations, bridge_filters, bridge_kernel_size, bridge_activation, input_shape)\n",
        "  return model"
      ]
    },
    {
      "cell_type": "markdown",
      "metadata": {
        "id": "0KpOT0_dRfCr"
      },
      "source": [
        "#Datos de entrenamiento"
      ]
    },
    {
      "cell_type": "code",
      "execution_count": 2,
      "metadata": {
        "colab": {
          "base_uri": "https://localhost:8080/",
          "height": 1000
        },
        "id": "LKcmv-TIIPM0",
        "outputId": "074fd682-cec1-4148-c81e-f20683602a2a"
      },
      "outputs": [
        {
          "name": "stderr",
          "output_type": "stream",
          "text": [
            "Downloading 'Car Segmentation': 100%|██████████| 446M/446M [00:54<00:00, 8.65MB/s] \n",
            "Unpacking 'car-segmentation.tar': 100%|██████████| 429/429 [00:00<00:00, 452.94file/s] \n"
          ]
        },
        {
          "data": {
            "text/plain": [
              "'/content/dataset\\\\car-segmentation'"
            ]
          },
          "execution_count": 2,
          "metadata": {},
          "output_type": "execute_result"
        }
      ],
      "source": [
        "# Load images from drive\n",
        "#%pip install dataset-tools\n",
        "import dataset_tools as dtools\n",
        "dtools.download(dataset = 'Car Segmentation', dst_dir = '/content/dataset')"
      ]
    },
    {
      "cell_type": "markdown",
      "metadata": {
        "id": "GSMMgMSgmJ-v"
      },
      "source": [
        "# Configuración del dataset"
      ]
    },
    {
      "cell_type": "markdown",
      "metadata": {
        "id": "ziPyyxKkJ8lD"
      },
      "source": [
        "## Data load"
      ]
    },
    {
      "cell_type": "code",
      "execution_count": 3,
      "metadata": {
        "id": "Ak1nUfep_N6U"
      },
      "outputs": [],
      "source": [
        "import numpy as np\n",
        "from PIL import Image, ImageDraw\n",
        "import os\n",
        "import matplotlib.pyplot as plt\n",
        "import json"
      ]
    },
    {
      "cell_type": "code",
      "execution_count": 4,
      "metadata": {
        "id": "ret1jrQqA1sv"
      },
      "outputs": [],
      "source": [
        "def load_image(path: str, size: tuple = (512, 512)):\n",
        "  \"\"\"Load image from path and resize it to size\n",
        "\n",
        "  Parameters\n",
        "  ----------\n",
        "  path : str\n",
        "    Path to the image\n",
        "  size : tuple, optional\n",
        "    Size to resize the image, by default (512, 512)\n",
        "\n",
        "  Returns\n",
        "  -------\n",
        "  img : np.array\n",
        "  \"\"\"\n",
        "  # Open image\n",
        "  img = Image.open(path)\n",
        "  # Convert to RGB\n",
        "  img = img.convert('RGB')\n",
        "  # Resize Image\n",
        "  img = img.resize(size)\n",
        "  # Convert to numpy array\n",
        "  img = np.array(img, dtype=np.float32)\n",
        "  # Normalize\n",
        "  img/=255.0\n",
        "\n",
        "  return img\n",
        "\n",
        "def load_mask(path: str, size: tuple = (512, 512)):\n",
        "  \"\"\"Load mask from json file and resize it to size\n",
        "\n",
        "  Parameters\n",
        "  ----------\n",
        "  path : str\n",
        "    Path to the json file\n",
        "  size : tuple, optional\n",
        "    Size to resize the mask, by default (512, 512)\n",
        "\n",
        "  Returns\n",
        "  -------\n",
        "  mask : np.array\n",
        "  \"\"\"\n",
        "  # Load JSON\n",
        "  with open(path) as f:\n",
        "    annotations = json.load(f)\n",
        "  # Get shape\n",
        "  height, width = annotations['size']['height'], annotations['size']['width']\n",
        "  # Get car polygon\n",
        "  polygon = [d for d in annotations['objects'] if d['geometryType'] == 'polygon' and d['classTitle'] == 'car']\n",
        "  polygon = polygon[0] if polygon else None\n",
        "\n",
        "  if polygon:\n",
        "    # Get points\n",
        "    points = [tuple(point) for point in polygon['points']['exterior']]\n",
        "    # Draw mask\n",
        "    mask = Image.new('1', (width, height), 0)\n",
        "    draw = ImageDraw.Draw(mask)\n",
        "    draw.polygon(points, outline=1, fill=1)\n",
        "    # Resize\n",
        "    mask = mask.resize(size)\n",
        "    # Convert to numpy array\n",
        "    mask = np.array(mask, dtype=np.uint8)\n",
        "\n",
        "    return mask\n",
        "\n",
        "  else:\n",
        "    return None\n",
        "\n",
        "def load_dataset(images_path, annotations_path, size, n_samples):\n",
        "  images = []\n",
        "  masks = []\n",
        "  images_names = os.listdir(images_path)\n",
        "  for img in images_names:\n",
        "    image_path = os.path.join(images_path, img)\n",
        "    mask_path = os.path.join(annotations_path, f'{img}.json')\n",
        "    image = load_image(image_path, size)\n",
        "    mask = load_mask(mask_path, size)\n",
        "\n",
        "    if mask is not None:\n",
        "      images.append(image)\n",
        "      masks.append(mask)\n",
        "\n",
        "    if len(images) == n_samples:\n",
        "      break\n",
        "\n",
        "  return np.array(images), np.array(masks)"
      ]
    },
    {
      "cell_type": "code",
      "execution_count": 5,
      "metadata": {
        "colab": {
          "base_uri": "https://localhost:8080/"
        },
        "id": "YSy27S7wDISZ",
        "outputId": "c69590ae-8058-4977-e00f-ba50511a4bce"
      },
      "outputs": [
        {
          "name": "stderr",
          "output_type": "stream",
          "text": [
            "c:\\Users\\Jafet\\anaconda3\\envs\\TT\\Lib\\site-packages\\PIL\\Image.py:981: UserWarning: Palette images with Transparency expressed in bytes should be converted to RGBA images\n",
            "  warnings.warn(\n"
          ]
        }
      ],
      "source": [
        "images_path = '/content/dataset/car-segmentation/ds/img'\n",
        "annotations_path = '/content/dataset/car-segmentation/ds/ann'\n",
        "size = (256, 256)\n",
        "n_samples = 1000\n",
        "images, masks = load_dataset(images_path, annotations_path, size, n_samples)"
      ]
    },
    {
      "cell_type": "markdown",
      "metadata": {
        "id": "HdF-uVEu0DUM"
      },
      "source": [
        "#Prueba de concepto estimador de covarianza de entrada y salida\n"
      ]
    },
    {
      "cell_type": "code",
      "execution_count": 10,
      "metadata": {
        "colab": {
          "base_uri": "https://localhost:8080/"
        },
        "id": "eDqzadnR1ayJ",
        "outputId": "1ba8f29c-7836-497a-c35e-ecd5705dbe1d"
      },
      "outputs": [
        {
          "ename": "FileNotFoundError",
          "evalue": "[Errno 2] Unable to synchronously open file (unable to open file: name = '/content/unet_untrained_10.h5', errno = 2, error message = 'No such file or directory', flags = 0, o_flags = 0)",
          "output_type": "error",
          "traceback": [
            "\u001b[1;31m---------------------------------------------------------------------------\u001b[0m",
            "\u001b[1;31mFileNotFoundError\u001b[0m                         Traceback (most recent call last)",
            "Cell \u001b[1;32mIn[10], line 1\u001b[0m\n\u001b[1;32m----> 1\u001b[0m model_good \u001b[38;5;241m=\u001b[39m \u001b[43mtf\u001b[49m\u001b[38;5;241;43m.\u001b[39;49m\u001b[43mkeras\u001b[49m\u001b[38;5;241;43m.\u001b[39;49m\u001b[43mmodels\u001b[49m\u001b[38;5;241;43m.\u001b[39;49m\u001b[43mload_model\u001b[49m\u001b[43m(\u001b[49m\u001b[38;5;124;43m'\u001b[39;49m\u001b[38;5;124;43m/content/unet_untrained_10.h5\u001b[39;49m\u001b[38;5;124;43m'\u001b[39;49m\u001b[43m)\u001b[49m\n\u001b[0;32m      2\u001b[0m model_bad \u001b[38;5;241m=\u001b[39m tf\u001b[38;5;241m.\u001b[39mkeras\u001b[38;5;241m.\u001b[39mmodels\u001b[38;5;241m.\u001b[39mload_model(\u001b[38;5;124m'\u001b[39m\u001b[38;5;124m/content/unet_untrained_5.h5\u001b[39m\u001b[38;5;124m'\u001b[39m)\n",
            "File \u001b[1;32m~\\AppData\\Roaming\\Python\\Python312\\site-packages\\keras\\src\\saving\\saving_api.py:194\u001b[0m, in \u001b[0;36mload_model\u001b[1;34m(filepath, custom_objects, compile, safe_mode)\u001b[0m\n\u001b[0;32m    187\u001b[0m     \u001b[38;5;28;01mreturn\u001b[39;00m saving_lib\u001b[38;5;241m.\u001b[39mload_model(\n\u001b[0;32m    188\u001b[0m         filepath,\n\u001b[0;32m    189\u001b[0m         custom_objects\u001b[38;5;241m=\u001b[39mcustom_objects,\n\u001b[0;32m    190\u001b[0m         \u001b[38;5;28mcompile\u001b[39m\u001b[38;5;241m=\u001b[39m\u001b[38;5;28mcompile\u001b[39m,\n\u001b[0;32m    191\u001b[0m         safe_mode\u001b[38;5;241m=\u001b[39msafe_mode,\n\u001b[0;32m    192\u001b[0m     )\n\u001b[0;32m    193\u001b[0m \u001b[38;5;28;01mif\u001b[39;00m \u001b[38;5;28mstr\u001b[39m(filepath)\u001b[38;5;241m.\u001b[39mendswith((\u001b[38;5;124m\"\u001b[39m\u001b[38;5;124m.h5\u001b[39m\u001b[38;5;124m\"\u001b[39m, \u001b[38;5;124m\"\u001b[39m\u001b[38;5;124m.hdf5\u001b[39m\u001b[38;5;124m\"\u001b[39m)):\n\u001b[1;32m--> 194\u001b[0m     \u001b[38;5;28;01mreturn\u001b[39;00m \u001b[43mlegacy_h5_format\u001b[49m\u001b[38;5;241;43m.\u001b[39;49m\u001b[43mload_model_from_hdf5\u001b[49m\u001b[43m(\u001b[49m\n\u001b[0;32m    195\u001b[0m \u001b[43m        \u001b[49m\u001b[43mfilepath\u001b[49m\u001b[43m,\u001b[49m\u001b[43m \u001b[49m\u001b[43mcustom_objects\u001b[49m\u001b[38;5;241;43m=\u001b[39;49m\u001b[43mcustom_objects\u001b[49m\u001b[43m,\u001b[49m\u001b[43m \u001b[49m\u001b[38;5;28;43mcompile\u001b[39;49m\u001b[38;5;241;43m=\u001b[39;49m\u001b[38;5;28;43mcompile\u001b[39;49m\n\u001b[0;32m    196\u001b[0m \u001b[43m    \u001b[49m\u001b[43m)\u001b[49m\n\u001b[0;32m    197\u001b[0m \u001b[38;5;28;01melif\u001b[39;00m \u001b[38;5;28mstr\u001b[39m(filepath)\u001b[38;5;241m.\u001b[39mendswith(\u001b[38;5;124m\"\u001b[39m\u001b[38;5;124m.keras\u001b[39m\u001b[38;5;124m\"\u001b[39m):\n\u001b[0;32m    198\u001b[0m     \u001b[38;5;28;01mraise\u001b[39;00m \u001b[38;5;167;01mValueError\u001b[39;00m(\n\u001b[0;32m    199\u001b[0m         \u001b[38;5;124mf\u001b[39m\u001b[38;5;124m\"\u001b[39m\u001b[38;5;124mFile not found: filepath=\u001b[39m\u001b[38;5;132;01m{\u001b[39;00mfilepath\u001b[38;5;132;01m}\u001b[39;00m\u001b[38;5;124m. \u001b[39m\u001b[38;5;124m\"\u001b[39m\n\u001b[0;32m    200\u001b[0m         \u001b[38;5;124m\"\u001b[39m\u001b[38;5;124mPlease ensure the file is an accessible `.keras` \u001b[39m\u001b[38;5;124m\"\u001b[39m\n\u001b[0;32m    201\u001b[0m         \u001b[38;5;124m\"\u001b[39m\u001b[38;5;124mzip file.\u001b[39m\u001b[38;5;124m\"\u001b[39m\n\u001b[0;32m    202\u001b[0m     )\n",
            "File \u001b[1;32m~\\AppData\\Roaming\\Python\\Python312\\site-packages\\keras\\src\\legacy\\saving\\legacy_h5_format.py:116\u001b[0m, in \u001b[0;36mload_model_from_hdf5\u001b[1;34m(filepath, custom_objects, compile)\u001b[0m\n\u001b[0;32m    114\u001b[0m opened_new_file \u001b[38;5;241m=\u001b[39m \u001b[38;5;129;01mnot\u001b[39;00m \u001b[38;5;28misinstance\u001b[39m(filepath, h5py\u001b[38;5;241m.\u001b[39mFile)\n\u001b[0;32m    115\u001b[0m \u001b[38;5;28;01mif\u001b[39;00m opened_new_file:\n\u001b[1;32m--> 116\u001b[0m     f \u001b[38;5;241m=\u001b[39m \u001b[43mh5py\u001b[49m\u001b[38;5;241;43m.\u001b[39;49m\u001b[43mFile\u001b[49m\u001b[43m(\u001b[49m\u001b[43mfilepath\u001b[49m\u001b[43m,\u001b[49m\u001b[43m \u001b[49m\u001b[43mmode\u001b[49m\u001b[38;5;241;43m=\u001b[39;49m\u001b[38;5;124;43m\"\u001b[39;49m\u001b[38;5;124;43mr\u001b[39;49m\u001b[38;5;124;43m\"\u001b[39;49m\u001b[43m)\u001b[49m\n\u001b[0;32m    117\u001b[0m \u001b[38;5;28;01melse\u001b[39;00m:\n\u001b[0;32m    118\u001b[0m     f \u001b[38;5;241m=\u001b[39m filepath\n",
            "File \u001b[1;32m~\\AppData\\Roaming\\Python\\Python312\\site-packages\\h5py\\_hl\\files.py:562\u001b[0m, in \u001b[0;36mFile.__init__\u001b[1;34m(self, name, mode, driver, libver, userblock_size, swmr, rdcc_nslots, rdcc_nbytes, rdcc_w0, track_order, fs_strategy, fs_persist, fs_threshold, fs_page_size, page_buf_size, min_meta_keep, min_raw_keep, locking, alignment_threshold, alignment_interval, meta_block_size, **kwds)\u001b[0m\n\u001b[0;32m    553\u001b[0m     fapl \u001b[38;5;241m=\u001b[39m make_fapl(driver, libver, rdcc_nslots, rdcc_nbytes, rdcc_w0,\n\u001b[0;32m    554\u001b[0m                      locking, page_buf_size, min_meta_keep, min_raw_keep,\n\u001b[0;32m    555\u001b[0m                      alignment_threshold\u001b[38;5;241m=\u001b[39malignment_threshold,\n\u001b[0;32m    556\u001b[0m                      alignment_interval\u001b[38;5;241m=\u001b[39malignment_interval,\n\u001b[0;32m    557\u001b[0m                      meta_block_size\u001b[38;5;241m=\u001b[39mmeta_block_size,\n\u001b[0;32m    558\u001b[0m                      \u001b[38;5;241m*\u001b[39m\u001b[38;5;241m*\u001b[39mkwds)\n\u001b[0;32m    559\u001b[0m     fcpl \u001b[38;5;241m=\u001b[39m make_fcpl(track_order\u001b[38;5;241m=\u001b[39mtrack_order, fs_strategy\u001b[38;5;241m=\u001b[39mfs_strategy,\n\u001b[0;32m    560\u001b[0m                      fs_persist\u001b[38;5;241m=\u001b[39mfs_persist, fs_threshold\u001b[38;5;241m=\u001b[39mfs_threshold,\n\u001b[0;32m    561\u001b[0m                      fs_page_size\u001b[38;5;241m=\u001b[39mfs_page_size)\n\u001b[1;32m--> 562\u001b[0m     fid \u001b[38;5;241m=\u001b[39m \u001b[43mmake_fid\u001b[49m\u001b[43m(\u001b[49m\u001b[43mname\u001b[49m\u001b[43m,\u001b[49m\u001b[43m \u001b[49m\u001b[43mmode\u001b[49m\u001b[43m,\u001b[49m\u001b[43m \u001b[49m\u001b[43muserblock_size\u001b[49m\u001b[43m,\u001b[49m\u001b[43m \u001b[49m\u001b[43mfapl\u001b[49m\u001b[43m,\u001b[49m\u001b[43m \u001b[49m\u001b[43mfcpl\u001b[49m\u001b[43m,\u001b[49m\u001b[43m \u001b[49m\u001b[43mswmr\u001b[49m\u001b[38;5;241;43m=\u001b[39;49m\u001b[43mswmr\u001b[49m\u001b[43m)\u001b[49m\n\u001b[0;32m    564\u001b[0m \u001b[38;5;28;01mif\u001b[39;00m \u001b[38;5;28misinstance\u001b[39m(libver, \u001b[38;5;28mtuple\u001b[39m):\n\u001b[0;32m    565\u001b[0m     \u001b[38;5;28mself\u001b[39m\u001b[38;5;241m.\u001b[39m_libver \u001b[38;5;241m=\u001b[39m libver\n",
            "File \u001b[1;32m~\\AppData\\Roaming\\Python\\Python312\\site-packages\\h5py\\_hl\\files.py:235\u001b[0m, in \u001b[0;36mmake_fid\u001b[1;34m(name, mode, userblock_size, fapl, fcpl, swmr)\u001b[0m\n\u001b[0;32m    233\u001b[0m     \u001b[38;5;28;01mif\u001b[39;00m swmr \u001b[38;5;129;01mand\u001b[39;00m swmr_support:\n\u001b[0;32m    234\u001b[0m         flags \u001b[38;5;241m|\u001b[39m\u001b[38;5;241m=\u001b[39m h5f\u001b[38;5;241m.\u001b[39mACC_SWMR_READ\n\u001b[1;32m--> 235\u001b[0m     fid \u001b[38;5;241m=\u001b[39m \u001b[43mh5f\u001b[49m\u001b[38;5;241;43m.\u001b[39;49m\u001b[43mopen\u001b[49m\u001b[43m(\u001b[49m\u001b[43mname\u001b[49m\u001b[43m,\u001b[49m\u001b[43m \u001b[49m\u001b[43mflags\u001b[49m\u001b[43m,\u001b[49m\u001b[43m \u001b[49m\u001b[43mfapl\u001b[49m\u001b[38;5;241;43m=\u001b[39;49m\u001b[43mfapl\u001b[49m\u001b[43m)\u001b[49m\n\u001b[0;32m    236\u001b[0m \u001b[38;5;28;01melif\u001b[39;00m mode \u001b[38;5;241m==\u001b[39m \u001b[38;5;124m'\u001b[39m\u001b[38;5;124mr+\u001b[39m\u001b[38;5;124m'\u001b[39m:\n\u001b[0;32m    237\u001b[0m     fid \u001b[38;5;241m=\u001b[39m h5f\u001b[38;5;241m.\u001b[39mopen(name, h5f\u001b[38;5;241m.\u001b[39mACC_RDWR, fapl\u001b[38;5;241m=\u001b[39mfapl)\n",
            "File \u001b[1;32mh5py\\\\_objects.pyx:54\u001b[0m, in \u001b[0;36mh5py._objects.with_phil.wrapper\u001b[1;34m()\u001b[0m\n",
            "File \u001b[1;32mh5py\\\\_objects.pyx:55\u001b[0m, in \u001b[0;36mh5py._objects.with_phil.wrapper\u001b[1;34m()\u001b[0m\n",
            "File \u001b[1;32mh5py\\\\h5f.pyx:102\u001b[0m, in \u001b[0;36mh5py.h5f.open\u001b[1;34m()\u001b[0m\n",
            "\u001b[1;31mFileNotFoundError\u001b[0m: [Errno 2] Unable to synchronously open file (unable to open file: name = '/content/unet_untrained_10.h5', errno = 2, error message = 'No such file or directory', flags = 0, o_flags = 0)"
          ]
        }
      ],
      "source": [
        "model_good = tf.keras.models.load_model('/content/unet_untrained_10.h5')\n",
        "model_bad = tf.keras.models.load_model('/content/unet_untrained_5.h5')"
      ]
    },
    {
      "cell_type": "code",
      "execution_count": null,
      "metadata": {
        "id": "f3Mc3alS5jSE"
      },
      "outputs": [],
      "source": [
        "def get_tapes(model, X):\n",
        "  tapes = []\n",
        "  for x in X:\n",
        "    input = tf.expand_dims(x, axis=0)\n",
        "    input = tf.convert_to_tensor(input, dtype=tf.float32)\n",
        "    with tf.GradientTape() as tape:\n",
        "      tape.watch(input)\n",
        "      output = model(input)\n",
        "    gradient = tape.gradient(output, input)\n",
        "    tapes.append(gradient)\n",
        "  return tapes"
      ]
    },
    {
      "cell_type": "code",
      "execution_count": null,
      "metadata": {
        "id": "2oHoAjoq80fd"
      },
      "outputs": [],
      "source": [
        "def get_covarianze(x, y):\n",
        "  # Asegúrate de que ambos tensores tienen la misma forma\n",
        "  assert x.shape == y.shape\n",
        "\n",
        "  #Aplanar x y y\n",
        "  x = tf.reshape(x, [-1])\n",
        "  y = tf.reshape(y, [-1])\n",
        "\n",
        "  # Paso 1: Restar la media de cada tensor\n",
        "  x_mean = tf.reduce_mean(x)\n",
        "  y_mean = tf.reduce_mean(y)\n",
        "  x_centered = x - x_mean\n",
        "  y_centered = y - y_mean\n",
        "\n",
        "  # Paso 2: Calcular la covarianza\n",
        "  cov = tf.reduce_mean(x_centered * y_centered)\n",
        "\n",
        "  return cov"
      ]
    },
    {
      "cell_type": "code",
      "execution_count": null,
      "metadata": {
        "id": "KMAcaOSq9IKO"
      },
      "outputs": [],
      "source": [
        "def get_covarianze_mean(tapes):\n",
        "  covarianze_mean = 0\n",
        "  for i in range(len(tapes)):\n",
        "    for j in range(len(tapes)):\n",
        "      covarianze = get_covarianze(tapes[i], tapes[j])\n",
        "      covarianze_mean += covarianze\n",
        "  return covarianze_mean"
      ]
    },
    {
      "cell_type": "markdown",
      "metadata": {
        "id": "9uXTG3gt-p3L"
      },
      "source": [
        "## Model Good"
      ]
    },
    {
      "cell_type": "code",
      "execution_count": null,
      "metadata": {
        "colab": {
          "base_uri": "https://localhost:8080/"
        },
        "id": "oxH0rW5f9mr8",
        "outputId": "ab94cc2f-39bc-469a-e6b6-700b0028e2dc"
      },
      "outputs": [
        {
          "data": {
            "text/plain": [
              "0.0013934263261035085"
            ]
          },
          "execution_count": 121,
          "metadata": {},
          "output_type": "execute_result"
        }
      ],
      "source": [
        "tapes = get_tapes(model_good, images[:4])\n",
        "value = get_covarianze_mean(tapes)\n",
        "float(value)"
      ]
    },
    {
      "cell_type": "code",
      "execution_count": null,
      "metadata": {
        "colab": {
          "base_uri": "https://localhost:8080/"
        },
        "id": "wHxw7wOs-upy",
        "outputId": "53ddd5b1-a4ca-44c9-d0c5-5bd9ed6900b1"
      },
      "outputs": [
        {
          "data": {
            "text/plain": [
              "0.0013396668946370482"
            ]
          },
          "execution_count": 122,
          "metadata": {},
          "output_type": "execute_result"
        }
      ],
      "source": [
        "tapes = get_tapes(model_good, images[12:16])\n",
        "value = get_covarianze_mean(tapes)\n",
        "float(value)"
      ]
    },
    {
      "cell_type": "code",
      "execution_count": null,
      "metadata": {
        "colab": {
          "base_uri": "https://localhost:8080/"
        },
        "id": "0vBrRNv76S8T",
        "outputId": "46f3c754-8aa1-42ab-d3bd-3ba5bd38cbcc"
      },
      "outputs": [
        {
          "data": {
            "text/plain": [
              "0.0025765441823750734"
            ]
          },
          "execution_count": 123,
          "metadata": {},
          "output_type": "execute_result"
        }
      ],
      "source": [
        "tapes = get_tapes(model_good, images[22:28])\n",
        "value = get_covarianze_mean(tapes)\n",
        "float(value)"
      ]
    },
    {
      "cell_type": "markdown",
      "metadata": {
        "id": "psjGBq1x_eB1"
      },
      "source": [
        "## Prueba con los 20 modelos"
      ]
    },
    {
      "cell_type": "markdown",
      "metadata": {
        "id": "IHkE1nyTBLsm"
      },
      "source": [
        "## Obtener los accuracys"
      ]
    },
    {
      "cell_type": "code",
      "execution_count": null,
      "metadata": {
        "id": "IEv7Bv9N_dj2"
      },
      "outputs": [],
      "source": [
        "import pandas as pd\n",
        "# Cargar el csv de accuracys\n",
        "df = pd.read_csv('/content/log.csv')\n",
        "\n",
        "# Drop where trained is 0\n",
        "df = df[df['trained'] == 1]\n",
        "\n",
        "# Obtener lista de accs\n",
        "df = df['accuracy']\n",
        "accs = df.to_list()"
      ]
    },
    {
      "cell_type": "markdown",
      "metadata": {
        "id": "szEiEZEWBPel"
      },
      "source": [
        "## Obtener los scores"
      ]
    },
    {
      "cell_type": "code",
      "execution_count": null,
      "metadata": {
        "colab": {
          "base_uri": "https://localhost:8080/"
        },
        "id": "iD0AaRNhBLAZ",
        "outputId": "815d2809-3767-4ab6-8709-aa81eaad449c"
      },
      "outputs": [
        {
          "name": "stderr",
          "output_type": "stream",
          "text": [
            "WARN:absl:Compiled the loaded model, but the compiled metrics have yet to be built. `model.compile_metrics` will be empty until you train or evaluate the model.\n",
            "WARN:absl:Compiled the loaded model, but the compiled metrics have yet to be built. `model.compile_metrics` will be empty until you train or evaluate the model.\n",
            "WARN:absl:Compiled the loaded model, but the compiled metrics have yet to be built. `model.compile_metrics` will be empty until you train or evaluate the model.\n",
            "WARN:absl:Compiled the loaded model, but the compiled metrics have yet to be built. `model.compile_metrics` will be empty until you train or evaluate the model.\n",
            "WARN:absl:Compiled the loaded model, but the compiled metrics have yet to be built. `model.compile_metrics` will be empty until you train or evaluate the model.\n",
            "WARN:absl:Compiled the loaded model, but the compiled metrics have yet to be built. `model.compile_metrics` will be empty until you train or evaluate the model.\n",
            "WARN:absl:Compiled the loaded model, but the compiled metrics have yet to be built. `model.compile_metrics` will be empty until you train or evaluate the model.\n",
            "WARN:absl:Compiled the loaded model, but the compiled metrics have yet to be built. `model.compile_metrics` will be empty until you train or evaluate the model.\n",
            "WARN:absl:Compiled the loaded model, but the compiled metrics have yet to be built. `model.compile_metrics` will be empty until you train or evaluate the model.\n",
            "WARN:absl:Compiled the loaded model, but the compiled metrics have yet to be built. `model.compile_metrics` will be empty until you train or evaluate the model.\n",
            "WARN:absl:Compiled the loaded model, but the compiled metrics have yet to be built. `model.compile_metrics` will be empty until you train or evaluate the model.\n",
            "WARN:absl:Compiled the loaded model, but the compiled metrics have yet to be built. `model.compile_metrics` will be empty until you train or evaluate the model.\n",
            "WARN:absl:Compiled the loaded model, but the compiled metrics have yet to be built. `model.compile_metrics` will be empty until you train or evaluate the model.\n",
            "WARN:absl:Compiled the loaded model, but the compiled metrics have yet to be built. `model.compile_metrics` will be empty until you train or evaluate the model.\n",
            "WARN:absl:Compiled the loaded model, but the compiled metrics have yet to be built. `model.compile_metrics` will be empty until you train or evaluate the model.\n",
            "WARN:absl:Compiled the loaded model, but the compiled metrics have yet to be built. `model.compile_metrics` will be empty until you train or evaluate the model.\n",
            "WARN:absl:Compiled the loaded model, but the compiled metrics have yet to be built. `model.compile_metrics` will be empty until you train or evaluate the model.\n",
            "WARN:absl:Compiled the loaded model, but the compiled metrics have yet to be built. `model.compile_metrics` will be empty until you train or evaluate the model.\n",
            "WARN:absl:Compiled the loaded model, but the compiled metrics have yet to be built. `model.compile_metrics` will be empty until you train or evaluate the model.\n",
            "WARN:absl:Compiled the loaded model, but the compiled metrics have yet to be built. `model.compile_metrics` will be empty until you train or evaluate the model.\n"
          ]
        }
      ],
      "source": [
        "models = []\n",
        "for i in range(20):\n",
        "  model = tf.keras.models.load_model(f'/content/models/unet_untrained_{i}.h5')\n",
        "  models.append(model)"
      ]
    },
    {
      "cell_type": "code",
      "execution_count": null,
      "metadata": {
        "id": "HDv1XnmKANJt"
      },
      "outputs": [],
      "source": [
        "scores = []\n",
        "for model in models:\n",
        "  tapes = get_tapes(model, images[:2])\n",
        "  value = get_covarianze_mean(tapes)\n",
        "  scores.append(float(value))"
      ]
    },
    {
      "cell_type": "code",
      "execution_count": null,
      "metadata": {
        "colab": {
          "base_uri": "https://localhost:8080/"
        },
        "id": "UAPxCzNnCImL",
        "outputId": "08c5ca3c-9279-4e79-e8e2-c8ea0c8dc6f3"
      },
      "outputs": [
        {
          "data": {
            "text/plain": [
              "([0.3444022238254547,\n",
              "  0.3486860394477844,\n",
              "  0.4952027201652527,\n",
              "  0.5034683346748352,\n",
              "  0.3447531759738922,\n",
              "  0.4766799509525299,\n",
              "  0.3453273475170135,\n",
              "  0.4368626773357391,\n",
              "  0.3598558306694031,\n",
              "  0.5401511788368225,\n",
              "  0.7393085360527039,\n",
              "  0.6561449766159058,\n",
              "  0.3569009602069855,\n",
              "  0.3442822694778442,\n",
              "  0.3441009521484375,\n",
              "  0.3460217714309692,\n",
              "  0.607365071773529,\n",
              "  0.515257716178894,\n",
              "  0.3712605237960815,\n",
              "  0.5486893653869629],\n",
              " [8.749029802856967e-06,\n",
              "  2.0602506992872804e-05,\n",
              "  1.8284258658241015e-06,\n",
              "  0.00036648171953856945,\n",
              "  9.435343599761836e-06,\n",
              "  8.381873612961499e-07,\n",
              "  0.0001889820850919932,\n",
              "  5.7631321936924e-09,\n",
              "  1.0324062316158233e-07,\n",
              "  0.00041841212077997625,\n",
              "  0.0003486697096377611,\n",
              "  3.904922607489425e-08,\n",
              "  6.603204838029342e-06,\n",
              "  0.00025089073460549116,\n",
              "  9.546182582198526e-07,\n",
              "  2.7711770655969303e-08,\n",
              "  2.141893901352887e-06,\n",
              "  3.381132273716503e-06,\n",
              "  2.2420117602450773e-06,\n",
              "  9.324185157311149e-06])"
            ]
          },
          "execution_count": 127,
          "metadata": {},
          "output_type": "execute_result"
        }
      ],
      "source": [
        "accs, scores"
      ]
    },
    {
      "cell_type": "code",
      "execution_count": null,
      "metadata": {
        "colab": {
          "base_uri": "https://localhost:8080/",
          "height": 564
        },
        "id": "GJlqsOk7CYeG",
        "outputId": "8e63cde8-95a6-4164-b3d9-14580691b788"
      },
      "outputs": [
        {
          "data": {
            "image/png": "[encoded data removed]",
            "text/plain": [
              "<Figure size 800x600 with 1 Axes>"
            ]
          },
          "metadata": {},
          "output_type": "display_data"
        }
      ],
      "source": [
        "# Combinar las listas en pares (accuracy, score)\n",
        "paired_data = list(zip(accs, scores))\n",
        "\n",
        "# Ordenar los pares por accuracys\n",
        "paired_data.sort()\n",
        "\n",
        "# Separar las listas nuevamente, ya ordenadas\n",
        "accs, scores = zip(*paired_data)\n",
        "\n",
        "\n",
        "plt.figure(figsize=(8, 6))\n",
        "plt.plot(accs, scores, marker='o', linestyle='-', color='b')\n",
        "\n",
        "# Etiquetas de los ejes\n",
        "plt.xlabel('Accuracy')\n",
        "plt.ylabel('Score')\n",
        "\n",
        "# Título de la gráfica\n",
        "plt.title('Scores vs Accuracies')\n",
        "\n",
        "# Mostrar la gráfica\n",
        "plt.grid(True)\n",
        "plt.show()"
      ]
    },
    {
      "cell_type": "markdown",
      "metadata": {
        "id": "e_BjgMVQDC3S"
      },
      "source": [
        "# Prueba de concepto correlación entrada salida"
      ]
    },
    {
      "cell_type": "code",
      "execution_count": null,
      "metadata": {
        "id": "wkPb_4WmDAmi"
      },
      "outputs": [],
      "source": [
        "def get_correlation(x, y):\n",
        "  # Asegúrate de que ambos tensores tienen la misma forma\n",
        "  assert x.shape == y.shape\n",
        "  x_flat = tf.reshape(x, [-1])\n",
        "  y_flat = tf.reshape(y, [-1])\n",
        "  x_centered = x_flat - tf.reduce_mean(x_flat)\n",
        "  y_centered = y_flat - tf.reduce_mean(y_flat)\n",
        "  cov = tf.reduce_mean(x_centered * y_centered)\n",
        "  std_x = tf.math.reduce_std(x_flat)\n",
        "  std_y = tf.math.reduce_std(y_flat)\n",
        "  correlation = cov / (std_x * std_y)\n",
        "  return correlation"
      ]
    },
    {
      "cell_type": "code",
      "execution_count": null,
      "metadata": {
        "id": "AqpY91KLDVH3"
      },
      "outputs": [],
      "source": [
        "def get_correlation_mean(tapes):\n",
        "  correlation_mean = 0\n",
        "  for i in range(len(tapes)):\n",
        "    for j in range(len(tapes)):\n",
        "      correlation = get_correlation(tapes[i], tapes[j])\n",
        "      correlation_mean += correlation\n",
        "  return correlation_mean"
      ]
    },
    {
      "cell_type": "markdown",
      "metadata": {
        "id": "jj98yaR4Dnv2"
      },
      "source": [
        "## Prueba"
      ]
    },
    {
      "cell_type": "code",
      "execution_count": null,
      "metadata": {
        "id": "nhh-7NFfDlyo"
      },
      "outputs": [],
      "source": [
        "# Cargar el csv de accuracys\n",
        "df = pd.read_csv('/content/log.csv')\n",
        "\n",
        "# Drop where trained is 0\n",
        "df = df[df['trained'] == 1]\n",
        "\n",
        "# Obtener lista de accs\n",
        "df = df['accuracy']\n",
        "accs = df.to_list()"
      ]
    },
    {
      "cell_type": "code",
      "execution_count": null,
      "metadata": {
        "id": "M9wZg69aDurV"
      },
      "outputs": [],
      "source": [
        "scores = []\n",
        "for model in models:\n",
        "  tapes = get_tapes(model, images[10:12])\n",
        "  value = get_correlation_mean(tapes)\n",
        "  scores.append(float(value))"
      ]
    },
    {
      "cell_type": "code",
      "execution_count": null,
      "metadata": {
        "colab": {
          "base_uri": "https://localhost:8080/",
          "height": 564
        },
        "id": "-nCLB7FdDzQK",
        "outputId": "4ee7714a-915b-4bca-c5d8-aa8d3ddc1b7c"
      },
      "outputs": [
        {
          "data": {
            "image/png": "[encoded data removed]",
            "text/plain": [
              "<Figure size 800x600 with 1 Axes>"
            ]
          },
          "metadata": {},
          "output_type": "display_data"
        }
      ],
      "source": [
        "# Combinar las listas en pares (accuracy, score)\n",
        "paired_data = list(zip(accs, scores))\n",
        "\n",
        "# Ordenar los pares por accuracys\n",
        "paired_data.sort()\n",
        "\n",
        "# Separar las listas nuevamente, ya ordenadas\n",
        "accs, scores = zip(*paired_data)\n",
        "\n",
        "\n",
        "plt.figure(figsize=(8, 6))\n",
        "plt.plot(accs, scores, marker='o', linestyle='-', color='b')\n",
        "\n",
        "# Etiquetas de los ejes\n",
        "plt.xlabel('Accuracy')\n",
        "plt.ylabel('Score')\n",
        "\n",
        "# Título de la gráfica\n",
        "plt.title('Scores vs Accuracies')\n",
        "\n",
        "# Mostrar la gráfica\n",
        "plt.grid(True)\n",
        "plt.show()"
      ]
    },
    {
      "cell_type": "markdown",
      "metadata": {
        "id": "WWZSTmanGdVz"
      },
      "source": [
        "# Prueba con la variación de accuracies"
      ]
    },
    {
      "cell_type": "markdown",
      "metadata": {
        "id": "yiCb7InLHh2v"
      },
      "source": [
        "## Covariance"
      ]
    },
    {
      "cell_type": "code",
      "execution_count": null,
      "metadata": {
        "id": "lyBxOj_CGgYp"
      },
      "outputs": [],
      "source": [
        "import pandas as pd\n",
        "# Cargar el csv de accuracys\n",
        "df = pd.read_csv('/content/log.csv')\n",
        "\n",
        "df_untrained = df[df['trained'] == 1]\n",
        "df_trained = df[df['trained'] == 0]\n",
        "\n",
        "# Obtener lista de accs\n",
        "df = df_untrained['accuracy']\n",
        "accs_untrained = df.to_numpy()\n",
        "\n",
        "df = df_trained['accuracy']\n",
        "accs_trained = df.to_numpy()\n",
        "\n",
        "# Obtener la variación de accs\n",
        "accs_variation = accs_untrained - accs_trained\n",
        "accs_variation = accs_variation.tolist()"
      ]
    },
    {
      "cell_type": "code",
      "execution_count": null,
      "metadata": {
        "id": "fuyrC7pyG_g-"
      },
      "outputs": [],
      "source": [
        "# Get scores covariance\n",
        "scores = []\n",
        "for model in models:\n",
        "  tapes = get_tapes(model, images[2:4])\n",
        "  value = get_covarianze_mean(tapes)\n",
        "  scores.append(float(value))"
      ]
    },
    {
      "cell_type": "code",
      "execution_count": null,
      "metadata": {
        "colab": {
          "base_uri": "https://localhost:8080/",
          "height": 564
        },
        "id": "5gf2clHPHGoA",
        "outputId": "1cde7a3e-68c1-4373-ff63-9041b148e83c"
      },
      "outputs": [
        {
          "data": {
            "image/png": "[encoded data removed]",
            "text/plain": [
              "<Figure size 800x600 with 1 Axes>"
            ]
          },
          "metadata": {},
          "output_type": "display_data"
        }
      ],
      "source": [
        "# Combinar las listas en pares (accuracy, score)\n",
        "paired_data = list(zip(accs_variation, scores))\n",
        "\n",
        "# Ordenar los pares por accuracys\n",
        "paired_data.sort()\n",
        "\n",
        "# Separar las listas nuevamente, ya ordenadas\n",
        "accs_variation, scores = zip(*paired_data)\n",
        "\n",
        "\n",
        "plt.figure(figsize=(8, 6))\n",
        "plt.scatter(accs_variation, scores, marker='o', linestyle='-', color='b')\n",
        "\n",
        "# Etiquetas de los ejes\n",
        "plt.xlabel('Accuracy Variation')\n",
        "plt.ylabel('Score')\n",
        "\n",
        "# Título de la gráfica\n",
        "plt.title('Scores vs Accuracies')\n",
        "\n",
        "# Mostrar la gráfica\n",
        "plt.grid(True)\n",
        "plt.show()"
      ]
    },
    {
      "cell_type": "markdown",
      "metadata": {
        "id": "-u30gFwRHl3c"
      },
      "source": [
        "## Correlación"
      ]
    },
    {
      "cell_type": "code",
      "execution_count": null,
      "metadata": {
        "id": "xVCrl-mhHoJQ"
      },
      "outputs": [],
      "source": [
        "import pandas as pd\n",
        "# Cargar el csv de accuracys\n",
        "df = pd.read_csv('/content/log.csv')\n",
        "\n",
        "df_untrained = df[df['trained'] == 1]\n",
        "df_trained = df[df['trained'] == 0]\n",
        "\n",
        "# Obtener lista de accs\n",
        "df = df_untrained['accuracy']\n",
        "accs_untrained = df.to_numpy()\n",
        "\n",
        "df = df_trained['accuracy']\n",
        "accs_trained = df.to_numpy()\n",
        "\n",
        "# Obtener la variación de accs\n",
        "accs_variation = accs_untrained - accs_trained\n",
        "accs_variation = accs_variation.tolist()"
      ]
    },
    {
      "cell_type": "code",
      "execution_count": null,
      "metadata": {
        "id": "2R41VBMkHqjZ"
      },
      "outputs": [],
      "source": [
        "# Get scores covariance\n",
        "scores = []\n",
        "for model in models:\n",
        "  tapes = get_tapes(model, images[0:2])\n",
        "  value = get_correlation_mean(tapes)\n",
        "  scores.append(float(value))"
      ]
    },
    {
      "cell_type": "code",
      "execution_count": null,
      "metadata": {
        "colab": {
          "base_uri": "https://localhost:8080/",
          "height": 564
        },
        "id": "tWY9yAtxH0kx",
        "outputId": "a4b15ffb-fa64-4195-a5dd-33a74f2e4b93"
      },
      "outputs": [
        {
          "data": {
            "image/png": "[encoded data removed]",
            "text/plain": [
              "<Figure size 800x600 with 1 Axes>"
            ]
          },
          "metadata": {},
          "output_type": "display_data"
        }
      ],
      "source": [
        "# Combinar las listas en pares (accuracy, score)\n",
        "paired_data = list(zip(accs_variation, scores))\n",
        "\n",
        "# Ordenar los pares por accuracys\n",
        "paired_data.sort()\n",
        "\n",
        "# Separar las listas nuevamente, ya ordenadas\n",
        "accs_variation, scores = zip(*paired_data)\n",
        "\n",
        "\n",
        "plt.figure(figsize=(8, 6))\n",
        "plt.scatter(accs_variation, scores, marker='o', linestyle='-', color='b')\n",
        "\n",
        "# Etiquetas de los ejes\n",
        "plt.xlabel('Accuracy Variation')\n",
        "plt.ylabel('Score')\n",
        "\n",
        "# Título de la gráfica\n",
        "plt.title('Scores vs Accuracies')\n",
        "\n",
        "# Mostrar la gráfica\n",
        "plt.grid(True)\n",
        "plt.show()"
      ]
    },
    {
      "cell_type": "markdown",
      "metadata": {
        "id": "vUl1dqCjIDNL"
      },
      "source": [
        "# SYNFLOW"
      ]
    },
    {
      "cell_type": "code",
      "execution_count": null,
      "metadata": {
        "colab": {
          "base_uri": "https://localhost:8080/",
          "height": 106
        },
        "id": "R-OXvvshIFin",
        "outputId": "ce47cc3a-2d4b-4164-aa44-376c6d3c8e7c"
      },
      "outputs": [
        {
          "ename": "SyntaxError",
          "evalue": "invalid syntax (<ipython-input-2-987b2ecbb922>, line 6)",
          "output_type": "error",
          "traceback": [
            "\u001b[0;36m  File \u001b[0;32m\"<ipython-input-2-987b2ecbb922>\"\u001b[0;36m, line \u001b[0;32m6\u001b[0m\n\u001b[0;31m    input =\u001b[0m\n\u001b[0m              ^\u001b[0m\n\u001b[0;31mSyntaxError\u001b[0m\u001b[0;31m:\u001b[0m invalid syntax\n"
          ]
        }
      ],
      "source": [
        "def get_synflow_tapes(model):\n",
        "  # Get the inpút shape of the model\n",
        "  input_shape = model.layers[0].input_shape[1:]\n",
        "\n",
        "  # Generate a input tensor of 1s\n",
        "  input = tf.ones(shape=(1, *input_shape))\n",
        "\n",
        "  # Set the model weights to 1\n",
        "  for layer in model.layers:\n",
        "    layer.set_weights([np.ones(shape=input_shape)])\n",
        "\n",
        "  # Get the gradient Tape using the output respecto a los pesos\n",
        "  with tf.GradientTape() as tape:\n",
        "    tape.watch(model.layers[0].weights[0])\n",
        "    output = model(input)\n",
        "  gradient = tape.gradient(output, model.layers[0].weights[0])\n",
        "\n",
        "  #sum the gradient tape\n",
        "  synflow_tape = tf.reduce_sum(gradient, axis=0)\n",
        "\n",
        "  return synflow_tape\n"
      ]
    }
  ],
  "metadata": {
    "accelerator": "GPU",
    "colab": {
      "gpuType": "T4",
      "provenance": []
    },
    "kernelspec": {
      "display_name": "Python 3",
      "name": "python3"
    },
    "language_info": {
      "codemirror_mode": {
        "name": "ipython",
        "version": 3
      },
      "file_extension": ".py",
      "mimetype": "text/x-python",
      "name": "python",
      "nbconvert_exporter": "python",
      "pygments_lexer": "ipython3",
      "version": "3.12.5"
    }
  },
  "nbformat": 4,
  "nbformat_minor": 0
}
