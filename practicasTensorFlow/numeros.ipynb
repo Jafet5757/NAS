{
 "cells": [
  {
   "cell_type": "code",
   "execution_count": 2,
   "metadata": {},
   "outputs": [
    {
     "name": "stdout",
     "output_type": "stream",
     "text": [
      "Etiquetas de los datos de entrenamiento: [5 0 4 ... 5 6 8]\n"
     ]
    }
   ],
   "source": [
    "import tensorflow as tf\n",
    "from tensorflow import keras\n",
    "from sklearn.model_selection import train_test_split\n",
    "from tensorflow.keras.datasets import mnist\n",
    "import numpy as np\n",
    "import random\n",
    "import os\n",
    "\n",
    "# Definimos la semilla para reproducibilidad\n",
    "seed = 63\n",
    "np.random.seed(seed)\n",
    "random.seed(seed)\n",
    "tf.random.set_seed(seed)\n",
    "\n",
    "os.environ['TF_DETERMINISTIC_OPS'] = '1'\n",
    "os.environ['PYTHONHASHSEED'] = str(seed)\n",
    "\n",
    "(x_train, y_train), (x_test, y_test) = mnist.load_data()\n",
    "\n",
    "# Mostramos las etiquetas de los datos\n",
    "print('Etiquetas de los datos de entrenamiento:', y_train)"
   ]
  },
  {
   "cell_type": "code",
   "execution_count": 3,
   "metadata": {},
   "outputs": [
    {
     "data": {
      "image/png": "[encoded data removed]",
      "text/plain": [
       "<Figure size 640x480 with 10 Axes>"
      ]
     },
     "metadata": {},
     "output_type": "display_data"
    },
    {
     "name": "stdout",
     "output_type": "stream",
     "text": [
      "Dimensiones de los datos de entrenamiento: (60000, 28, 28)\n",
      "Numero de clases: 10\n"
     ]
    }
   ],
   "source": [
    "# Mostramos los datos de los primeros 10 dígitos\n",
    "import matplotlib.pyplot as plt\n",
    "for i in range(10):\n",
    "    plt.subplot(2, 5, i + 1)\n",
    "    plt.imshow(x_train[i], cmap='gray')\n",
    "    plt.title(y_train[i])\n",
    "    plt.axis('off')\n",
    "plt.show()\n",
    "\n",
    "# Mostramos las dimensiones de los datos\n",
    "print('Dimensiones de los datos de entrenamiento:', x_train.shape)\n",
    "print('Numero de clases:', len(set(y_train)))"
   ]
  },
  {
   "cell_type": "markdown",
   "metadata": {},
   "source": [
    "Creamos modelo"
   ]
  },
  {
   "cell_type": "code",
   "execution_count": 7,
   "metadata": {},
   "outputs": [
    {
     "name": "stdout",
     "output_type": "stream",
     "text": [
      "Epoch 1/5\n",
      "\u001b[1m1875/1875\u001b[0m \u001b[32m━━━━━━━━━━━━━━━━━━━━\u001b[0m\u001b[37m\u001b[0m \u001b[1m2s\u001b[0m 575us/step - accuracy: 0.1027 - loss: 2.3297 - val_accuracy: 0.1010 - val_loss: 2.3065\n",
      "Epoch 2/5\n",
      "\u001b[1m1875/1875\u001b[0m \u001b[32m━━━━━━━━━━━━━━━━━━━━\u001b[0m\u001b[37m\u001b[0m \u001b[1m1s\u001b[0m 542us/step - accuracy: 0.1041 - loss: 2.3081 - val_accuracy: 0.1010 - val_loss: 2.3065\n",
      "Epoch 3/5\n",
      "\u001b[1m1875/1875\u001b[0m \u001b[32m━━━━━━━━━━━━━━━━━━━━\u001b[0m\u001b[37m\u001b[0m \u001b[1m1s\u001b[0m 534us/step - accuracy: 0.1040 - loss: 2.3081 - val_accuracy: 0.1010 - val_loss: 2.3065\n",
      "Epoch 4/5\n",
      "\u001b[1m1875/1875\u001b[0m \u001b[32m━━━━━━━━━━━━━━━━━━━━\u001b[0m\u001b[37m\u001b[0m \u001b[1m1s\u001b[0m 518us/step - accuracy: 0.1040 - loss: 2.3081 - val_accuracy: 0.1010 - val_loss: 2.3065\n",
      "Epoch 5/5\n",
      "\u001b[1m1875/1875\u001b[0m \u001b[32m━━━━━━━━━━━━━━━━━━━━\u001b[0m\u001b[37m\u001b[0m \u001b[1m1s\u001b[0m 535us/step - accuracy: 0.1040 - loss: 2.3081 - val_accuracy: 0.1010 - val_loss: 2.3065\n"
     ]
    },
    {
     "data": {
      "text/plain": [
       "<keras.src.callbacks.history.History at 0x227ff54b490>"
      ]
     },
     "execution_count": 7,
     "metadata": {},
     "output_type": "execute_result"
    }
   ],
   "source": [
    "# Creamos el modelo de red neuronal\n",
    "model = keras.Sequential([\n",
    "  keras.layers.Flatten(input_shape=(28, 28)),\n",
    "  keras.layers.Dense(50, activation='tanh', kernel_initializer = 'ones', bias_initializer = 'ones'),\n",
    "  keras.layers.Dense(54, activation='tanh', kernel_initializer = 'ones', bias_initializer = 'ones'),\n",
    "  keras.layers.Dense(10, activation='softmax')\n",
    "])\n",
    "\n",
    "\"\"\" \n",
    "  layers.Dense(\n",
    "        units=50, \n",
    "        activation='relu', \n",
    "        use_bias=True, \n",
    "        kernel_initializer='he_normal', \n",
    "        bias_initializer='zeros', \n",
    "        kernel_regularizer=regularizers.l2(0.01), \n",
    "        bias_regularizer=regularizers.l2(0.01), \n",
    "        activity_regularizer=regularizers.l2(0.01), \n",
    "        kernel_constraint=constraints.max_norm(2.0), \n",
    "        bias_constraint=constraints.max_norm(2.0)\n",
    "    )\n",
    "\"\"\"\n",
    "\n",
    "model.compile(\n",
    "  optimizer='adam',\n",
    "  loss='sparse_categorical_crossentropy',\n",
    "  metrics=['accuracy']\n",
    ")\n",
    "\n",
    "params = {\n",
    "  'batch_size': 32,\n",
    "  'validation_data': (x_test, y_test),\n",
    "  'epochs': 5\n",
    "}\n",
    "\n",
    "# Entrenamos el modelo\n",
    "model.fit(x_train, y_train, **params)"
   ]
  },
  {
   "cell_type": "code",
   "execution_count": 8,
   "metadata": {},
   "outputs": [
    {
     "name": "stdout",
     "output_type": "stream",
     "text": [
      "\u001b[1m313/313\u001b[0m \u001b[32m━━━━━━━━━━━━━━━━━━━━\u001b[0m\u001b[37m\u001b[0m \u001b[1m0s\u001b[0m 428us/step - accuracy: 0.1009 - loss: 2.3058\n",
      "\n",
      "Precisión en los datos de prueba: 0.10100000351667404\n",
      "Error en los datos de prueba: 2.3065052032470703\n"
     ]
    }
   ],
   "source": [
    "# Evaluamos el modelo\n",
    "test_loss, test_acc = model.evaluate(x_test, y_test)\n",
    "\n",
    "print('\\nPrecisión en los datos de prueba:', test_acc)\n",
    "print('Error en los datos de prueba:', test_loss)"
   ]
  },
  {
   "cell_type": "code",
   "execution_count": 6,
   "metadata": {},
   "outputs": [
    {
     "name": "stdout",
     "output_type": "stream",
     "text": [
      "\u001b[1m313/313\u001b[0m \u001b[32m━━━━━━━━━━━━━━━━━━━━\u001b[0m\u001b[37m\u001b[0m \u001b[1m0s\u001b[0m 453us/step\n"
     ]
    },
    {
     "data": {
      "image/png": "[encoded data removed]",
      "text/plain": [
       "<Figure size 640x480 with 1 Axes>"
      ]
     },
     "metadata": {},
     "output_type": "display_data"
    }
   ],
   "source": [
    "# Hacemos predicciones aleatorias\n",
    "predictions = model.predict(x_test)\n",
    "random_index = np.random.randint(0, len(x_test))\n",
    "random_image = x_test[random_index]\n",
    "random_label = y_test[random_index]\n",
    "random_prediction = np.argmax(predictions[random_index])\n",
    "\n",
    "plt.imshow(random_image, cmap='gray')\n",
    "plt.title(f'Etiqueta: {random_label}, Predicción: {random_prediction}')\n",
    "plt.axis('off')\n",
    "plt.show()"
   ]
  }
 ],
 "metadata": {
  "kernelspec": {
   "display_name": "Python 3",
   "language": "python",
   "name": "python3"
  },
  "language_info": {
   "codemirror_mode": {
    "name": "ipython",
    "version": 3
   },
   "file_extension": ".py",
   "mimetype": "text/x-python",
   "name": "python",
   "nbconvert_exporter": "python",
   "pygments_lexer": "ipython3",
   "version": "3.11.4"
  }
 },
 "nbformat": 4,
 "nbformat_minor": 2
}
